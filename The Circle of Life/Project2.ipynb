{
 "cells": [
  {
   "cell_type": "code",
   "execution_count": 1,
   "metadata": {},
   "outputs": [],
   "source": [
    "import random\n",
    "import copy"
   ]
  },
  {
   "cell_type": "code",
   "execution_count": 2,
   "metadata": {},
   "outputs": [],
   "source": [
    "import numpy as np"
   ]
  },
  {
   "cell_type": "code",
   "execution_count": 3,
   "metadata": {},
   "outputs": [],
   "source": [
    "import networkx as nx\n",
    "import matplotlib.pyplot as plt"
   ]
  },
  {
   "cell_type": "code",
   "execution_count": 4,
   "metadata": {},
   "outputs": [],
   "source": [
    "Graphs = [] # contains all 50 different graphs"
   ]
  },
  {
   "cell_type": "code",
   "execution_count": 5,
   "metadata": {
    "scrolled": true
   },
   "outputs": [],
   "source": [
    "while len(Graphs) < 50:\n",
    "    G = nx.cycle_graph(50) #initialise graph\n",
    "    steps = 0\n",
    "    \n",
    "    #print(len(Graphs))\n",
    "    no_of_edges = 0\n",
    "    while steps < 100 : \n",
    "        #print(steps)\n",
    "        r1 = random.randrange(0,50)\n",
    "        d1 = G.degree[r1]\n",
    "\n",
    "        if d1<3:\n",
    "            # lower bound inclusive & upper bound not inclusive in range\n",
    "            # r2 = random.sample(range(r1-5,r1-1), 4)   \n",
    "            l1 = [*range(r1-5,r1-1,1)]\n",
    "            # lower bound inclusive & upper bound not inclusive in range\n",
    "            # r3 = random.sample(range(r1+2,r1+6), 4)\n",
    "            l2 = [*range(r1+2,r1+6,1)]\n",
    "            joinedList = l1 + l2\n",
    "            \n",
    "            #if the nodes go out of the range [0,49] adding/subtracting 50 to make it cyclic\n",
    "            for i in range(8):\n",
    "                if joinedList[i] < 0:\n",
    "                    joinedList[i] += 50\n",
    "                elif joinedList[i] > 49:\n",
    "                    joinedList[i] -= 50\n",
    "            edge_added = False\n",
    "            \n",
    "            stepss = 0 #using this to stop the loop when there are only few edges left\n",
    "            while edge_added == False and stepss < 50:\n",
    "                r2 = random.choice(joinedList)\n",
    "                d2 = G.degree[r2]\n",
    "                if d2<3:\n",
    "                    edge_added = True #the looop will keep running either if the edge has not been added or if the stepss count < 50\n",
    "                    G.add_edge(r1,r2)\n",
    "                stepss += 1\n",
    "        steps += 1\n",
    "    #print(no_of_edges)\n",
    "    Graphs.append(G)\n",
    "    "
   ]
  },
  {
   "cell_type": "code",
   "execution_count": 6,
   "metadata": {},
   "outputs": [],
   "source": [
    "def BFS(G, start, finish):\n",
    "    #print(\"SF\", start, finish)\n",
    "    vis = [0] * 50\n",
    "    q = [[start, 0]] #adding the start node to the queue\n",
    "    #path = list()\n",
    "    vis[start] = 1 #mark the start node as visited\n",
    "    dis = 0\n",
    "    while len(q) != 0:\n",
    "        node =  q.pop(0)\n",
    "        #print(\"path\" , path)\n",
    "        #node = path[-1]\n",
    "        if node[0] == finish :\n",
    "            return node[1]\n",
    "        for j in G[node[0]]:\n",
    "            if vis[j] != 1:\n",
    "                q.append([j, node[1] + 1]) #appending teh negihbors and the distance from the parent\n",
    "                vis[j] = 1"
   ]
  },
  {
   "cell_type": "code",
   "execution_count": 7,
   "metadata": {},
   "outputs": [],
   "source": [
    "def init_rand_pos():\n",
    "    prey = random.randint(0, 49)\n",
    "    pred = random.randint(0, 49)\n",
    "\n",
    "    agent = random.randint(0, 49)\n",
    "    while agent == prey or agent == pred: #loop generates random posiotns for agent until it is different from prey/predator\n",
    "        agent = random.randint(0, 49)\n",
    "    return (prey, pred, agent) "
   ]
  },
  {
   "cell_type": "code",
   "execution_count": 8,
   "metadata": {},
   "outputs": [
    {
     "data": {
      "image/png": "[encoded data removed]",
      "text/plain": [
       "<matplotlib.figure.Figure at 0x1d6a62126a0>"
      ]
     },
     "metadata": {},
     "output_type": "display_data"
    }
   ],
   "source": [
    "nx.draw_circular(Graphs[42], scale = 1, node_size=100, node_color='green')\n",
    "plt.draw()"
   ]
  },
  {
   "cell_type": "code",
   "execution_count": 8,
   "metadata": {},
   "outputs": [],
   "source": [
    "def move_prey(G, prey):\n",
    "    move = random.randint(0, G.degree(prey)) #choosing which neighbor to move to or stay in its location(=0)\n",
    "    if move == 0:\n",
    "        return prey\n",
    "    else:\n",
    "        return [i for i in G.neighbors(prey)][move-1] #forms a list of the neighbors and chooses one of it"
   ]
  },
  {
   "cell_type": "code",
   "execution_count": 9,
   "metadata": {},
   "outputs": [],
   "source": [
    "def move_pred(G, pred, agent):\n",
    "    min_ad = 100\n",
    "    dis_pred = []\n",
    "    dis_pred_choice = []\n",
    "    \n",
    "    for i in G[pred]:\n",
    "        agent_dis = BFS(G, i, agent)\n",
    "        dis_pred.append([i, agent_dis]) #stores all the neighbors and the agent distance from Predator's neighbors\n",
    "        if agent_dis < min_ad:\n",
    "            min_ad = agent_dis #finds minimun among this\n",
    "    \n",
    "    for i in range(len(dis_pred)):\n",
    "        if min_ad == dis_pred[i][1]:\n",
    "            dis_pred_choice.append(dis_pred[i][0]) #adding only the ones that have the same minimum distance\n",
    "            \n",
    "    return random.choice(dis_pred_choice) #breaking ties at random"
   ]
  },
  {
   "cell_type": "code",
   "execution_count": 10,
   "metadata": {},
   "outputs": [],
   "source": [
    "def next_pos_agent(dis):\n",
    "    min_yd = 100\n",
    "    max_dd = -1\n",
    "    nextpos_agent_choice = []\n",
    "    nextpos_agent_temp = []\n",
    "    for i in range(len(dis)):\n",
    "        if dis[i][1] <= min_yd:\n",
    "            min_yd = dis[i][1] #finds minimum distance from the neighbors to the prey\n",
    "            \n",
    "    for i in range(len(dis)):\n",
    "        if dis[i][1] == min_yd:\n",
    "            nextpos_agent_temp.append(dis[i])#add the the neighbors with the smallest distance from prey to the new list\n",
    "    \n",
    "    for i in range(len(nextpos_agent_temp)):#finds maximum distance from the neighbors to the predator among the new list\n",
    "        if nextpos_agent_temp[i][2] > max_dd:\n",
    "            max_dd = nextpos_agent_temp[i][2]\n",
    "    \n",
    "    for i in range(len(nextpos_agent_temp)):#add the the neighbors with the largest distance from predator to the new list\n",
    "        if nextpos_agent_temp[i][2] == max_dd:\n",
    "            nextpos_agent_choice.append(nextpos_agent_temp[i])\n",
    "    \n",
    "    return random.choice(nextpos_agent_choice)#breaking ties at random"
   ]
  },
  {
   "cell_type": "markdown",
   "metadata": {},
   "source": [
    "# Agent 1"
   ]
  },
  {
   "cell_type": "code",
   "execution_count": 66,
   "metadata": {
    "scrolled": true
   },
   "outputs": [
    {
     "name": "stdout",
     "output_type": "stream",
     "text": [
      "50\n",
      "100\n",
      "200\n",
      "500\n",
      "1000\n"
     ]
    }
   ],
   "source": [
    "analytics1 = []\n",
    "time_steps = [50, 100, 200, 500, 1000] #maximum number of steps for each set\n",
    "for steps in time_steps:\n",
    "    print(steps)\n",
    "    success = 0 #agent's survival rate (when it catches the prey)\n",
    "    fail1 = 0 #When agent's gets caught by the predator\n",
    "    fail2 = 0 #when time is up\n",
    "    for j in range(50):  \n",
    "        #print(j)\n",
    "        G = Graphs[j]\n",
    "        for runs in range(100):\n",
    "            prey, pred, agent = init_rand_pos() #initialize random start locations\n",
    "            #print(\"RUN #\", runs)\n",
    "            #print(prey, pred, agent)\n",
    "            time = 0\n",
    "            while time < steps:\n",
    "                min_yd = 100\n",
    "                max_dd = -1\n",
    "                x = BFS(G, agent, pred) #finds distance from agent to predator\n",
    "                y = BFS(G, agent, prey) #finds distance from agent to prey\n",
    "                #print(\"xy\", x, y)\n",
    "                dis = []\n",
    "                select = False \n",
    "                for i in G[agent]:\n",
    "                    #print(\"i\", i)\n",
    "                    prey_dis = BFS(G, i, prey) #finds distance from agent's neighbor to prey\n",
    "                    #print(\"prey_dis\", prey_dis)\n",
    "                    pred_dis = BFS(G, i, pred) #finds distance from agent's neighbor to predator\n",
    "                    \n",
    "                    if prey_dis < y and pred_dis > x:\n",
    "                        select = True\n",
    "                    elif prey_dis < y  and pred_dis == x:\n",
    "                        select = True\n",
    "                    elif prey_dis == y and pred_dis > x:\n",
    "                        select = True\n",
    "                    elif prey_dis == y and pred_dis == x:\n",
    "                        select = True\n",
    "                    elif pred_dis > x:\n",
    "                        select = True\n",
    "                    elif pred_dis == x:\n",
    "                        select = True\n",
    "                    \n",
    "                    #only adds if the neighbor satisfies above conditions\n",
    "                    if select == True:\n",
    "                        dis.append([i, prey_dis, pred_dis])\n",
    "\n",
    "                #print(dis)\n",
    "\n",
    "                if bool(dis) != False: #runs only if there any neighbor satisfies the conditions \n",
    "                    agent = next_pos_agent(dis)[0] \n",
    "                    \n",
    "                #otherwise the agent stays at its position\n",
    "\n",
    "                #print(\"next_pos\", next_pos)       \n",
    "                if agent == prey: #break if the agent finds the prey\n",
    "                    break\n",
    "                \n",
    "                #it cannot move to the predator's location because if teh predator is on the agent's neighbors, the agent won't move\n",
    "                #prey/predator move\n",
    "                prey = move_prey(G, prey)\n",
    "                if agent == prey: #break if the agent finds the prey\n",
    "                    break\n",
    "                pred = move_pred(G, pred, agent)\n",
    "                \n",
    "                #print(prey, pred, agent)\n",
    "                #now if the prey/predator find agent, the run exits\n",
    "                if agent == pred:\n",
    "                    break\n",
    "                time += 1\n",
    "                #print(\"time\",time)\n",
    "            \n",
    "            #if the prey/predator exist at the same location as the agent, then the agent dies\n",
    "            if agent == pred:\n",
    "                fail1 += 1\n",
    "            elif agent == prey:\n",
    "                success += 1\n",
    "            elif time == steps:\n",
    "                fail2 += 1\n",
    "\n",
    "    analytics1.append([success/50, fail1/50, fail2/50]) #appending analytics to a list"
   ]
  },
  {
   "cell_type": "code",
   "execution_count": 67,
   "metadata": {},
   "outputs": [
    {
     "name": "stdout",
     "output_type": "stream",
     "text": [
      "[[79.32, 20.68, 0.0], [79.28, 20.72, 0.0], [79.22, 20.78, 0.0], [78.76, 21.24, 0.0], [79.2, 20.8, 0.0]]\n"
     ]
    }
   ],
   "source": [
    "print(analytics1)"
   ]
  },
  {
   "cell_type": "code",
   "execution_count": 68,
   "metadata": {},
   "outputs": [
    {
     "data": {
      "text/plain": [
       "[<matplotlib.lines.Line2D at 0x2f614619be0>]"
      ]
     },
     "execution_count": 68,
     "metadata": {},
     "output_type": "execute_result"
    },
    {
     "data": {
      "image/png": "[encoded data removed]",
      "text/plain": [
       "<matplotlib.figure.Figure at 0x2f6145cfac8>"
      ]
     },
     "metadata": {},
     "output_type": "display_data"
    }
   ],
   "source": [
    "y = [i[0] for i in analytics1]\n",
    "plt.plot(time_steps, y)"
   ]
  },
  {
   "cell_type": "markdown",
   "metadata": {},
   "source": [
    "# Agent 2"
   ]
  },
  {
   "cell_type": "code",
   "execution_count": 30,
   "metadata": {},
   "outputs": [],
   "source": [
    "def BFSwPred(G, start, finish, pred):\n",
    "    vis = [0] * 50\n",
    "    q = [[start, 0]]\n",
    "    #path = list()\n",
    "    vis[start] = 1\n",
    "    vis[pred] = 1 #marking it visited before so it is not added to queue ever when finding a path\n",
    "    dis = 0\n",
    "    #new_path = -1\n",
    "    #q.append(list([0,0]))\n",
    "    #print(q)\n",
    "    while len(q) != 0:\n",
    "        node =  q.pop(0)\n",
    "        #print(\"path\" , path)\n",
    "        #node = path[-1]\n",
    "        #print(\"node \" , node)\n",
    "        if node[0] == finish :\n",
    "            return node[1]\n",
    "        for i in G[node[0]]:\n",
    "            if vis[i] != 1:\n",
    "                q.append([i, node[1] + 1])\n",
    "                vis[i] = 1"
   ]
  },
  {
   "cell_type": "code",
   "execution_count": 31,
   "metadata": {},
   "outputs": [
    {
     "data": {
      "text/plain": [
       "(34, 47, 47)"
      ]
     },
     "execution_count": 31,
     "metadata": {},
     "output_type": "execute_result"
    }
   ],
   "source": [
    "prey, pred, agent"
   ]
  },
  {
   "cell_type": "code",
   "execution_count": 32,
   "metadata": {
    "scrolled": true
   },
   "outputs": [
    {
     "name": "stdout",
     "output_type": "stream",
     "text": [
      "50\n",
      "100\n",
      "200\n",
      "500\n",
      "1000\n"
     ]
    }
   ],
   "source": [
    "analytics2 = []\n",
    "time_steps = [50, 100, 200, 500, 1000] #maximum number of steps for each set\n",
    "for steps in time_steps:\n",
    "    print(steps)\n",
    "    success = 0\n",
    "    fail1 = 0\n",
    "    fail2 = 0\n",
    "    for j in range(50):  \n",
    "        #print(j)\n",
    "        G = Graphs[j]\n",
    "        for runs in range(100):\n",
    "            prey, pred, agent = init_rand_pos() #initialize random start locations\n",
    "            #print(\"RUN #\", runs)\n",
    "            #print(prey, pred, agent)\n",
    "            time = 0\n",
    "            while time < 1000:\n",
    "                #min_yd = 100\n",
    "                #max_dd = -1\n",
    "                x = BFS(G, agent, pred) #finds distance from agent to predator\n",
    "                y = BFS(G, agent, prey) #finds distance from agent to prey\n",
    "                select = False\n",
    "                dis = []\n",
    "                for i in G[agent]:\n",
    "                    prey_dis = BFSwPred(G, i, prey, pred) #finds distance from agent's neighbor to prey that does not include the predator\n",
    "                    #print(\"prey_dis\", prey_dis)\n",
    "                    \n",
    "                    #if NO path exit loop, agent stays at its location\n",
    "                    if prey_dis == None:\n",
    "                        break\n",
    "                    pred_dis = BFS(G, i, pred) #finds distance from agent's neighbor to predator\n",
    "                    if prey_dis < y and pred_dis > x:\n",
    "                        select = True\n",
    "                    elif prey_dis < y  and pred_dis == x:\n",
    "                        select = True\n",
    "                    elif prey_dis == y and pred_dis > x:\n",
    "                        select = True\n",
    "                    elif prey_dis == y and pred_dis == x:\n",
    "                        select = True\n",
    "                    elif pred_dis > x:\n",
    "                        select = True\n",
    "                    elif pred_dis == x:\n",
    "                        select = True\n",
    "\n",
    "                    if select == True:\n",
    "                        dis.append([i, prey_dis, pred_dis])\n",
    "\n",
    "                #print(dis)\n",
    "\n",
    "                if bool(dis) != False:\n",
    "                    agent = next_pos_agent(dis)[0] \n",
    "\n",
    "                #print(\"next_pos\", next_pos) \n",
    "                #it cannot move to the predator's location because if teh predator is on the agent's neighbors, the agent won't move\n",
    "                if agent == prey: #break if the agent finds the prey\n",
    "                    break\n",
    "                #prey/predator move\n",
    "                prey = move_prey(G, prey)\n",
    "                if agent == prey:  #break if the agent finds the prey\n",
    "                    break\n",
    "                    \n",
    "                pred = move_pred(G, pred, agent)\n",
    "                #print(prey, pred, agent)\n",
    "\n",
    "                if agent == pred:  #now if the predator find agent, the run exits\n",
    "                    break\n",
    "                time += 1\n",
    "                #print(\"time\",time)\n",
    "            \n",
    "             #if the prey/predator exist at the same location as the agent, then the agent dies\n",
    "            if agent == pred:\n",
    "                fail1 += 1\n",
    "            elif agent == prey:\n",
    "                success += 1\n",
    "            elif time == steps:\n",
    "                fail2 += 1\n",
    "\n",
    "    analytics2.append([success/50, fail1/50, fail2/50])  #appending analytics to a list"
   ]
  },
  {
   "cell_type": "code",
   "execution_count": 44,
   "metadata": {},
   "outputs": [
    {
     "name": "stdout",
     "output_type": "stream",
     "text": [
      "[[85.24, 14.76, 0.0], [85.34, 14.66, 0.0], [86.48, 13.52, 0.0], [86.42, 13.58, 0.0], [86.06, 13.94, 0.0]]\n"
     ]
    }
   ],
   "source": [
    "print(analytics2)"
   ]
  },
  {
   "cell_type": "code",
   "execution_count": 45,
   "metadata": {},
   "outputs": [
    {
     "data": {
      "text/plain": [
       "[<matplotlib.lines.Line2D at 0x2f6121b96d8>]"
      ]
     },
     "execution_count": 45,
     "metadata": {},
     "output_type": "execute_result"
    },
    {
     "data": {
      "image/png": "[encoded data removed]",
      "text/plain": [
       "<matplotlib.figure.Figure at 0x2f6122abe10>"
      ]
     },
     "metadata": {},
     "output_type": "display_data"
    }
   ],
   "source": [
    "y = [i[0] for i in analytics2]\n",
    "plt.plot(time_steps, y)"
   ]
  },
  {
   "cell_type": "markdown",
   "metadata": {},
   "source": [
    "# Agent 3"
   ]
  },
  {
   "cell_type": "code",
   "execution_count": 70,
   "metadata": {},
   "outputs": [],
   "source": [
    "'''initialized with 1/49 probability for all the nodes in the graph where the agent is not\n",
    "located and 0 for the node where the agent is present since the prey/predator cannot start at those locations.'''\n",
    "def init_prey_belief(agent):\n",
    "    belief = [1/49] * 50 \n",
    "    belief[agent] = 0\n",
    "    return belief"
   ]
  },
  {
   "cell_type": "code",
   "execution_count": 37,
   "metadata": {},
   "outputs": [],
   "source": [
    "#When the survey drone finds the prey/predator, the agent updates the belief with 1 at the node where the prey/predator exists and 0 for all other nodes.\n",
    "def found(survey_node):\n",
    "    belief = [0] * 50\n",
    "    belief[survey_node] = 1\n",
    "    return belief"
   ]
  },
  {
   "cell_type": "code",
   "execution_count": 38,
   "metadata": {},
   "outputs": [],
   "source": [
    "def not_found(belief, G, survey_node):\n",
    "    \n",
    "    not_in_survey_prob = 1 - belief[survey_node]\n",
    "    belief[survey_node] = 0\n",
    "    for i in range(50):\n",
    "        belief[i] = belief[i]/not_in_survey_prob\n",
    "\n",
    "    return belief"
   ]
  },
  {
   "cell_type": "code",
   "execution_count": 39,
   "metadata": {},
   "outputs": [],
   "source": [
    "def move_prey_belief(belief, G):\n",
    "    belief_new = [0] * 50\n",
    "    for i in range(50):\n",
    "        for j in G[i]:\n",
    "            belief_new[i] += belief[j] * (1/(G.degree(j)+1)) #adds the probability for the prey to move from neighbor j -> i\n",
    "        belief_new[i] += belief[i] * (1/(G.degree(i)+1)) #adds the probability of prey staying at its location\n",
    "        \n",
    "    return belief_new\n",
    "            "
   ]
  },
  {
   "cell_type": "code",
   "execution_count": 40,
   "metadata": {},
   "outputs": [],
   "source": [
    "#ceratin if there is only one node with 1 probability in the graph and rest are 0\n",
    "def certain(belief):\n",
    "    count = 0\n",
    "    for i in range(50):\n",
    "        if belief[i] == 1:\n",
    "            count += 1\n",
    "    return count == 1 "
   ]
  },
  {
   "cell_type": "code",
   "execution_count": 41,
   "metadata": {},
   "outputs": [],
   "source": [
    "def max_prey_belief(belief):\n",
    "    max_value = max(belief) #finds maximum value\n",
    "    choice_ =  []\n",
    "    for i in range(50):\n",
    "        if belief[i] == max_value: #finds all nodes with same highest probability\n",
    "            choice_.append(i)\n",
    "    return random.choice(choice_) #breaking ties at random"
   ]
  },
  {
   "cell_type": "code",
   "execution_count": 69,
   "metadata": {
    "scrolled": true
   },
   "outputs": [
    {
     "name": "stdout",
     "output_type": "stream",
     "text": [
      "50\n",
      "100\n",
      "200\n",
      "500\n",
      "1000\n"
     ]
    }
   ],
   "source": [
    "analytics3 = [] #maximum number of steps for each set\n",
    "time_steps = [50, 100, 200, 500, 1000]\n",
    "for steps in time_steps:\n",
    "    print(steps)\n",
    "    success = 0\n",
    "    fail1 = 0\n",
    "    fail2 = 0\n",
    "    agent_certain = 0\n",
    "    total_steps = 0\n",
    "    for j in range(50):  \n",
    "        #print(j)\n",
    "        G = Graphs[j]\n",
    "        for runs in range(100):\n",
    "            prey, pred, agent = init_rand_pos() #initialize random start locations\n",
    "            #print(\"RUN #\", runs)\n",
    "            #print(\"init\", prey, pred, agent)\n",
    "            belief = init_prey_belief(agent) #initialize belief for prey\n",
    "            time = 0\n",
    "            while time < steps:\n",
    "                #print(belief)\n",
    "                if certain(belief) != True: #only survey if agent is not certain about prey's location\n",
    "                    survey_node = max_prey_belief(belief)\n",
    "                    #print(\"survey_node\", survey_node)\n",
    "                    #print(\"before\", belief, sum(belief))\n",
    "                    if prey == survey_node:\n",
    "                        belief = found(survey_node) #update belief (observational prob)\n",
    "                    else:\n",
    "                        belief = not_found(belief, G, survey_node) #update belief (observational prob)\n",
    "                \n",
    "                if certain(belief) == True:\n",
    "                    agent_certain += 1  #increment counter if the agent is certain about the prey\n",
    "                #print(\"after survey\", belief, sum(belief))\n",
    "                \n",
    "                prey_belief_loc = max_prey_belief(belief) #prey's location at highest node belief\n",
    "                #print(\"prey_belief\", prey_belief)\n",
    "                select = False\n",
    "                dis = []\n",
    "                x = BFS(G, agent, pred)  #finds distance from agent to predator\n",
    "                y = BFS(G, agent, prey_belief_loc)  #finds distance from agent to prey\n",
    "                for k in G[agent]:\n",
    "                    #print(\"i\", i)\n",
    "\n",
    "                    prey_dis = BFS(G, k, prey_belief_loc) #finds distance from agent's neighbor to prey\n",
    "                    #print(\"prey_dis\", prey_dis)\n",
    "                    pred_dis = BFS(G, k, pred) #finds distance from agent's neighbor to predator\n",
    "\n",
    "\n",
    "                    if prey_dis < y and pred_dis > x:\n",
    "                        select = True\n",
    "                    elif prey_dis < y  and pred_dis == x:\n",
    "                        select = True\n",
    "                    elif prey_dis == y and pred_dis > x:\n",
    "                        select = True\n",
    "                    elif prey_dis == y and pred_dis == x:\n",
    "                        select = True\n",
    "                    elif pred_dis > x:\n",
    "                        select = True\n",
    "                    elif pred_dis == x:\n",
    "                        select = True\n",
    "                    \n",
    "                    if select == True:  #only adds if the neighbor satisfies above conditions\n",
    "                        dis.append([k, prey_dis, pred_dis])\n",
    "\n",
    "                #print(dis)\n",
    "\n",
    "                if bool(dis) != False: #runs only if there any neighbor satisfies the conditions \n",
    "                    agent = next_pos_agent(dis)[0] \n",
    "                 #otherwise the agent stays at its position\n",
    "                \n",
    "                #print(\"next_pos\", next_pos)       \n",
    "                if agent == prey: #break if the agent finds the prey\n",
    "                    break\n",
    "\n",
    "                belief = not_found(belief, G, agent) #update belief (observational prob)\n",
    "                \n",
    "                 #prey/predator move\n",
    "                prey = move_prey(G, prey)\n",
    "                \n",
    "                if agent == prey:\n",
    "                    break\n",
    "                    \n",
    "                belief = move_prey_belief(belief, G) #update belief (transitional prob)\n",
    "\n",
    "                #print(\"trans\", belief, sum(belief))\n",
    "                pred = move_pred(G, pred, agent)\n",
    "                #print(\"move\", prey, pred, agent)\n",
    "                 #now if the predator find agent, the run exits\n",
    "                if agent == pred:\n",
    "                    break\n",
    "\n",
    "                time += 1\n",
    "                total_steps += 1\n",
    "                #print(\"time\",time)\n",
    "                \n",
    "            #if the prey/predator exist at the same location as the agent, then the agent dies\n",
    "            if agent == pred:\n",
    "                fail1 += 1\n",
    "            elif agent == prey:\n",
    "                success += 1\n",
    "            elif time == steps:\n",
    "                fail2 += 1\n",
    "\n",
    "    analytics3.append([success/50, fail1/50, fail2/50, agent_certain, total_steps])  #appending analytics to a list"
   ]
  },
  {
   "cell_type": "code",
   "execution_count": 46,
   "metadata": {},
   "outputs": [
    {
     "name": "stdout",
     "output_type": "stream",
     "text": [
      "[[39.14, 60.04, 0.82, 2888, 54336], [40.82, 59.18, 0.0, 3150, 54333], [39.7, 60.3, 0.0, 2955, 54090], [39.74, 60.26, 0.0, 3018, 54163], [40.2, 59.8, 0.0, 2982, 55052]]\n"
     ]
    }
   ],
   "source": [
    "print(analytics3)"
   ]
  },
  {
   "cell_type": "code",
   "execution_count": 47,
   "metadata": {},
   "outputs": [
    {
     "data": {
      "text/plain": [
       "[<matplotlib.lines.Line2D at 0x2f614514f28>]"
      ]
     },
     "execution_count": 47,
     "metadata": {},
     "output_type": "execute_result"
    },
    {
     "data": {
      "image/png": "[encoded data removed]",
      "text/plain": [
       "<matplotlib.figure.Figure at 0x2f6122ad2e8>"
      ]
     },
     "metadata": {},
     "output_type": "display_data"
    }
   ],
   "source": [
    "y = [i[0] for i in analytics3]\n",
    "plt.plot(time_steps, y)"
   ]
  },
  {
   "cell_type": "markdown",
   "metadata": {},
   "source": [
    "# Agent 4"
   ]
  },
  {
   "cell_type": "code",
   "execution_count": 51,
   "metadata": {
    "scrolled": true
   },
   "outputs": [
    {
     "name": "stdout",
     "output_type": "stream",
     "text": [
      "50\n",
      "100\n",
      "200\n",
      "500\n",
      "1000\n"
     ]
    }
   ],
   "source": [
    "analytics4 = []\n",
    "time_steps = [50, 100, 200, 500, 1000]\n",
    "for steps in time_steps:\n",
    "    print(steps)\n",
    "    success = 0\n",
    "    fail1 = 0\n",
    "    fail2 = 0\n",
    "    agent_certain = 0\n",
    "    total_steps = 0\n",
    "    for j in range(50):  \n",
    "        #print(j)\n",
    "        G = Graphs[j]\n",
    "        for runs in range(100):\n",
    "            prey, pred, agent = init_rand_pos()\n",
    "            #print(\"RUN #\", runs)\n",
    "            #print(\"init\", prey, pred, agent)\n",
    "            belief = init_prey_belief(agent)    \n",
    "            time = 0\n",
    "            while time < steps: \n",
    "                if certain(belief) != True:\n",
    "                    survey_node = max_prey_belief(belief,)\n",
    "                    #print(\"survey_node\", survey_node)\n",
    "\n",
    "                    #print(\"before\", belief, sum(belief))\n",
    "                    if prey == survey_node:\n",
    "                        belief = found(survey_node) #update belief (observational prob)\n",
    "                    else:\n",
    "                        belief = not_found(belief, G, survey_node) #update belief (observational prob)\n",
    "\n",
    "                if certain(belief) == True:\n",
    "                    agent_certain += 1\n",
    "                #print(\"after survey\", belief, sum(belief))\n",
    "                prey_belief = max_prey_belief(belief)\n",
    "                #print(\"prey_belief\", prey_belief)\n",
    "                select = False\n",
    "                dis = []\n",
    "                x = BFS(G, agent, pred)\n",
    "                y = BFS(G, agent, prey_belief)\n",
    "                for i in G[agent]:\n",
    "                    #print(\"i\", i)\n",
    "\n",
    "                    prey_dis = BFSwPred(G, i, prey, pred)  #finds distance from agent's neighbor to prey where predator is not located\n",
    "                    #print(\"prey_dis\", prey_dis)\n",
    "                    #agent stays at same location if path not found\n",
    "                    if prey_dis == None:\n",
    "                        break\n",
    "                    #print(\"prey_dis\", prey_dis)\n",
    "                    pred_dis = BFS(G, i, pred)\n",
    "\n",
    "\n",
    "                    if prey_dis < y and pred_dis > x:\n",
    "                        select = True\n",
    "                    elif prey_dis < y  and pred_dis == x:\n",
    "                        select = True\n",
    "                    elif prey_dis == y and pred_dis > x:\n",
    "                        select = True\n",
    "                    elif prey_dis == y and pred_dis == x:\n",
    "                        select = True\n",
    "                    elif pred_dis > x:\n",
    "                        select = True\n",
    "                    elif pred_dis == x:\n",
    "                        select = True\n",
    "\n",
    "                    if select == True:\n",
    "                        dis.append([i, prey_dis, pred_dis])\n",
    "\n",
    "                #print(dis)\n",
    "\n",
    "                if bool(dis) != False:\n",
    "                    agent = next_pos_agent(dis)[0] \n",
    "\n",
    "\n",
    "                #print(\"next_pos\", next_pos)       \n",
    "                if agent == prey or agent == pred:\n",
    "                    break\n",
    "\n",
    "                belief = not_found(belief, G, agent) #update belief (observational prob)\n",
    "\n",
    "                prey = move_prey(G, prey)\n",
    "                belief = move_prey_belief(belief, G)  #update belief (transitional prob)\n",
    "\n",
    "                #print(\"trans\", belief, sum(belief))\n",
    "                pred = move_pred(G, pred, agent)\n",
    "                #print(\"move\", prey, pred, agent)\n",
    "\n",
    "                if agent == prey  or agent == pred:\n",
    "                    break\n",
    "\n",
    "                time += 1\n",
    "                total_steps += 1\n",
    "                #print(\"time\",time)\n",
    "            if agent == pred:\n",
    "                fail1 += 1\n",
    "            elif agent == prey:\n",
    "                success += 1\n",
    "            elif time == steps:\n",
    "                fail2 += 1\n",
    "\n",
    "    analytics4.append([success/50, fail1/50, fail2/50, agent_certain, total_steps])"
   ]
  },
  {
   "cell_type": "code",
   "execution_count": 53,
   "metadata": {},
   "outputs": [
    {
     "name": "stdout",
     "output_type": "stream",
     "text": [
      "[[76.14, 23.86, 0.0, 2264, 38120], [76.06, 23.94, 0.0, 2117, 37454], [77.7, 22.3, 0.0, 2354, 38061], [76.92, 23.08, 0.0, 2312, 38222], [76.16, 23.84, 0.0, 2228, 37787]]\n"
     ]
    }
   ],
   "source": [
    "print(analytics4)"
   ]
  },
  {
   "cell_type": "code",
   "execution_count": 54,
   "metadata": {},
   "outputs": [
    {
     "data": {
      "text/plain": [
       "[<matplotlib.lines.Line2D at 0x2f6145be4a8>]"
      ]
     },
     "execution_count": 54,
     "metadata": {},
     "output_type": "execute_result"
    },
    {
     "data": {
      "image/png": "[encoded data removed]",
      "text/plain": [
       "<matplotlib.figure.Figure at 0x2f614585860>"
      ]
     },
     "metadata": {},
     "output_type": "display_data"
    }
   ],
   "source": [
    "y = [i[0] for i in analytics4]\n",
    "plt.plot(time_steps, y)"
   ]
  },
  {
   "cell_type": "markdown",
   "metadata": {},
   "source": [
    "# Agent 5"
   ]
  },
  {
   "cell_type": "code",
   "execution_count": 55,
   "metadata": {},
   "outputs": [],
   "source": [
    "def move_pred_belief(G, belief, pred, agent):  #transitional prob\n",
    "    \n",
    "    belief_new = [0] * 50\n",
    "\n",
    "    for i in range(50):\n",
    "        next_pred = move_pred(G, pred, agent)\n",
    "        belief_new[next_pred] += 0.6 * belief[i] #since the agent can move to the neighbor with the shorted path to the agent with 0.6 prob\n",
    "        for j in G[i]:\n",
    "            belief_new[j] += 0.4 * belief[i] * (1/G.degree(i)) #and move to any neighbor 0.4 number of times\n",
    "    \n",
    "    return belief_new"
   ]
  },
  {
   "cell_type": "code",
   "execution_count": 56,
   "metadata": {},
   "outputs": [],
   "source": [
    "def init_pred_belief(pred):\n",
    "    belief = [0] * 50\n",
    "    belief[pred] = 1\n",
    "    \n",
    "    return belief"
   ]
  },
  {
   "cell_type": "code",
   "execution_count": 57,
   "metadata": {},
   "outputs": [],
   "source": [
    "def max_pred_belief(belief):\n",
    "    max_value = max(belief)\n",
    "    choice = []\n",
    "    for i in range(50):\n",
    "        if belief[i] == max_value: #finds nodes with same highest prob of predator location\n",
    "            choice.append(i)\n",
    "            \n",
    "    if(len(choice) == 1):\n",
    "        return choice[0]\n",
    "    \n",
    "    prox_agent = []\n",
    "    min_ad = 100\n",
    "    for i in range(len(choice)):\n",
    "        agent_dis = BFS(G, choice[i], agent) #finds shortest distance from these nodes to the agent\n",
    "        if agent_dis < min_ad: \n",
    "            min_ad = agent_dis#stores the smallest distance\n",
    "            prox_agent.append([choice[i], agent_dis]) \n",
    "    \n",
    "    prox_agent_choice = []\n",
    "    for i in range(len(prox_agent)):\n",
    "        if min_ad == prox_agent[i][1]:\n",
    "            prox_agent_choice.append(prox_agent[i][0]) #adds only those nodes with the same smallest distance\n",
    "    \n",
    "    return random.choice(prox_agent_choice) #breaking ties at random"
   ]
  },
  {
   "cell_type": "code",
   "execution_count": 58,
   "metadata": {},
   "outputs": [],
   "source": [
    "def move_pred_distract(G, pred, agent): #predator moving\n",
    "    distracted = np.random.choice(2, 1, [0.6,0.4])[0] \n",
    "    #print(distracted)\n",
    "    #check if distracted or not\n",
    "    if distracted == 0: #not distracted, will move to the neighbor eith tthe shortest distance to agent\n",
    "        min_ad = 100\n",
    "        dis_pred = []\n",
    "        dis_pred_choice = []\n",
    "\n",
    "        for i in G[pred]: #finding shortest distance\n",
    "            agent_dis = BFS(G, i, agent)\n",
    "            dis_pred.append([i, agent_dis])\n",
    "            if agent_dis < min_ad:\n",
    "                min_ad = agent_dis\n",
    "\n",
    "        for i in range(len(dis_pred)): #adding neighbors with the same shortest distance\n",
    "            if min_ad == dis_pred[i][1]:\n",
    "                dis_pred_choice.append(dis_pred[i][0])\n",
    "\n",
    "        return random.choice(dis_pred_choice) #breaking ties at random\n",
    "    \n",
    "    else: #distacted\n",
    "        return random.choice([i for i in G[pred]]) #returns random neighbor to move to"
   ]
  },
  {
   "cell_type": "code",
   "execution_count": 59,
   "metadata": {
    "scrolled": true
   },
   "outputs": [
    {
     "name": "stdout",
     "output_type": "stream",
     "text": [
      "50\n",
      "100\n",
      "200\n",
      "500\n",
      "1000\n"
     ]
    }
   ],
   "source": [
    "analytics5 = []\n",
    "time_steps = [50, 100, 200, 500, 1000]\n",
    "for steps in time_steps:\n",
    "    print(steps)\n",
    "    success = 0\n",
    "    fail1 = 0\n",
    "    fail2 = 0\n",
    "    agent_certain = 0\n",
    "    total_steps = 0\n",
    "    for j in range(50):  \n",
    "        #print(j)\n",
    "        G = Graphs[j]\n",
    "        for runs in range(100):\n",
    "            prey, pred, agent = init_rand_pos()\n",
    "            #print(\"RUN #\", runs)\n",
    "            #print(\"init\", prey, pred, agent)\n",
    "            belief = init_pred_belief(pred)    \n",
    "            time = 0\n",
    "            while time < steps: \n",
    "                if certain(belief) != True:\n",
    "                    survey_node = max_pred_belief(belief)\n",
    "\n",
    "                    #print(\"survey_node\", survey_node)\n",
    "\n",
    "                    #print(\"before\", belief, sum(belief))\n",
    "                    if pred == survey_node:\n",
    "                        belief = found(survey_node)  #update belief (observational prob)\n",
    "                    else:\n",
    "                        belief = not_found(belief, G, survey_node) #update belief (observational prob)\n",
    "\n",
    "                if certain(belief) == True:\n",
    "                    agent_certain += 1\n",
    "                    \n",
    "                #print(\"after survey\", belief, sum(belief))\n",
    "                pred_belief = max_pred_belief(belief) #predator's location at highest prob node\n",
    "                #print(\"pred_belief\", pred_belief)\n",
    "                select = False\n",
    "                dis = []\n",
    "                x = BFS(G, agent, pred_belief)\n",
    "                y = BFS(G, agent, prey)\n",
    "                for i in G[agent]:\n",
    "                    #print(\"i\", i)\n",
    "\n",
    "                    prey_dis = BFS(G, i, prey)\n",
    "                    #print(\"prey_dis\", prey_dis)\n",
    "                    #print(\"prey_dis\", prey_dis)\n",
    "                    pred_dis = BFS(G, i, pred_belief)\n",
    "\n",
    "\n",
    "                    if prey_dis < y and pred_dis > x:\n",
    "                        select = True\n",
    "                    elif prey_dis < y  and pred_dis == x:\n",
    "                        select = True\n",
    "                    elif prey_dis == y and pred_dis > x:\n",
    "                        select = True\n",
    "                    elif prey_dis == y and pred_dis == x:\n",
    "                        select = True\n",
    "                    elif pred_dis > x:\n",
    "                        select = True\n",
    "                    elif pred_dis == x:\n",
    "                        select = True\n",
    "\n",
    "                    if select == True:\n",
    "                        dis.append([i, prey_dis, pred_dis])\n",
    "\n",
    "                #print(dis)\n",
    "\n",
    "                if bool(dis) != False:\n",
    "                    agent = next_pos_agent(dis)[0] \n",
    "\n",
    "\n",
    "                #print(\"next_pos\", next_pos)       \n",
    "                if agent == prey or agent == pred:\n",
    "                    break\n",
    "\n",
    "                belief = not_found(belief, G, agent) #update belief (observational prob)\n",
    "\n",
    "                prey = move_prey(G, prey)\n",
    "\n",
    "                #move distracted predator\n",
    "                pred = move_pred_distract(G, pred, agent)\n",
    "                belief = move_pred_belief(G, belief, pred_belief, agent)  #update belief (transitional prob)\n",
    "                #print(\"trans\", belief, sum(belief))\n",
    "                #print(\"move\", prey, pred, agent)\n",
    "\n",
    "                if agent == prey  or agent == pred:\n",
    "                    break\n",
    "\n",
    "                time += 1\n",
    "                total_steps += 1\n",
    "                #print(\"time\",time)\n",
    "            if agent == pred:\n",
    "                fail1 += 1\n",
    "            elif agent == prey:\n",
    "                success += 1\n",
    "            elif time == steps:\n",
    "                fail2 += 1\n",
    "\n",
    "    analytics5.append([success/50, fail1/50, fail2/50, agent_certain, total_steps])"
   ]
  },
  {
   "cell_type": "code",
   "execution_count": 60,
   "metadata": {},
   "outputs": [
    {
     "name": "stdout",
     "output_type": "stream",
     "text": [
      "[[68.14, 31.54, 0.32, 24111, 42632], [67.88, 32.12, 0.0, 24282, 42644], [66.5, 33.5, 0.0, 24571, 43282], [66.56, 33.44, 0.0, 24348, 42868], [67.52, 32.48, 0.0, 23796, 42722]]\n"
     ]
    }
   ],
   "source": [
    "print(analytics5)"
   ]
  },
  {
   "cell_type": "code",
   "execution_count": 71,
   "metadata": {},
   "outputs": [
    {
     "data": {
      "text/plain": [
       "[<matplotlib.lines.Line2D at 0x2f61467b5f8>]"
      ]
     },
     "execution_count": 71,
     "metadata": {},
     "output_type": "execute_result"
    },
    {
     "data": {
      "image/png": "[encoded data removed]",
      "text/plain": [
       "<matplotlib.figure.Figure at 0x2f614558550>"
      ]
     },
     "metadata": {},
     "output_type": "display_data"
    }
   ],
   "source": [
    "y = [i[0] for i in analytics5]\n",
    "plt.plot(time_steps, y)"
   ]
  },
  {
   "cell_type": "markdown",
   "metadata": {},
   "source": [
    "# Agent 6"
   ]
  },
  {
   "cell_type": "code",
   "execution_count": 61,
   "metadata": {
    "scrolled": true
   },
   "outputs": [
    {
     "name": "stdout",
     "output_type": "stream",
     "text": [
      "50\n",
      "100\n",
      "200\n",
      "500\n",
      "1000\n"
     ]
    }
   ],
   "source": [
    "analytics6 = []\n",
    "time_steps = [50, 100, 200, 500, 1000]\n",
    "for steps in time_steps:\n",
    "    print(steps)\n",
    "    success = 0\n",
    "    fail1 = 0\n",
    "    fail2 = 0\n",
    "    agent_certain = 0\n",
    "    total_steps = 0\n",
    "    for j in range(50):  \n",
    "        #print(j)\n",
    "        G = Graphs[j]\n",
    "        for runs in range(100):\n",
    "            prey, pred, agent = init_rand_pos()\n",
    "            #print(\"RUN #\", runs)\n",
    "            #print(\"init\", prey, pred, agent)\n",
    "            belief = init_pred_belief(pred)    \n",
    "            time = 0\n",
    "            while time < steps: \n",
    "                if certain(belief) != True:\n",
    "                    survey_node = max_pred_belief(belief)\n",
    "                    #print(\"survey_node\", survey_node)\n",
    "\n",
    "                    #print(\"before\", belief, sum(belief))\n",
    "                    if pred == survey_node:\n",
    "                        belief = found(survey_node)\n",
    "                    else:\n",
    "                        belief = not_found(belief, G, survey_node)\n",
    "\n",
    "                if certain(belief) == True:\n",
    "                    agent_certain += 1\n",
    "                \n",
    "                #print(\"after survey\", belief, sum(belief))\n",
    "                pred_belief = max_pred_belief(belief)\n",
    "                #print(\"pred_belief\", pred_belief)\n",
    "                select = False\n",
    "                dis = []\n",
    "                x = BFS(G, agent, pred_belief)\n",
    "                y = BFS(G, agent, prey)\n",
    "                for i in G[agent]:\n",
    "                    #print(\"i\", i)\n",
    "                    prey_dis = BFSwPred(G, i, prey, pred_belief)  #finds distance from agent's neighbor to prey where predator is not int the path\n",
    "                    #print(\"prey_dis\", prey_dis)\n",
    "                    if prey_dis == None:\n",
    "                        break\n",
    "                    #print(\"prey_dis\", prey_dis)\n",
    "                    pred_dis = BFS(G, i, pred_belief)\n",
    "\n",
    "\n",
    "                    if prey_dis < y and pred_dis > x:\n",
    "                        select = True\n",
    "                    elif prey_dis < y  and pred_dis == x:\n",
    "                        select = True\n",
    "                    elif prey_dis == y and pred_dis > x:\n",
    "                        select = True\n",
    "                    elif prey_dis == y and pred_dis == x:\n",
    "                        select = True\n",
    "                    elif pred_dis > x:\n",
    "                        select = True\n",
    "                    elif pred_dis == x:\n",
    "                        select = True\n",
    "\n",
    "                    if select == True:\n",
    "                        dis.append([i, prey_dis, pred_dis])\n",
    "\n",
    "                #print(dis)\n",
    "\n",
    "                if bool(dis) != False:\n",
    "                    agent = next_pos_agent(dis)[0] \n",
    "\n",
    "\n",
    "                #print(\"next_pos\", next_pos)       \n",
    "                if agent == prey or agent == pred:\n",
    "                    break\n",
    "\n",
    "                belief = not_found(belief, G, agent)\n",
    "\n",
    "                prey = move_prey(G, prey)\n",
    "\n",
    "\n",
    "                pred = move_pred_distract(G, pred, agent)\n",
    "                belief = move_pred_belief(G, belief, pred_belief, agent)\n",
    "                #print(\"trans\", belief, sum(belief))\n",
    "                #print(\"move\", prey, pred, agent)\n",
    "\n",
    "                if agent == prey  or agent == pred:\n",
    "                    break\n",
    "\n",
    "                time += 1\n",
    "                total_steps += 1\n",
    "                #print(\"time\",time)\n",
    "            if agent == pred:\n",
    "                fail1 += 1\n",
    "            elif agent == prey:\n",
    "                success += 1\n",
    "            elif time == steps:\n",
    "                fail2 += 1\n",
    "\n",
    "    analytics6.append([success/50, fail1/50, fail2/50, agent_certain, total_steps])"
   ]
  },
  {
   "cell_type": "code",
   "execution_count": 62,
   "metadata": {},
   "outputs": [
    {
     "name": "stdout",
     "output_type": "stream",
     "text": [
      "[[72.34, 27.02, 0.64, 26761, 48757], [72.74, 27.26, 0.0, 26669, 49824], [73.36, 26.64, 0.0, 27295, 50573], [73.28, 26.72, 0.0, 26802, 49957], [74.18, 25.82, 0.0, 27794, 51021]]\n"
     ]
    }
   ],
   "source": [
    "print(analytics6)"
   ]
  },
  {
   "cell_type": "code",
   "execution_count": 72,
   "metadata": {},
   "outputs": [
    {
     "data": {
      "text/plain": [
       "[<matplotlib.lines.Line2D at 0x2f6156aa240>]"
      ]
     },
     "execution_count": 72,
     "metadata": {},
     "output_type": "execute_result"
    },
    {
     "data": {
      "image/png": "[encoded data removed]",
      "text/plain": [
       "<matplotlib.figure.Figure at 0x2f614676ba8>"
      ]
     },
     "metadata": {},
     "output_type": "display_data"
    }
   ],
   "source": [
    "y = [i[0] for i in analytics6]\n",
    "plt.plot(time_steps, y)"
   ]
  },
  {
   "cell_type": "markdown",
   "metadata": {},
   "source": [
    "# Agent 7"
   ]
  },
  {
   "cell_type": "code",
   "execution_count": 63,
   "metadata": {
    "scrolled": true
   },
   "outputs": [
    {
     "name": "stdout",
     "output_type": "stream",
     "text": [
      "50\n",
      "100\n",
      "200\n",
      "500\n",
      "1000\n"
     ]
    }
   ],
   "source": [
    "analytics7 = []\n",
    "time_steps = [50, 100, 200, 500, 1000]\n",
    "for steps in time_steps:\n",
    "    print(steps)\n",
    "    success = 0\n",
    "    fail1 = 0\n",
    "    fail2 = 0\n",
    "    total_steps = 0\n",
    "    agent_certain_prey = 0 #counter for when agent's certain about prey's location\n",
    "    agent_certain_pred = 0 #counter for when agent's certain about predator's location\n",
    "    for j in range(50):  \n",
    "        #print(j)\n",
    "        G = Graphs[j]\n",
    "        for runs in range(100):\n",
    "            prey, pred, agent = init_rand_pos()\n",
    "            #print(\"RUN #\", runs)\n",
    "            #print(\"init\", prey, pred, agent)\n",
    "            belief_prey = init_prey_belief(agent)  #initialize belief for prey\n",
    "            belief_pred = init_pred_belief(pred)     #initialize belief for predator\n",
    "            time = 0\n",
    "            while time < steps: \n",
    "                #survey only predator if it is not certain about predator's location\n",
    "                if certain(belief_pred) != True: \n",
    "                    survey_node = max_pred_belief(belief_pred)\n",
    "\n",
    "                    #print(\"survey_node\", survey_node)\n",
    "\n",
    "                    #print(\"before\", belief, sum(belief))\n",
    "                    if pred == survey_node:\n",
    "                        belief_pred = found(survey_node)\n",
    "                    else:\n",
    "                        belief_pred = not_found(belief_pred, G, survey_node)\n",
    "                elif certain(belief_prey) != True: #if certain about predator andnot about prey then survey for prey\n",
    "                    survey_node = max_prey_belief(belief_prey)\n",
    "\n",
    "                    #print(\"survey_node\", survey_node)\n",
    "\n",
    "                    #print(\"before\", belief, sum(belief))\n",
    "                    if prey == survey_node:\n",
    "                        belief_prey = found(survey_node)\n",
    "                    else:\n",
    "                        belief_prey = not_found(belief_prey, G, survey_node)\n",
    "\n",
    "                if certain(belief_prey) == True: \n",
    "                    agent_certain_prey += 1\n",
    "\n",
    "                if certain(belief_pred) == True: \n",
    "                    agent_certain_pred += 1\n",
    "                #print(\"after survey\", belief, sum(belief))\n",
    "                pred_belief_loc = max_pred_belief(belief_pred)\n",
    "                prey_belief_loc = max_prey_belief(belief_prey)\n",
    "                #print(\"pred_belief\", pred_belief)\n",
    "                select = False\n",
    "                dis = []\n",
    "                x = BFS(G, agent, pred_belief_loc)\n",
    "                y = BFS(G, agent, prey_belief_loc)\n",
    "                for i in G[agent]:\n",
    "                    #print(\"i\", i)\n",
    "                    prey_dis = BFS(G, i, prey_belief_loc)\n",
    "                    #print(\"prey_dis\", prey_dis)\n",
    "                    if prey_dis == None:\n",
    "                        break\n",
    "                    #print(\"prey_dis\", prey_dis)\n",
    "                    pred_dis = BFS(G, i, pred_belief_loc)\n",
    "\n",
    "\n",
    "                    if prey_dis < y and pred_dis > x:\n",
    "                        select = True\n",
    "                    elif prey_dis < y  and pred_dis == x:\n",
    "                        select = True\n",
    "                    elif prey_dis == y and pred_dis > x:\n",
    "                        select = True\n",
    "                    elif prey_dis == y and pred_dis == x:\n",
    "                        select = True\n",
    "                    elif pred_dis > x:\n",
    "                        select = True\n",
    "                    elif pred_dis == x:\n",
    "                        select = True\n",
    "\n",
    "                    if select == True:\n",
    "                        dis.append([i, prey_dis, pred_dis])\n",
    "\n",
    "                #print(dis)\n",
    "\n",
    "                if bool(dis) != False:\n",
    "                    agent = next_pos_agent(dis)[0] \n",
    "\n",
    "\n",
    "                #print(\"next_pos\", next_pos)       \n",
    "                if agent == prey or agent == pred:\n",
    "                    break\n",
    "\n",
    "                belief_prey = not_found(belief_prey, G, agent)\n",
    "                belief_pred = not_found(belief_pred, G, agent)\n",
    "\n",
    "                prey = move_prey(G, prey)          \n",
    "                pred = move_pred_distract(G, pred, agent)\n",
    "\n",
    "                belief_pred = move_pred_belief(G, belief_pred, pred_belief_loc, agent)\n",
    "                belief_prey = move_prey_belief(belief_prey, G)\n",
    "                #print(\"trans\", belief, sum(belief))\n",
    "                #print(\"move\", prey, pred, agent)\n",
    "\n",
    "                if agent == prey  or agent == pred:\n",
    "                    break\n",
    "\n",
    "                time += 1\n",
    "                total_steps += 1\n",
    "                #print(\"time\",time)\n",
    "            if agent == pred:\n",
    "                fail1 += 1\n",
    "            elif agent == prey:\n",
    "                success += 1\n",
    "            elif time == steps:\n",
    "                fail2 += 1\n",
    "\n",
    "    analytics7.append([success/50, fail1/50, fail2/50, agent_certain_prey, agent_certain_pred, total_steps])"
   ]
  },
  {
   "cell_type": "code",
   "execution_count": 75,
   "metadata": {},
   "outputs": [
    {
     "name": "stdout",
     "output_type": "stream",
     "text": [
      "[[39.76, 55.96, 4.28, 83, 37300, 82590], [42.56, 57.3, 0.14, 103, 38286, 86534], [41.8, 58.2, 0.0, 90, 37939, 84506], [41.28, 58.72, 0.0, 91, 38932, 86502], [41.08, 58.92, 0.0, 98, 38811, 87582]]\n"
     ]
    }
   ],
   "source": [
    "print(analytics7)"
   ]
  },
  {
   "cell_type": "code",
   "execution_count": 76,
   "metadata": {},
   "outputs": [
    {
     "data": {
      "text/plain": [
       "[<matplotlib.lines.Line2D at 0x2f61576a438>]"
      ]
     },
     "execution_count": 76,
     "metadata": {},
     "output_type": "execute_result"
    },
    {
     "data": {
      "image/png": "[encoded data removed]",
      "text/plain": [
       "<matplotlib.figure.Figure at 0x2f615672780>"
      ]
     },
     "metadata": {},
     "output_type": "display_data"
    }
   ],
   "source": [
    "y = [i[0] for i in analytics7]\n",
    "plt.plot(time_steps, y)"
   ]
  },
  {
   "cell_type": "markdown",
   "metadata": {},
   "source": [
    "# Agent 8"
   ]
  },
  {
   "cell_type": "code",
   "execution_count": 77,
   "metadata": {
    "scrolled": true
   },
   "outputs": [
    {
     "name": "stdout",
     "output_type": "stream",
     "text": [
      "50\n",
      "100\n",
      "200\n",
      "500\n",
      "1000\n"
     ]
    }
   ],
   "source": [
    "analytics8 = []\n",
    "time_steps = [50, 100, 200, 500, 1000]\n",
    "for steps in time_steps:\n",
    "    print(steps)\n",
    "    success = 0\n",
    "    fail1 = 0\n",
    "    fail2 = 0\n",
    "    total_steps = 0\n",
    "    agent_certain_prey = 0\n",
    "    agent_certain_pred = 0\n",
    "    for j in range(50):  \n",
    "        #print(j)\n",
    "        G = Graphs[j]\n",
    "        for runs in range(100):\n",
    "            prey, pred, agent = init_rand_pos()\n",
    "            #print(\"RUN #\", runs)\n",
    "            #print(\"init\", prey, pred, agent)\n",
    "            belief_prey = init_prey_belief(agent)\n",
    "            belief_pred = init_pred_belief(pred)    \n",
    "            time = 0\n",
    "            while time < steps: \n",
    "                if certain(belief_pred) != True:\n",
    "                    survey_node = max_pred_belief(belief_pred)\n",
    "                    #print(\"survey_node\", survey_node)\n",
    "\n",
    "                    #print(\"before\", belief, sum(belief))\n",
    "                    if pred == survey_node:\n",
    "                        belief_pred = found(survey_node)\n",
    "                    else:\n",
    "                        belief_pred = not_found(belief_pred, G, survey_node)\n",
    "                elif certain(belief_prey) != True:\n",
    "                    survey_node = max_prey_belief(belief_prey)\n",
    "\n",
    "                    #print(\"survey_node\", survey_node)\n",
    "\n",
    "                    #print(\"before\", belief, sum(belief))\n",
    "                    if prey == survey_node:\n",
    "                        belief_prey = found(survey_node)\n",
    "                    else:\n",
    "                        belief_prey = not_found(belief_prey, G, survey_node)\n",
    "\n",
    "                if certain(belief_prey) == True: \n",
    "                    agent_certain_prey += 1\n",
    "\n",
    "                if certain(belief_pred) == True: \n",
    "                    agent_certain_pred += 1\n",
    "\n",
    "                #print(\"after survey\", belief, sum(belief))\n",
    "                pred_belief_loc = max_pred_belief(belief_pred)\n",
    "                prey_belief_loc = max_prey_belief(belief_prey)\n",
    "                #print(\"pred_belief\", pred_belief)\n",
    "                select = False\n",
    "                dis = []\n",
    "                x = BFS(G, agent, pred_belief_loc)\n",
    "                y = BFS(G, agent, prey_belief_loc)\n",
    "                for i in G[agent]:\n",
    "                    #print(\"i\", i)\n",
    "                    prey_dis = BFSwPred(G, i, prey_belief_loc, pred_belief_loc) #finding shortest distance of the oath that does not inlude predator\n",
    "                    #print(\"prey_dis\", prey_dis)\n",
    "                    if prey_dis == None:\n",
    "                        break\n",
    "                    #print(\"prey_dis\", prey_dis)\n",
    "                    pred_dis = BFS(G, i, pred_belief_loc)\n",
    "\n",
    "\n",
    "                    if prey_dis < y and pred_dis > x:\n",
    "                        select = True\n",
    "                    elif prey_dis < y  and pred_dis == x:\n",
    "                        select = True\n",
    "                    elif prey_dis == y and pred_dis > x:\n",
    "                        select = True\n",
    "                    elif prey_dis == y and pred_dis == x:\n",
    "                        select = True\n",
    "                    elif pred_dis > x:\n",
    "                        select = True\n",
    "                    elif pred_dis == x:\n",
    "                        select = True\n",
    "\n",
    "                    if select == True:\n",
    "                        dis.append([i, prey_dis, pred_dis])\n",
    "\n",
    "                #print(dis)\n",
    "\n",
    "                if bool(dis) != False:\n",
    "                    agent = next_pos_agent(dis)[0] \n",
    "\n",
    "\n",
    "                #print(\"next_pos\", next_pos)       \n",
    "                if agent == prey or agent == pred:\n",
    "                    break\n",
    "\n",
    "                belief_prey = not_found(belief_prey, G, agent)\n",
    "                belief_pred = not_found(belief_pred, G, agent)\n",
    "\n",
    "                prey = move_prey(G, prey)          \n",
    "                pred = move_pred_distract(G, pred, agent)\n",
    "\n",
    "                belief_pred = move_pred_belief(G, belief_pred, pred_belief_loc, agent)\n",
    "                belief_prey = move_prey_belief(belief_prey, G)\n",
    "                #print(\"trans\", belief, sum(belief))\n",
    "                #print(\"move\", prey, pred, agent)\n",
    "\n",
    "                if agent == prey  or agent == pred:\n",
    "                    break\n",
    "\n",
    "                time += 1\n",
    "                total_steps += 1\n",
    "                #print(\"time\",time)\n",
    "            if agent == pred:\n",
    "                fail1 += 1\n",
    "            elif agent == prey:\n",
    "                success += 1\n",
    "            elif time == steps:\n",
    "                fail2 += 1\n",
    "\n",
    "    analytics8.append([success/50, fail1/50, fail2/50, agent_certain_prey, agent_certain_pred, total_steps])"
   ]
  },
  {
   "cell_type": "code",
   "execution_count": 80,
   "metadata": {},
   "outputs": [
    {
     "name": "stdout",
     "output_type": "stream",
     "text": [
      "[[46.72, 46.32, 6.96, 97, 43135, 95458], [49.08, 50.62, 0.3, 98, 44109, 99098], [49.16, 50.84, 0.0, 124, 44076, 99420], [50.66, 49.34, 0.0, 106, 43756, 100630], [49.22, 50.78, 0.0, 102, 43892, 101191]]\n"
     ]
    }
   ],
   "source": [
    "print(analytics8)"
   ]
  },
  {
   "cell_type": "code",
   "execution_count": 93,
   "metadata": {},
   "outputs": [
    {
     "data": {
      "text/plain": [
       "[<matplotlib.lines.Line2D at 0x2f61580d390>]"
      ]
     },
     "execution_count": 93,
     "metadata": {},
     "output_type": "execute_result"
    },
    {
     "data": {
      "image/png": "[encoded data removed]",
      "text/plain": [
       "<matplotlib.figure.Figure at 0x2f6157fafd0>"
      ]
     },
     "metadata": {},
     "output_type": "display_data"
    }
   ],
   "source": [
    "y = [i[0] for i in analytics8]\n",
    "plt.plot(time_steps, y)"
   ]
  },
  {
   "cell_type": "markdown",
   "metadata": {},
   "source": [
    "# Agent 7 with defective survey drone and unchanged belief updates"
   ]
  },
  {
   "cell_type": "code",
   "execution_count": 81,
   "metadata": {
    "scrolled": true
   },
   "outputs": [
    {
     "name": "stdout",
     "output_type": "stream",
     "text": [
      "50\n",
      "100\n",
      "200\n",
      "500\n",
      "1000\n"
     ]
    }
   ],
   "source": [
    "analytics7UB = []\n",
    "time_steps = [50, 100, 200, 500, 1000]\n",
    "for steps in time_steps:\n",
    "    print(steps)\n",
    "    success = 0\n",
    "    fail1 = 0\n",
    "    fail2 = 0\n",
    "    total_steps = 0\n",
    "    agent_certain_prey = 0\n",
    "    agent_certain_pred = 0\n",
    "    for j in range(50):\n",
    "        #print(j)\n",
    "        G = Graphs[j]\n",
    "        for runs in range(100):\n",
    "            prey, pred, agent = init_rand_pos()\n",
    "            #print(\"RUN #\", runs)\n",
    "            #print(\"init\", prey, pred, agent)\n",
    "            belief_prey = init_prey_belief(agent)\n",
    "            belief_pred = init_pred_belief(pred)    \n",
    "            time = 0\n",
    "            while time < steps: \n",
    "                if certain(belief_pred) != True:\n",
    "                    survey_node = max_pred_belief(belief_pred)\n",
    "\n",
    "                    #print(\"survey_node\", survey_node)\n",
    "\n",
    "                    #print(\"before\", belief, sum(belief))\n",
    "                    \n",
    "                    \n",
    "                    if pred == survey_node: #if survey drone found predator\n",
    "                        defected = np.random.choice(2, 1, [0.9, 0.1]) \n",
    "                        if defected == 0:\n",
    "                            belief_pred = found(survey_node)\n",
    "                        elif defected == 1:\n",
    "                            belief_pred = not_found(belief_pred, G, survey_node) #false negative\n",
    "                    else:\n",
    "                        belief_pred = not_found(belief_pred, G, survey_node)\n",
    "\n",
    "\n",
    "\n",
    "                elif certain(belief_prey) != True:\n",
    "                    survey_node = max_prey_belief(belief_prey)\n",
    "\n",
    "                    #print(\"survey_node\", survey_node)\n",
    "\n",
    "                    #print(\"before\", belief, sum(belief))\n",
    "                    if prey == survey_node:\n",
    "                        defected = np.random.choice(2, 1, [0.9, 0.1])\n",
    "                        if defected == 0:\n",
    "                            belief_prey = found(survey_node)\n",
    "                        elif defected == 1:\n",
    "                            belief_prey = not_found(belief_prey, G, survey_node) #false negative\n",
    "                    else:\n",
    "                        belief_prey = not_found(belief_prey, G, survey_node)\n",
    "\n",
    "                if certain(belief_prey) == True: \n",
    "                    agent_certain_prey += 1\n",
    "                if certain(belief_pred) == True: \n",
    "                    agent_certain_pred += 1\n",
    "\n",
    "                #print(\"after survey\", belief, sum(belief))\n",
    "                pred_belief_loc = max_pred_belief(belief_pred)\n",
    "                prey_belief_loc = max_prey_belief(belief_prey)\n",
    "                #print(\"pred_belief\", pred_belief)\n",
    "                select = False\n",
    "                dis = []\n",
    "                x = BFS(G, agent, pred_belief_loc)\n",
    "                y = BFS(G, agent, prey_belief_loc)\n",
    "                for i in G[agent]:\n",
    "                    #print(\"i\", i)\n",
    "                    prey_dis = BFS(G, i, prey_belief_loc)\n",
    "                    #print(\"prey_dis\", prey_dis)\n",
    "                    if prey_dis == None:\n",
    "                        break\n",
    "                    #print(\"prey_dis\", prey_dis)\n",
    "                    pred_dis = BFS(G, i, pred_belief_loc)\n",
    "\n",
    "\n",
    "                    if prey_dis < y and pred_dis > x:\n",
    "                        select = True\n",
    "                    elif prey_dis < y  and pred_dis == x:\n",
    "                        select = True\n",
    "                    elif prey_dis == y and pred_dis > x:\n",
    "                        select = True\n",
    "                    elif prey_dis == y and pred_dis == x:\n",
    "                        select = True\n",
    "                    elif pred_dis > x:\n",
    "                        select = True\n",
    "                    elif pred_dis == x:\n",
    "                        select = True\n",
    "\n",
    "                    if select == True:\n",
    "                        dis.append([i, prey_dis, pred_dis])\n",
    "\n",
    "                #print(dis)\n",
    "\n",
    "                if bool(dis) != False:\n",
    "                    agent = next_pos_agent(dis)[0] \n",
    "\n",
    "\n",
    "                #print(\"next_pos\", next_pos)       \n",
    "                if agent == prey or agent == pred:\n",
    "                    break\n",
    "\n",
    "                belief_prey = not_found(belief_prey, G, agent)\n",
    "                belief_pred = not_found(belief_pred, G, agent)\n",
    "\n",
    "                prey = move_prey(G, prey)          \n",
    "                pred = move_pred_distract(G, pred, agent)\n",
    "\n",
    "                belief_pred = move_pred_belief(G, belief_pred, pred_belief_loc, agent)\n",
    "                belief_prey = move_prey_belief(belief_prey, G)\n",
    "                #print(\"trans\", belief, sum(belief))\n",
    "                #print(\"move\", prey, pred, agent)\n",
    "\n",
    "                if agent == prey  or agent == pred:\n",
    "                    break\n",
    "\n",
    "                time += 1\n",
    "                total_steps += 1\n",
    "                #print(\"time\",time)\n",
    "            if agent == pred:\n",
    "                fail1 += 1\n",
    "            elif agent == prey:\n",
    "                success += 1\n",
    "            elif time == steps:\n",
    "                fail2 += 1\n",
    "\n",
    "    analytics7UB.append([success/50, fail1/50, fail2/50, agent_certain_prey, agent_certain_pred, total_steps])"
   ]
  },
  {
   "cell_type": "code",
   "execution_count": 82,
   "metadata": {},
   "outputs": [
    {
     "name": "stdout",
     "output_type": "stream",
     "text": [
      "[[30.76, 67.32, 1.92, 55, 10801, 75113], [32.22, 67.78, 0.0, 62, 10719, 75569], [31.74, 68.26, 0.0, 54, 10636, 75757], [31.98, 68.02, 0.0, 42, 10657, 74738], [32.16, 67.84, 0.0, 62, 10794, 76693]]\n"
     ]
    }
   ],
   "source": [
    "print(analytics7UB)"
   ]
  },
  {
   "cell_type": "code",
   "execution_count": 94,
   "metadata": {},
   "outputs": [
    {
     "data": {
      "text/plain": [
       "[<matplotlib.lines.Line2D at 0x2f61585bf60>]"
      ]
     },
     "execution_count": 94,
     "metadata": {},
     "output_type": "execute_result"
    },
    {
     "data": {
      "image/png": "[encoded data removed]",
      "text/plain": [
       "<matplotlib.figure.Figure at 0x2f61580deb8>"
      ]
     },
     "metadata": {},
     "output_type": "display_data"
    }
   ],
   "source": [
    "y = [i[0] for i in analytics7UB]\n",
    "plt.plot(time_steps, y)"
   ]
  },
  {
   "cell_type": "markdown",
   "metadata": {},
   "source": [
    "# Agent 8 with defective survey drone and unchanged belief updates"
   ]
  },
  {
   "cell_type": "code",
   "execution_count": 83,
   "metadata": {
    "scrolled": true
   },
   "outputs": [
    {
     "name": "stdout",
     "output_type": "stream",
     "text": [
      "50\n",
      "100\n",
      "200\n",
      "500\n",
      "1000\n"
     ]
    }
   ],
   "source": [
    "analytics8UB = []\n",
    "time_steps = [50, 100, 200, 500, 1000]\n",
    "for steps in time_steps:\n",
    "    print(steps)\n",
    "    success = 0\n",
    "    fail1 = 0\n",
    "    fail2 = 0\n",
    "    total_steps = 0\n",
    "    agent_certain_prey = 0\n",
    "    agent_certain_pred = 0\n",
    "    for j in range(50):  \n",
    "        #print(j)\n",
    "        G = Graphs[j]\n",
    "        for runs in range(100):\n",
    "            prey, pred, agent = init_rand_pos()\n",
    "            #print(\"RUN #\", runs)\n",
    "            #print(\"init\", prey, pred, agent)\n",
    "            belief_prey = init_prey_belief(agent)\n",
    "            belief_pred = init_pred_belief(pred)    \n",
    "            time = 0\n",
    "            while time < steps: \n",
    "                if certain(belief_pred) != True:\n",
    "                    survey_node = max_pred_belief(belief_pred)\n",
    "\n",
    "                    #print(\"survey_node\", survey_node)\n",
    "\n",
    "                    #print(\"before\", belief, sum(belief))\n",
    "                    defected = np.random.choice(2, 1, [0.9, 0.1])\n",
    "                    if defected == 0:\n",
    "                        if pred == survey_node:\n",
    "                            belief_pred = found(survey_node)\n",
    "                        else:\n",
    "                            belief_pred = not_found(belief_pred, G, survey_node) #false negative\n",
    "\n",
    "                    elif defected == 1:\n",
    "                        belief_pred = not_found(belief_pred, G, survey_node)\n",
    "\n",
    "                elif certain(belief_prey) != True:\n",
    "                    survey_node = max_prey_belief(belief_prey)       \n",
    "                    #print(\"survey_node\", survey_node)\n",
    "                    #print(\"before\", belief, sum(belief))\n",
    "                    if prey == survey_node:\n",
    "                        defected = np.random.choice(2, 1, [0.9, 0.1])\n",
    "                        if defected == 0:\n",
    "                            belief_prey = found(survey_node)\n",
    "                        elif defected == 1:\n",
    "                            belief_prey = not_found(belief_prey, G, survey_node) #false negative\n",
    "                    else:\n",
    "                        belief_prey = not_found(belief_prey, G, survey_node)\n",
    "\n",
    "                if certain(belief_prey) == True: \n",
    "                    agent_certain_prey += 1\n",
    "                if certain(belief_pred) == True: \n",
    "                    agent_certain_pred += 1\n",
    "\n",
    "                #print(\"after survey\", belief, sum(belief))\n",
    "                pred_belief_loc = max_pred_belief(belief_pred)\n",
    "                prey_belief_loc = max_prey_belief(belief_prey)\n",
    "                #print(\"pred_belief\", pred_belief)\n",
    "                select = False\n",
    "                dis = []\n",
    "                x = BFS(G, agent, pred_belief_loc)\n",
    "                y = BFS(G, agent, prey_belief_loc)\n",
    "                for i in G[agent]:\n",
    "                    #print(\"i\", i)\n",
    "                    prey_dis = BFSwPred(G, i, prey_belief_loc, pred_belief_loc)\n",
    "                    #print(\"prey_dis\", prey_dis)\n",
    "                    if prey_dis == None:\n",
    "                        break\n",
    "                    #print(\"prey_dis\", prey_dis)\n",
    "                    pred_dis = BFS(G, i, pred_belief_loc)\n",
    "\n",
    "\n",
    "                    if prey_dis < y and pred_dis > x:\n",
    "                        select = True\n",
    "                    elif prey_dis < y  and pred_dis == x:\n",
    "                        select = True\n",
    "                    elif prey_dis == y and pred_dis > x:\n",
    "                        select = True\n",
    "                    elif prey_dis == y and pred_dis == x:\n",
    "                        select = True\n",
    "                    elif pred_dis > x:\n",
    "                        select = True\n",
    "                    elif pred_dis == x:\n",
    "                        select = True\n",
    "\n",
    "                    if select == True:\n",
    "                        dis.append([i, prey_dis, pred_dis])\n",
    "\n",
    "                #print(dis)\n",
    "\n",
    "                if bool(dis) != False:\n",
    "                    agent = next_pos_agent(dis)[0] \n",
    "\n",
    "\n",
    "                #print(\"next_pos\", next_pos)       \n",
    "                if agent == prey or agent == pred:\n",
    "                    break\n",
    "\n",
    "                belief_prey = not_found(belief_prey, G, agent)\n",
    "                belief_pred = not_found(belief_pred, G, agent)\n",
    "\n",
    "                prey = move_prey(G, prey)          \n",
    "                pred = move_pred_distract(G, pred, agent)\n",
    "\n",
    "                belief_pred = move_pred_belief(G, belief_pred, pred_belief_loc, agent)\n",
    "                belief_prey = move_prey_belief(belief_prey, G)\n",
    "                #print(\"trans\", belief, sum(belief))\n",
    "                #print(\"move\", prey, pred, agent)\n",
    "\n",
    "                if agent == prey  or agent == pred:\n",
    "                    break\n",
    "\n",
    "                time += 1\n",
    "                total_steps += 1\n",
    "                #print(\"time\",time)\n",
    "            if agent == pred:\n",
    "                fail1 += 1\n",
    "            elif agent == prey:\n",
    "                success += 1\n",
    "            elif time == steps:\n",
    "                fail2 += 1\n",
    "\n",
    "    analytics8UB.append([success/50, fail1/50, fail2/50, agent_certain_prey, agent_certain_pred, total_steps])"
   ]
  },
  {
   "cell_type": "code",
   "execution_count": 84,
   "metadata": {},
   "outputs": [
    {
     "name": "stdout",
     "output_type": "stream",
     "text": [
      "[[33.14, 64.84, 2.02, 48, 10913, 79043], [33.98, 66.02, 0.0, 51, 11206, 81113], [32.82, 67.18, 0.0, 50, 10998, 80107], [34.88, 65.12, 0.0, 57, 11107, 79069], [34.06, 65.94, 0.0, 63, 10906, 79975]]\n"
     ]
    }
   ],
   "source": [
    "print(analytics8UB)"
   ]
  },
  {
   "cell_type": "code",
   "execution_count": 95,
   "metadata": {},
   "outputs": [
    {
     "data": {
      "text/plain": [
       "[<matplotlib.lines.Line2D at 0x2f61456d320>]"
      ]
     },
     "execution_count": 95,
     "metadata": {},
     "output_type": "execute_result"
    },
    {
     "data": {
      "image/png": "[encoded data removed]",
      "text/plain": [
       "<matplotlib.figure.Figure at 0x2f615841da0>"
      ]
     },
     "metadata": {},
     "output_type": "display_data"
    }
   ],
   "source": [
    "y = [i[0] for i in analytics8UB]\n",
    "plt.plot(time_steps, y)"
   ]
  },
  {
   "cell_type": "markdown",
   "metadata": {},
   "source": [
    "# Agent 7 with defective survey drone and corrected belief updates"
   ]
  },
  {
   "cell_type": "code",
   "execution_count": 87,
   "metadata": {},
   "outputs": [],
   "source": [
    "def distracted_drone(not_found_belief, found_belief):\n",
    "    not_found_belief = [0.9 * m for m in not_found_belief] #0.9 times the belief of each node\n",
    "    found_belief = [0.1 * m for m in found_belief] #0.1 times the belief of each node\n",
    "    \n",
    "    return [not_found_belief[i] + found_belief[i] for i in range(50)] #adding both"
   ]
  },
  {
   "cell_type": "code",
   "execution_count": 89,
   "metadata": {
    "scrolled": true
   },
   "outputs": [
    {
     "name": "stdout",
     "output_type": "stream",
     "text": [
      "50\n",
      "100\n",
      "200\n",
      "500\n",
      "1000\n"
     ]
    }
   ],
   "source": [
    "analytics7CB = []\n",
    "time_steps = [50, 100, 200, 500, 1000]\n",
    "for steps in time_steps:\n",
    "    print(steps)\n",
    "    success = 0\n",
    "    fail1 = 0\n",
    "    fail2 = 0\n",
    "    total_steps = 0\n",
    "    agent_certain_prey = 0\n",
    "    agent_certain_pred = 0\n",
    "    for j in range(50):\n",
    "        #print(j)\n",
    "        G = Graphs[j]\n",
    "        for runs in range(100):\n",
    "            prey, pred, agent = init_rand_pos()\n",
    "            #print(\"RUN #\", runs)\n",
    "            #print(\"init\", prey, pred, agent)\n",
    "            belief_prey = init_prey_belief(agent)\n",
    "            belief_pred = init_pred_belief(pred)    \n",
    "            time = 0\n",
    "            while time < steps:             \n",
    "                if certain(belief_pred) != True:\n",
    "                    survey_node = max_pred_belief(belief_pred)\n",
    "\n",
    "                    #print(\"survey_node\", survey_node)\n",
    "\n",
    "                    #print(\"before\", belief, sum(belief))\n",
    "                    \n",
    "                    if pred == survey_node:\n",
    "                        defected = np.random.choice(2, 1, [0.9, 0.1])\n",
    "                        if defected == 0:\n",
    "                            belief_pred = found(survey_node)\n",
    "                        else:\n",
    "                            belief_pred =  distracted_drone(not_found(belief_pred, G, survey_node), found(survey_node)) #corrected belief\n",
    "\n",
    "                    else:\n",
    "                        belief_pred = distracted_drone(not_found(belief_pred, G, survey_node), found(survey_node)) #corrected belief\n",
    "\n",
    "\n",
    "                elif certain(belief_prey) != True:\n",
    "                    survey_node = max_prey_belief(belief_prey)       \n",
    "                    #print(\"survey_node\", survey_node)\n",
    "                    #print(\"before\", belief, sum(belief))\n",
    "                    defected = np.random.choice(2, 1, [0.9, 0.1])\n",
    "                    if prey == survey_node:\n",
    "                        defected = np.random.choice(2, 1, [0.9, 0.1])\n",
    "                        if defected == 0:\n",
    "                            belief_prey = found(survey_node)\n",
    "                        else:\n",
    "                            belief_prey =  distracted_drone(not_found(belief_prey, G, survey_node), found(survey_node)) #corrected belief\n",
    "\n",
    "                    else:\n",
    "                        belief_prey = distracted_drone(not_found(belief_prey, G, survey_node), found(survey_node)) #corrected belief\n",
    "\n",
    "                if certain(belief_prey) == True: \n",
    "                    agent_certain_prey += 1\n",
    "                if certain(belief_pred) == True: \n",
    "                    agent_certain_pred += 1\n",
    "\n",
    "                #print(\"after survey\", belief, sum(belief))\n",
    "                pred_belief_loc = max_pred_belief(belief_pred)\n",
    "                prey_belief_loc = max_prey_belief(belief_prey) \n",
    "                #print(\"pred_belief\", pred_belief)\n",
    "\n",
    "                select = False\n",
    "                dis = []\n",
    "                x = BFS(G, agent, pred_belief_loc)\n",
    "                y = BFS(G, agent, prey_belief_loc)\n",
    "                for i in G[agent]:\n",
    "                    #print(\"i\", i)\n",
    "                    prey_dis = BFS(G, i, prey_belief_loc)\n",
    "                    #print(\"prey_dis\", prey_dis)\n",
    "                    if prey_dis == None:\n",
    "                        break\n",
    "                    #print(\"prey_dis\", prey_dis)\n",
    "                    pred_dis = BFS(G, i, pred_belief_loc)\n",
    "\n",
    "\n",
    "                    if prey_dis < y and pred_dis > x:\n",
    "                        select = True\n",
    "                    elif prey_dis < y  and pred_dis == x:\n",
    "                        select = True\n",
    "                    elif prey_dis == y and pred_dis > x:\n",
    "                        select = True\n",
    "                    elif prey_dis == y and pred_dis == x:\n",
    "                        select = True\n",
    "                    elif pred_dis > x:\n",
    "                        select = True\n",
    "                    elif pred_dis == x:\n",
    "                        select = True\n",
    "\n",
    "                    if select == True:\n",
    "                        dis.append([i, prey_dis, pred_dis])\n",
    "\n",
    "                #print(dis)\n",
    "\n",
    "                if bool(dis) != False:\n",
    "                    agent = next_pos_agent(dis)[0] \n",
    "\n",
    "\n",
    "                #print(\"next_pos\", next_pos)       \n",
    "                if agent == prey or agent == pred:\n",
    "                    break\n",
    "\n",
    "                belief_prey = not_found(belief_prey, G, agent)\n",
    "                belief_pred = not_found(belief_pred, G, agent)\n",
    "\n",
    "                prey = move_prey(G, prey)          \n",
    "                pred = move_pred_distract(G, pred, agent)\n",
    "\n",
    "                belief_pred = move_pred_belief(G, belief_pred, pred_belief_loc, agent)\n",
    "                belief_prey = move_prey_belief(belief_prey, G)\n",
    "                #print(\"trans\", belief, sum(belief))\n",
    "                #print(\"move\", prey, pred, agent)\n",
    "\n",
    "                if agent == prey  or agent == pred:\n",
    "                    break\n",
    "\n",
    "                time += 1\n",
    "                total_steps += 1\n",
    "                #print(\"time\",time)\n",
    "            if agent == pred:\n",
    "                fail1 += 1\n",
    "            elif agent == prey:\n",
    "                success += 1\n",
    "            elif time == steps:\n",
    "                fail2 += 1\n",
    "\n",
    "    analytics7CB.append([success/50, fail1/50, fail2/50, agent_certain_prey, agent_certain_pred, total_steps])"
   ]
  },
  {
   "cell_type": "code",
   "execution_count": 90,
   "metadata": {},
   "outputs": [
    {
     "name": "stdout",
     "output_type": "stream",
     "text": [
      "[[30.44, 67.5, 2.06, 52, 10970, 74529], [30.12, 69.88, 0.0, 47, 11017, 74290], [31.52, 68.48, 0.0, 59, 10819, 72747], [29.98, 70.02, 0.0, 53, 11126, 76475], [30.72, 69.28, 0.0, 49, 10968, 74846]]\n"
     ]
    }
   ],
   "source": [
    "print(analytics7CB)"
   ]
  },
  {
   "cell_type": "code",
   "execution_count": 96,
   "metadata": {},
   "outputs": [
    {
     "data": {
      "text/plain": [
       "[<matplotlib.lines.Line2D at 0x2f6158d0cc0>]"
      ]
     },
     "execution_count": 96,
     "metadata": {},
     "output_type": "execute_result"
    },
    {
     "data": {
      "image/png": "[encoded data removed]",
      "text/plain": [
       "<matplotlib.figure.Figure at 0x2f615824128>"
      ]
     },
     "metadata": {},
     "output_type": "display_data"
    }
   ],
   "source": [
    "y = [i[0] for i in analytics7CB]\n",
    "plt.plot(time_steps, y)"
   ]
  },
  {
   "cell_type": "markdown",
   "metadata": {},
   "source": [
    "# Agent 8 with defective survey drone and corrected belief updates"
   ]
  },
  {
   "cell_type": "code",
   "execution_count": 98,
   "metadata": {},
   "outputs": [],
   "source": [
    "analytics8CB = []\n",
    "time_steps = [50, 100, 200, 500, 1000]\n",
    "for steps in time_steps:\n",
    "    #print(steps)\n",
    "    success = 0\n",
    "    fail1 = 0\n",
    "    fail2 = 0\n",
    "    total_steps = 0\n",
    "    agent_certain_prey = 0\n",
    "    agent_certain_pred = 0\n",
    "    for j in range(50):  \n",
    "        #print(j)\n",
    "        G = Graphs[j]\n",
    "        for runs in range(100):\n",
    "            prey, pred, agent = init_rand_pos()\n",
    "            #print(\"RUN #\", runs)\n",
    "            #print(\"init\", prey, pred, agent)\n",
    "            belief_prey = init_prey_belief(agent)\n",
    "            belief_pred = init_pred_belief(pred)    \n",
    "            time = 0\n",
    "            while time < steps: \n",
    "                if certain(belief_pred) != True:\n",
    "                    survey_node = max_pred_belief(belief_pred)\n",
    "\n",
    "                    #print(\"survey_node\", survey_node)\n",
    "\n",
    "                    #print(\"before\", belief, sum(belief))\n",
    "                    if pred == survey_node:\n",
    "                        defected = np.random.choice(2, 1, [0.9, 0.1])\n",
    "                        if defected == 0:\n",
    "                            belief_pred = found(survey_node)\n",
    "                        else:\n",
    "                            belief_pred =  distracted_drone(not_found(belief_pred, G, survey_node), found(survey_node))\n",
    "\n",
    "                    else:\n",
    "                        belief_pred = distracted_drone(not_found(belief_pred, G, survey_node), found(survey_node))\n",
    "\n",
    "                elif certain(belief_prey) != True:\n",
    "                    survey_node = max_prey_belief(belief_prey)       \n",
    "                    #print(\"survey_node\", survey_node)\n",
    "                    #print(\"before\", belief, sum(belief))\n",
    "                    if prey == survey_node:\n",
    "                        defected = np.random.choice(2, 1, [0.9, 0.1])\n",
    "                        if defected == 0:\n",
    "                            belief_prey = found(survey_node)\n",
    "                        else:\n",
    "                            belief_prey =  distracted_drone(not_found(belief_prey, G, survey_node), found(survey_node))\n",
    "\n",
    "                    else:\n",
    "                        belief_prey = distracted_drone(not_found(belief_prey, G, survey_node), found(survey_node))\n",
    "\n",
    "                if certain(belief_prey) == True: \n",
    "                    agent_certain_prey += 1\n",
    "                if certain(belief_pred) == True: \n",
    "                    agent_certain_pred += 1\n",
    "\n",
    "                #print(\"after survey\", belief, sum(belief))\n",
    "                pred_belief_loc = max_pred_belief(belief_pred)\n",
    "                prey_belief_loc = max_prey_belief(belief_prey) \n",
    "                #print(\"pred_belief\", pred_belief)\n",
    "\n",
    "                select = False\n",
    "                dis = []\n",
    "                x = BFS(G, agent, pred_belief_loc)\n",
    "                y = BFS(G, agent, prey_belief_loc)\n",
    "                for i in G[agent]:\n",
    "                    #print(\"i\", i)\n",
    "                    prey_dis = BFSwPred(G, i, prey_belief_loc, pred_belief_loc)\n",
    "                    #print(\"prey_dis\", prey_dis)\n",
    "                    if prey_dis == None:\n",
    "                        break\n",
    "                    #print(\"prey_dis\", prey_dis)\n",
    "                    pred_dis = BFS(G, i, pred_belief_loc)\n",
    "\n",
    "\n",
    "                    if prey_dis < y and pred_dis > x:\n",
    "                        select = True\n",
    "                    elif prey_dis < y  and pred_dis == x:\n",
    "                        select = True\n",
    "                    elif prey_dis == y and pred_dis > x:\n",
    "                        select = True\n",
    "                    elif prey_dis == y and pred_dis == x:\n",
    "                        select = True\n",
    "                    elif pred_dis > x:\n",
    "                        select = True\n",
    "                    elif pred_dis == x:\n",
    "                        select = True\n",
    "\n",
    "                    if select == True:\n",
    "                        dis.append([i, prey_dis, pred_dis])\n",
    "\n",
    "                #print(dis)\n",
    "\n",
    "                if bool(dis) != False:\n",
    "                    agent = next_pos_agent(dis)[0] \n",
    "\n",
    "\n",
    "                #print(\"next_pos\", next_pos)       \n",
    "                if agent == prey or agent == pred:\n",
    "                    break\n",
    "\n",
    "                belief_prey = not_found(belief_prey, G, agent)\n",
    "                belief_pred = not_found(belief_pred, G, agent)\n",
    "\n",
    "                prey = move_prey(G, prey)          \n",
    "                pred = move_pred_distract(G, pred, agent)\n",
    "\n",
    "                belief_pred = move_pred_belief(G, belief_pred, pred_belief_loc, agent)\n",
    "                belief_prey = move_prey_belief(belief_prey, G)\n",
    "                #print(\"trans\", belief, sum(belief))\n",
    "                #print(\"move\", prey, pred, agent)\n",
    "\n",
    "                if agent == prey  or agent == pred:\n",
    "                    break\n",
    "\n",
    "                time += 1\n",
    "                total_steps += 1\n",
    "                #print(\"time\",time)\n",
    "            if agent == pred:\n",
    "                fail1 += 1\n",
    "            elif agent == prey:\n",
    "                success += 1\n",
    "            elif time == steps:\n",
    "                fail2 += 1\n",
    "\n",
    "    analytics8CB.append([success/50, fail1/50, fail2/50, agent_certain_prey, agent_certain_pred, total_steps])"
   ]
  },
  {
   "cell_type": "code",
   "execution_count": 99,
   "metadata": {},
   "outputs": [
    {
     "name": "stdout",
     "output_type": "stream",
     "text": [
      "[[30.06, 68.04, 1.9, 56, 11116, 75641], [32.1, 67.88, 0.02, 47, 11373, 78274], [31.12, 68.88, 0.0, 51, 11157, 78415], [31.02, 68.98, 0.0, 47, 11045, 77410], [31.1, 68.9, 0.0, 51, 11330, 78146]]\n"
     ]
    }
   ],
   "source": [
    "print(analytics8CB)"
   ]
  },
  {
   "cell_type": "code",
   "execution_count": 103,
   "metadata": {},
   "outputs": [
    {
     "data": {
      "text/plain": [
       "[<matplotlib.lines.Line2D at 0x2f615a50a90>]"
      ]
     },
     "execution_count": 103,
     "metadata": {},
     "output_type": "execute_result"
    },
    {
     "data": {
      "image/png": "[encoded data removed]",
      "text/plain": [
       "<matplotlib.figure.Figure at 0x2f6159cb0f0>"
      ]
     },
     "metadata": {},
     "output_type": "display_data"
    }
   ],
   "source": [
    "y = [i[0] for i in analytics8CB]\n",
    "plt.plot(time_steps, y)"
   ]
  },
  {
   "cell_type": "code",
   "execution_count": null,
   "metadata": {},
   "outputs": [],
   "source": []
  }
 ],
 "metadata": {
  "kernelspec": {
   "display_name": "Python 3",
   "language": "python",
   "name": "python3"
  },
  "language_info": {
   "codemirror_mode": {
    "name": "ipython",
    "version": 3
   },
   "file_extension": ".py",
   "mimetype": "text/x-python",
   "name": "python",
   "nbconvert_exporter": "python",
   "pygments_lexer": "ipython3",
   "version": "3.6.4"
  }
 },
 "nbformat": 4,
 "nbformat_minor": 2
}
