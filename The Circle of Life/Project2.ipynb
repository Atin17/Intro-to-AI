{
 "cells": [
  {
   "cell_type": "code",
   "execution_count": 1,
   "metadata": {},
   "outputs": [],
   "source": [
    "import random\n",
    "import copy"
   ]
  },
  {
   "cell_type": "code",
   "execution_count": 2,
   "metadata": {},
   "outputs": [],
   "source": [
    "import numpy as np"
   ]
  },
  {
   "cell_type": "code",
   "execution_count": 3,
   "metadata": {},
   "outputs": [],
   "source": [
    "import networkx as nx\n",
    "import matplotlib.pyplot as plt"
   ]
  },
  {
   "cell_type": "code",
   "execution_count": 4,
   "metadata": {},
   "outputs": [],
   "source": [
    "Graphs = []\n"
   ]
  },
  {
   "cell_type": "code",
   "execution_count": 5,
   "metadata": {
    "scrolled": true
   },
   "outputs": [],
   "source": [
    "while len(Graphs) < 50:\n",
    "    G = nx.cycle_graph(50)\n",
    "    steps = 0\n",
    "    \n",
    "    #print(len(Graphs))\n",
    "    no_of_edges = 0\n",
    "    while steps < 100 :\n",
    "        #print(steps)\n",
    "        r1 = random.randrange(0,50)\n",
    "        d1 = G.degree[r1]\n",
    "\n",
    "        if d1<3:\n",
    "            # lower bound inclusive & upper bound not inclusive in range\n",
    "            # r2 = random.sample(range(r1-5,r1-1), 4)   \n",
    "            l1 = [*range(r1-5,r1-1,1)]\n",
    "            # lower bound inclusive & upper bound not inclusive in range\n",
    "            # r3 = random.sample(range(r1+2,r1+6), 4)\n",
    "            l2 = [*range(r1+2,r1+6,1)]\n",
    "            joinedList = l1 + l2\n",
    "            for i in range(8):\n",
    "                if joinedList[i] < 0:\n",
    "                    joinedList[i] += 50\n",
    "                elif joinedList[i] > 49:\n",
    "                    joinedList[i] -= 50\n",
    "            edge_added = False\n",
    "            stepss = 0\n",
    "            while edge_added == False and stepss < 50:\n",
    "                r2 = random.choice(joinedList)\n",
    "                d2 = G.degree[r2]\n",
    "                if d2<3:\n",
    "                    edge_added = True\n",
    "                    no_of_edges += 1\n",
    "                    G.add_edge(r1,r2)\n",
    "                stepss += 1\n",
    "        steps += 1\n",
    "    #print(no_of_edges)\n",
    "    Graphs.append(G)\n",
    "    "
   ]
  },
  {
   "cell_type": "code",
   "execution_count": 58,
   "metadata": {},
   "outputs": [],
   "source": [
    "def BFS(G, start, finish):\n",
    "    #print(\"SF\", start, finish)\n",
    "    vis = [0] * 50\n",
    "    q = [[start, 0]]\n",
    "    #path = list()\n",
    "    vis[start] = 1\n",
    "    dis = 0\n",
    "    #new_path = -1\n",
    "    #q.append(list([0,0]))\n",
    "    #print(q)\n",
    "    while len(q) != 0:\n",
    "        node =  q.pop(0)\n",
    "        #print(\"path\" , path)\n",
    "        #node = path[-1]\n",
    "        #print(\"node \" , node)\n",
    "        #print(\"q\", q)\n",
    "        if node[0] == finish :\n",
    "            return node[1]\n",
    "        for j in G[node[0]]:\n",
    "            if vis[j] != 1:\n",
    "                q.append([j, node[1] + 1])\n",
    "                vis[j] = 1"
   ]
  },
  {
   "cell_type": "code",
   "execution_count": 7,
   "metadata": {},
   "outputs": [],
   "source": [
    "def init_rand_pos():\n",
    "    prey = random.randint(0, 49)\n",
    "    pred = random.randint(0, 49)\n",
    "\n",
    "    agent = random.randint(0, 49)\n",
    "    while agent == prey or agent == pred:\n",
    "        agent = random.randint(0, 49)\n",
    "    return (prey, pred, agent) "
   ]
  },
  {
   "cell_type": "code",
   "execution_count": 8,
   "metadata": {},
   "outputs": [
    {
     "data": {
      "image/png": "[encoded data removed]",
      "text/plain": [
       "<matplotlib.figure.Figure at 0x1d6a62126a0>"
      ]
     },
     "metadata": {},
     "output_type": "display_data"
    }
   ],
   "source": [
    "nx.draw_circular(Graphs[42], scale = 1, node_size=100, node_color='green')\n",
    "plt.draw()"
   ]
  },
  {
   "cell_type": "code",
   "execution_count": 43,
   "metadata": {},
   "outputs": [],
   "source": [
    "def move_prey(G, prey):\n",
    "    move = random.randint(0, G.degree(prey))\n",
    "    if move == 0:\n",
    "        return prey\n",
    "    else:\n",
    "        return [i for i in G.neighbors(prey)][move-1]"
   ]
  },
  {
   "cell_type": "code",
   "execution_count": 117,
   "metadata": {},
   "outputs": [],
   "source": [
    "def move_pred(G, pred, agent):\n",
    "    min_ad = 100\n",
    "    dis_pred = []\n",
    "    dis_pred_choice = []\n",
    "    \n",
    "    for i in G[pred]:\n",
    "        agent_dis = BFS(G, i, agent)\n",
    "        dis_pred.append([i, agent_dis])\n",
    "        if agent_dis < min_ad:\n",
    "            min_ad = agent_dis\n",
    "    \n",
    "    for i in range(len(dis_pred)):\n",
    "        if min_ad == dis_pred[i][1]:\n",
    "            dis_pred_choice.append(dis_pred[i][0])\n",
    "            \n",
    "    return random.choice(dis_pred_choice)"
   ]
  },
  {
   "cell_type": "code",
   "execution_count": 47,
   "metadata": {},
   "outputs": [],
   "source": [
    "def next_pos_agent(dis):\n",
    "    min_yd = 100\n",
    "    max_dd = -1\n",
    "    nextpos_agent_choice = []\n",
    "    nextpos_agent_temp = []\n",
    "    for i in range(len(dis)):\n",
    "        if dis[i][1] <= min_yd:\n",
    "            min_yd = dis[i][1]\n",
    "            \n",
    "    for i in range(len(dis)):\n",
    "        if dis[i][1] == min_yd:\n",
    "            nextpos_agent_temp.append(dis[i])\n",
    "    \n",
    "    for i in range(len(nextpos_agent_temp)):\n",
    "        if nextpos_agent_temp[i][2] > max_dd:\n",
    "            max_dd = nextpos_agent_temp[i][2]\n",
    "    \n",
    "    for i in range(len(nextpos_agent_temp)):\n",
    "        if nextpos_agent_temp[i][2] == max_dd:\n",
    "            nextpos_agent_choice.append(nextpos_agent_temp[i])\n",
    "    \n",
    "    return random.choice(nextpos_agent_choice)"
   ]
  },
  {
   "cell_type": "code",
   "execution_count": 59,
   "metadata": {
    "scrolled": true
   },
   "outputs": [
    {
     "data": {
      "text/plain": [
       "13"
      ]
     },
     "execution_count": 59,
     "metadata": {},
     "output_type": "execute_result"
    }
   ],
   "source": [
    "BFS(G, 1, 23)"
   ]
  },
  {
   "cell_type": "markdown",
   "metadata": {},
   "source": [
    "# Agent 1"
   ]
  },
  {
   "cell_type": "code",
   "execution_count": 118,
   "metadata": {
    "scrolled": true
   },
   "outputs": [
    {
     "name": "stdout",
     "output_type": "stream",
     "text": [
      "0\n",
      "1\n",
      "2\n",
      "3\n",
      "4\n",
      "5\n",
      "6\n",
      "7\n",
      "8\n",
      "9\n",
      "10\n",
      "11\n",
      "12\n",
      "13\n",
      "14\n",
      "15\n",
      "16\n",
      "17\n",
      "18\n",
      "19\n",
      "20\n",
      "21\n",
      "22\n",
      "23\n",
      "24\n",
      "25\n",
      "26\n",
      "27\n",
      "28\n",
      "29\n",
      "30\n",
      "31\n",
      "32\n",
      "33\n",
      "34\n",
      "35\n",
      "36\n",
      "37\n",
      "38\n",
      "39\n",
      "40\n",
      "41\n",
      "42\n",
      "43\n",
      "44\n",
      "45\n",
      "46\n",
      "47\n",
      "48\n",
      "49\n"
     ]
    },
    {
     "data": {
      "text/plain": [
       "(0.7872, 0.2128, 0.0)"
      ]
     },
     "execution_count": 118,
     "metadata": {},
     "output_type": "execute_result"
    }
   ],
   "source": [
    "success = 0\n",
    "fail1 = 0\n",
    "fail2 = 0\n",
    "for j in range(50):  \n",
    "    print(j)\n",
    "    G = Graphs[j]\n",
    "    for runs in range(100):\n",
    "        prey, pred, agent = init_rand_pos()\n",
    "        #print(\"RUN #\", runs)\n",
    "        #print(prey, pred, agent)\n",
    "        time = 0\n",
    "        while time < 1000:\n",
    "            min_yd = 100\n",
    "            max_dd = -1\n",
    "            x = BFS(G, agent, pred)\n",
    "            y = BFS(G, agent, prey)\n",
    "            #print(\"xy\", x, y)\n",
    "            dis = []\n",
    "            select = False\n",
    "            for i in G[agent]:\n",
    "                #print(\"i\", i)\n",
    "                prey_dis = BFS(G, i, prey)\n",
    "                #print(\"prey_dis\", prey_dis)\n",
    "                pred_dis = BFS(G, i, pred)\n",
    "                \n",
    "                if prey_dis < y and pred_dis > x:\n",
    "                    select = True\n",
    "                elif prey_dis < y  and pred_dis == x:\n",
    "                    select = True\n",
    "                elif prey_dis == y and pred_dis > x:\n",
    "                    select = True\n",
    "                elif prey_dis == y and pred_dis == x:\n",
    "                    select = True\n",
    "                elif pred_dis > x:\n",
    "                    select = True\n",
    "                elif pred_dis == x:\n",
    "                    select = True\n",
    "                \n",
    "                if select == True:\n",
    "                    dis.append([i, prey_dis, pred_dis])\n",
    "                \n",
    "            #print(dis)\n",
    "            \n",
    "            if bool(dis) != False:\n",
    "                agent = next_pos_agent(dis)[0] \n",
    "                \n",
    "                    \n",
    "            #print(\"next_pos\", next_pos)       \n",
    "            if agent == prey:\n",
    "                break\n",
    "    \n",
    "            prey = move_prey(G, prey)\n",
    "            pred = move_pred(G, pred, agent)\n",
    "            #print(prey, pred, agent)\n",
    "            if agent == prey  or agent == pred:\n",
    "                break\n",
    "            time += 1\n",
    "            #print(\"time\",time)\n",
    "        if agent == pred:\n",
    "            fail1 += 1\n",
    "        elif agent == prey:\n",
    "            success += 1\n",
    "        elif time == 1000:\n",
    "            fail2 += 1\n",
    "        \n",
    "success/5000, fail1/5000, fail2/5000"
   ]
  },
  {
   "cell_type": "markdown",
   "metadata": {},
   "source": [
    "# Agent 2"
   ]
  },
  {
   "cell_type": "code",
   "execution_count": 76,
   "metadata": {},
   "outputs": [],
   "source": [
    "def BFSwPred(G, start, finish, pred):\n",
    "    vis = [0] * 50\n",
    "    q = [[start, 0]]\n",
    "    #path = list()\n",
    "    vis[start] = 1\n",
    "    vis[pred] = 1\n",
    "    dis = 0\n",
    "    #new_path = -1\n",
    "    #q.append(list([0,0]))\n",
    "    #print(q)\n",
    "    while len(q) != 0:\n",
    "        node =  q.pop(0)\n",
    "        #print(\"path\" , path)\n",
    "        #node = path[-1]\n",
    "        #print(\"node \" , node)\n",
    "        if node[0] == finish :\n",
    "            return node[1]\n",
    "        for i in G[node[0]]:\n",
    "            if vis[i] != 1:\n",
    "                q.append([i, node[1] + 1])\n",
    "                vis[i] = 1"
   ]
  },
  {
   "cell_type": "code",
   "execution_count": 75,
   "metadata": {},
   "outputs": [
    {
     "data": {
      "text/plain": [
       "(41, 46, 46)"
      ]
     },
     "execution_count": 75,
     "metadata": {},
     "output_type": "execute_result"
    }
   ],
   "source": [
    "prey, pred, agent"
   ]
  },
  {
   "cell_type": "code",
   "execution_count": 119,
   "metadata": {
    "scrolled": true
   },
   "outputs": [
    {
     "name": "stdout",
     "output_type": "stream",
     "text": [
      "0\n",
      "1\n",
      "2\n",
      "3\n",
      "4\n",
      "5\n",
      "6\n",
      "7\n",
      "8\n",
      "9\n",
      "10\n",
      "11\n",
      "12\n",
      "13\n",
      "14\n",
      "15\n",
      "16\n",
      "17\n",
      "18\n",
      "19\n",
      "20\n",
      "21\n",
      "22\n",
      "23\n",
      "24\n",
      "25\n",
      "26\n",
      "27\n",
      "28\n",
      "29\n",
      "30\n",
      "31\n",
      "32\n",
      "33\n",
      "34\n",
      "35\n",
      "36\n",
      "37\n",
      "38\n",
      "39\n",
      "40\n",
      "41\n",
      "42\n",
      "43\n",
      "44\n",
      "45\n",
      "46\n",
      "47\n",
      "48\n",
      "49\n"
     ]
    },
    {
     "data": {
      "text/plain": [
       "(0.8532, 0.1468, 0.0)"
      ]
     },
     "execution_count": 119,
     "metadata": {},
     "output_type": "execute_result"
    }
   ],
   "source": [
    "success = 0\n",
    "fail1 = 0\n",
    "fail2 = 0\n",
    "for j in range(50):  \n",
    "    print(j)\n",
    "    G = Graphs[j]\n",
    "    for runs in range(100):\n",
    "        prey, pred, agent = init_rand_pos()\n",
    "        #print(\"RUN #\", runs)\n",
    "        #print(prey, pred, agent)\n",
    "        time = 0\n",
    "        while time < 1000:\n",
    "            #min_yd = 100\n",
    "            #max_dd = -1\n",
    "            x = BFS(G, agent, pred)\n",
    "            y = BFS(G, agent, prey)\n",
    "            select = False\n",
    "            dis = []\n",
    "            for i in G[agent]:\n",
    "                prey_dis = BFSwPred(G, i, prey, pred)\n",
    "                #print(\"prey_dis\", prey_dis)\n",
    "                if prey_dis == None:\n",
    "                    break\n",
    "                pred_dis = BFS(G, i, pred)\n",
    "                if prey_dis < y and pred_dis > x:\n",
    "                    select = True\n",
    "                elif prey_dis < y  and pred_dis == x:\n",
    "                    select = True\n",
    "                elif prey_dis == y and pred_dis > x:\n",
    "                    select = True\n",
    "                elif prey_dis == y and pred_dis == x:\n",
    "                    select = True\n",
    "                elif pred_dis > x:\n",
    "                    select = True\n",
    "                elif pred_dis == x:\n",
    "                    select = True\n",
    "                \n",
    "                if select == True:\n",
    "                    dis.append([i, prey_dis, pred_dis])\n",
    "                \n",
    "            #print(dis)\n",
    "            \n",
    "            if bool(dis) != False:\n",
    "                agent = next_pos_agent(dis)[0] \n",
    "                \n",
    "                    \n",
    "            #print(\"next_pos\", next_pos)       \n",
    "            if agent == prey:\n",
    "                break\n",
    "    \n",
    "            prey = move_prey(G, prey)\n",
    "            pred = move_pred(G, pred, agent)\n",
    "            #print(prey, pred, agent)\n",
    "            if agent == prey  or agent == pred:\n",
    "                break\n",
    "            time += 1\n",
    "            #print(\"time\",time)\n",
    "        if agent == pred:\n",
    "            fail1 += 1\n",
    "        elif agent == prey:\n",
    "            success += 1\n",
    "        elif time == 1000:\n",
    "            fail2 += 1\n",
    "        \n",
    "success/5000, fail1/5000, fail2/5000"
   ]
  },
  {
   "cell_type": "markdown",
   "metadata": {},
   "source": [
    "# Agent 3"
   ]
  },
  {
   "cell_type": "code",
   "execution_count": 12,
   "metadata": {},
   "outputs": [],
   "source": [
    "def init_belief(agent):\n",
    "    belief = [1/49] * 50\n",
    "    belief[agent] = 0\n",
    "    return belief"
   ]
  },
  {
   "cell_type": "code",
   "execution_count": 13,
   "metadata": {},
   "outputs": [],
   "source": [
    "def found(survey_node, belief):\n",
    "    belief = [0] * 50\n",
    "    belief[survey_node] = 1\n",
    "    return belief"
   ]
  },
  {
   "cell_type": "code",
   "execution_count": 14,
   "metadata": {},
   "outputs": [],
   "source": [
    "def not_found(belief, G, survey_node):\n",
    "\n",
    "    for i in range(50):\n",
    "        if(i != survey_node):\n",
    "            belief[i] = belief[i]/(1-belief[survey_node])\n",
    "        \n",
    "    belief[survey_node] = 0\n",
    "    return belief"
   ]
  },
  {
   "cell_type": "code",
   "execution_count": 124,
   "metadata": {},
   "outputs": [],
   "source": [
    "def move_prey_belief(belief, G):\n",
    "    belief_new = [0] * 50\n",
    "    for i in range(50):\n",
    "        for j in G[i]:\n",
    "            belief_new[i] += belief[j] * (1/(G.degree(j)+1))\n",
    "        belief_new[i] += belief[i] * (1/(G.degree(i)+1))\n",
    "    return belief_new\n",
    "            "
   ]
  },
  {
   "cell_type": "code",
   "execution_count": 98,
   "metadata": {},
   "outputs": [],
   "source": [
    "def certain(belief):\n",
    "    count = 0\n",
    "    for i in range(50):\n",
    "        if belief[i] == 1:\n",
    "            count += 1\n",
    "    return count == 1 "
   ]
  },
  {
   "cell_type": "code",
   "execution_count": 123,
   "metadata": {},
   "outputs": [],
   "source": [
    "def max_belief(belief, agent):\n",
    "    max_value = max(belief)\n",
    "    choice =  []\n",
    "    for i in range(50):\n",
    "        if belief[i] == max_value:\n",
    "            choice.append(i)\n",
    "    return random.choice(choice)"
   ]
  },
  {
   "cell_type": "code",
   "execution_count": 120,
   "metadata": {
    "scrolled": true
   },
   "outputs": [
    {
     "name": "stdout",
     "output_type": "stream",
     "text": [
      "0\n",
      "1\n",
      "2\n",
      "3\n",
      "4\n",
      "5\n",
      "6\n",
      "7\n",
      "8\n",
      "9\n",
      "10\n",
      "11\n",
      "12\n",
      "13\n",
      "14\n",
      "15\n",
      "16\n",
      "17\n",
      "18\n",
      "19\n",
      "20\n",
      "21\n",
      "22\n",
      "23\n",
      "24\n",
      "25\n",
      "26\n",
      "27\n",
      "28\n",
      "29\n",
      "30\n",
      "31\n",
      "32\n",
      "33\n",
      "34\n",
      "35\n",
      "36\n",
      "37\n",
      "38\n",
      "39\n",
      "40\n",
      "41\n",
      "42\n",
      "43\n",
      "44\n",
      "45\n",
      "46\n",
      "47\n",
      "48\n",
      "49\n"
     ]
    },
    {
     "data": {
      "text/plain": [
       "(0.389, 0.611, 0.0)"
      ]
     },
     "execution_count": 120,
     "metadata": {},
     "output_type": "execute_result"
    }
   ],
   "source": [
    "success = 0\n",
    "fail1 = 0\n",
    "fail2 = 0\n",
    "for j in range(50):  \n",
    "    print(j)\n",
    "    G = Graphs[j]\n",
    "    for runs in range(100):\n",
    "        prey, pred, agent = init_rand_pos()\n",
    "        #print(\"RUN #\", runs)\n",
    "        #print(\"init\", prey, pred, agent)\n",
    "        belief = init_belief(agent)    \n",
    "        time = 0\n",
    "        while time < 1000: \n",
    "            if certain(belief) != True:\n",
    "                survey_node = max_belief(belief, agent)\n",
    "            \n",
    "                #print(\"survey_node\", survey_node)\n",
    "\n",
    "                #print(\"before\", belief, sum(belief))\n",
    "                if prey == survey_node:\n",
    "                    belief = found(survey_node, belief)\n",
    "                else:\n",
    "                    belief = not_found(belief, G, survey_node)\n",
    "            \n",
    "                \n",
    "            #print(\"after survey\", belief, sum(belief))\n",
    "            prey_belief = max_belief(belief, agent)\n",
    "            #print(\"prey_belief\", prey_belief)\n",
    "            select = False\n",
    "            dis = []\n",
    "            x = BFS(G, agent, pred)\n",
    "            y = BFS(G, agent, prey_belief)\n",
    "            for i in G[agent]:\n",
    "                #print(\"i\", i)\n",
    "                \n",
    "                prey_dis = BFS(G, i, prey_belief)\n",
    "                #print(\"prey_dis\", prey_dis)\n",
    "                pred_dis = BFS(G, i, pred)\n",
    "\n",
    "                \n",
    "                if prey_dis < y and pred_dis > x:\n",
    "                    select = True\n",
    "                elif prey_dis < y  and pred_dis == x:\n",
    "                    select = True\n",
    "                elif prey_dis == y and pred_dis > x:\n",
    "                    select = True\n",
    "                elif prey_dis == y and pred_dis == x:\n",
    "                    select = True\n",
    "                elif pred_dis > x:\n",
    "                    select = True\n",
    "                elif pred_dis == x:\n",
    "                    select = True\n",
    "                \n",
    "                if select == True:\n",
    "                    dis.append([i, prey_dis, pred_dis])\n",
    "                \n",
    "            #print(dis)\n",
    "            \n",
    "            if bool(dis) != False:\n",
    "                agent = next_pos_agent(dis)[0] \n",
    "                \n",
    "                    \n",
    "            #print(\"next_pos\", next_pos)       \n",
    "            if agent == prey or agent == pred:\n",
    "                break\n",
    "            \n",
    "            belief = not_found(belief, G, agent)\n",
    "            \n",
    "            prey = move_prey(G, prey)\n",
    "            belief = move_prey_belief(belief, G)\n",
    "            \n",
    "            #print(\"trans\", belief, sum(belief))\n",
    "            pred = move_pred(G, pred, agent)\n",
    "            #print(\"move\", prey, pred, agent)\n",
    "            \n",
    "            if agent == prey  or agent == pred:\n",
    "                break\n",
    "            \n",
    "            time += 1\n",
    "            #print(\"time\",time)\n",
    "        if agent == pred:\n",
    "            fail1 += 1\n",
    "        elif agent == prey:\n",
    "            success += 1\n",
    "        elif time == 1000:\n",
    "            fail2 += 1\n",
    "        \n",
    "success/5000, fail1/5000, fail2/5000"
   ]
  },
  {
   "cell_type": "code",
   "execution_count": 107,
   "metadata": {},
   "outputs": [
    {
     "data": {
      "text/plain": [
       "AtlasView({19: {}, 21: {}, 24: {}})"
      ]
     },
     "execution_count": 107,
     "metadata": {},
     "output_type": "execute_result"
    }
   ],
   "source": [
    "Graphs[9][20]"
   ]
  },
  {
   "cell_type": "code",
   "execution_count": 176,
   "metadata": {},
   "outputs": [
    {
     "data": {
      "text/plain": [
       "4"
      ]
     },
     "execution_count": 176,
     "metadata": {},
     "output_type": "execute_result"
    }
   ],
   "source": [
    "len([n for n in G.neighbors(47)])+1"
   ]
  },
  {
   "cell_type": "markdown",
   "metadata": {},
   "source": [
    "# Agent 4"
   ]
  },
  {
   "cell_type": "code",
   "execution_count": 121,
   "metadata": {
    "scrolled": true
   },
   "outputs": [
    {
     "name": "stdout",
     "output_type": "stream",
     "text": [
      "0\n",
      "1\n",
      "2\n",
      "3\n",
      "4\n",
      "5\n",
      "6\n",
      "7\n",
      "8\n",
      "9\n",
      "10\n",
      "11\n",
      "12\n",
      "13\n",
      "14\n",
      "15\n",
      "16\n",
      "17\n",
      "18\n",
      "19\n",
      "20\n",
      "21\n",
      "22\n",
      "23\n",
      "24\n",
      "25\n",
      "26\n",
      "27\n",
      "28\n",
      "29\n",
      "30\n",
      "31\n",
      "32\n",
      "33\n",
      "34\n",
      "35\n",
      "36\n",
      "37\n",
      "38\n",
      "39\n",
      "40\n",
      "41\n",
      "42\n",
      "43\n",
      "44\n",
      "45\n",
      "46\n",
      "47\n",
      "48\n",
      "49\n"
     ]
    },
    {
     "data": {
      "text/plain": [
       "(0.7712, 0.2288, 0.0)"
      ]
     },
     "execution_count": 121,
     "metadata": {},
     "output_type": "execute_result"
    }
   ],
   "source": [
    "success = 0\n",
    "fail1 = 0\n",
    "fail2 = 0\n",
    "for j in range(50):  \n",
    "    print(j)\n",
    "    G = Graphs[j]\n",
    "    for runs in range(100):\n",
    "        prey, pred, agent = init_rand_pos()\n",
    "        #print(\"RUN #\", runs)\n",
    "        #print(\"init\", prey, pred, agent)\n",
    "        belief = init_belief(agent)    \n",
    "        time = 0\n",
    "        while time < 1000: \n",
    "            if certain(belief) != True:\n",
    "                survey_node = max_belief(belief, agent)\n",
    "            \n",
    "                #print(\"survey_node\", survey_node)\n",
    "\n",
    "                #print(\"before\", belief, sum(belief))\n",
    "                if prey == survey_node:\n",
    "                    belief = found(survey_node, belief)\n",
    "                else:\n",
    "                    belief = not_found(belief, G, survey_node)\n",
    "            \n",
    "                \n",
    "            #print(\"after survey\", belief, sum(belief))\n",
    "            prey_belief = max_belief(belief, agent)\n",
    "            #print(\"prey_belief\", prey_belief)\n",
    "            select = False\n",
    "            dis = []\n",
    "            x = BFS(G, agent, pred)\n",
    "            y = BFS(G, agent, prey_belief)\n",
    "            for i in G[agent]:\n",
    "                #print(\"i\", i)\n",
    "                \n",
    "                prey_dis = BFSwPred(G, i, prey, pred)\n",
    "                #print(\"prey_dis\", prey_dis)\n",
    "                if prey_dis == None:\n",
    "                    break\n",
    "                #print(\"prey_dis\", prey_dis)\n",
    "                pred_dis = BFS(G, i, pred)\n",
    "\n",
    "                \n",
    "                if prey_dis < y and pred_dis > x:\n",
    "                    select = True\n",
    "                elif prey_dis < y  and pred_dis == x:\n",
    "                    select = True\n",
    "                elif prey_dis == y and pred_dis > x:\n",
    "                    select = True\n",
    "                elif prey_dis == y and pred_dis == x:\n",
    "                    select = True\n",
    "                elif pred_dis > x:\n",
    "                    select = True\n",
    "                elif pred_dis == x:\n",
    "                    select = True\n",
    "                \n",
    "                if select == True:\n",
    "                    dis.append([i, prey_dis, pred_dis])\n",
    "                \n",
    "            #print(dis)\n",
    "            \n",
    "            if bool(dis) != False:\n",
    "                agent = next_pos_agent(dis)[0] \n",
    "                \n",
    "                    \n",
    "            #print(\"next_pos\", next_pos)       \n",
    "            if agent == prey or agent == pred:\n",
    "                break\n",
    "            \n",
    "            belief = not_found(belief, G, agent)\n",
    "            \n",
    "            prey = move_prey(G, prey)\n",
    "            belief = move_prey_belief(belief, G)\n",
    "            \n",
    "            #print(\"trans\", belief, sum(belief))\n",
    "            pred = move_pred(G, pred, agent)\n",
    "            #print(\"move\", prey, pred, agent)\n",
    "            \n",
    "            if agent == prey  or agent == pred:\n",
    "                break\n",
    "            \n",
    "            time += 1\n",
    "            #print(\"time\",time)\n",
    "        if agent == pred:\n",
    "            fail1 += 1\n",
    "        elif agent == prey:\n",
    "            success += 1\n",
    "        elif time == 1000:\n",
    "            fail2 += 1\n",
    "        \n",
    "success/5000, fail1/5000, fail2/5000"
   ]
  },
  {
   "cell_type": "code",
   "execution_count": null,
   "metadata": {},
   "outputs": [],
   "source": []
  },
  {
   "cell_type": "markdown",
   "metadata": {},
   "source": [
    "# Agent 5"
   ]
  },
  {
   "cell_type": "code",
   "execution_count": null,
   "metadata": {},
   "outputs": [],
   "source": [
    "def move_pred_belief(G, belief):\n",
    "    distracted = random.r\n",
    "    pred "
   ]
  }
 ],
 "metadata": {
  "kernelspec": {
   "display_name": "Python 3",
   "language": "python",
   "name": "python3"
  },
  "language_info": {
   "codemirror_mode": {
    "name": "ipython",
    "version": 3
   },
   "file_extension": ".py",
   "mimetype": "text/x-python",
   "name": "python",
   "nbconvert_exporter": "python",
   "pygments_lexer": "ipython3",
   "version": "3.6.4"
  }
 },
 "nbformat": 4,
 "nbformat_minor": 2
}
