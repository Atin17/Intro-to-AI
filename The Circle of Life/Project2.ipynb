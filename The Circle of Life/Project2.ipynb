{
 "cells": [
  {
   "cell_type": "code",
   "execution_count": 4,
   "metadata": {},
   "outputs": [],
   "source": [
    "import random"
   ]
  },
  {
   "cell_type": "code",
   "execution_count": 1,
   "metadata": {},
   "outputs": [],
   "source": [
    "import numpy as np"
   ]
  },
  {
   "cell_type": "code",
   "execution_count": null,
   "metadata": {},
   "outputs": [],
   "source": [
    "def move_prey():\n",
    "    nbr = len(adj)\n",
    "    dir = np.random(4)"
   ]
  },
  {
   "cell_type": "code",
   "execution_count": 2,
   "metadata": {},
   "outputs": [],
   "source": [
    "import networkx as nx\n",
    "import matplotlib.pyplot as plt\n",
    "\n",
    "\n"
   ]
  },
  {
   "cell_type": "code",
   "execution_count": 10,
   "metadata": {},
   "outputs": [],
   "source": [
    "Graphs = []"
   ]
  },
  {
   "cell_type": "code",
   "execution_count": 85,
   "metadata": {},
   "outputs": [
    {
     "data": {
      "text/plain": [
       "50"
      ]
     },
     "execution_count": 85,
     "metadata": {},
     "output_type": "execute_result"
    }
   ],
   "source": [
    "no_of_edges = 0\n",
    "G = nx.cycle_graph(50)\n",
    "while no_of_edges <= 25:\n",
    "    r1 = random.randrange(0,49)\n",
    "    d1 = G.degree[r1]\n",
    "\n",
    "    if d1<3:\n",
    "        # lower bound inclusive & upper bound not inclusive in range\n",
    "        # r2 = random.sample(range(r1-5,r1-1), 4)   \n",
    "        l1 = [*range(r1-5,r1,1)]\n",
    "        # lower bound inclusive & upper bound not inclusive in range\n",
    "        # r3 = random.sample(range(r1+2,r1+6), 4)\n",
    "        l2 = [*range(r1+1,r1+6,1)]\n",
    "        joinedList = l1 + l2\n",
    "        for i in range(10):\n",
    "            if joinedList[i] < 0:\n",
    "                joinedList[i] += 50\n",
    "            elif joinedList[i] > 49:\n",
    "                joinedList[i] -= 50\n",
    "        edge_added = False\n",
    "        while edge_added == False:\n",
    "            r2 = random.choice(joinedList)\n",
    "            d2 = G.degree[r2]\n",
    "            if d2<3:\n",
    "                edge_added = True\n",
    "                G.add_edge(r1,r2)\n",
    "                no_of_edges += 1\n",
    "Graphs.append(G)\n",
    "len(Graphs)"
   ]
  },
  {
   "cell_type": "code",
   "execution_count": 155,
   "metadata": {},
   "outputs": [
    {
     "data": {
      "image/png": "[encoded data removed]",
      "text/plain": [
       "<matplotlib.figure.Figure at 0x22ef6ef46d8>"
      ]
     },
     "metadata": {},
     "output_type": "display_data"
    }
   ],
   "source": [
    "def gen_graphs():\n",
    "    no_of_edges = 0\n",
    "    G = nx.cycle_graph(50)\n",
    "    while no_of_edges <= 25:\n",
    "        r1 = random.randrange(0,49)\n",
    "        d1 = G.degree[r1]\n",
    "\n",
    "        if d1<3:\n",
    "            # lower bound inclusive & upper bound not inclusive in range\n",
    "            # r2 = random.sample(range(r1-5,r1-1), 4)   \n",
    "            l1 = [*range(r1-5,r1,1)]\n",
    "            # lower bound inclusive & upper bound not inclusive in range\n",
    "            # r3 = random.sample(range(r1+2,r1+6), 4)\n",
    "            l2 = [*range(r1+1,r1+6,1)]\n",
    "            joinedList = l1 + l2\n",
    "            for i in range(10):\n",
    "                if joinedList[i] < 0:\n",
    "                    joinedList[i] += 50\n",
    "                elif joinedList[i] > 49:\n",
    "                    joinedList[i] -= 50\n",
    "            edge_added = False\n",
    "            while edge_added == False:\n",
    "                r2 = random.choice(joinedList)\n",
    "                d2 = G.degree[r2]\n",
    "                if d2<3:\n",
    "                    edge_added = True\n",
    "                    G.add_edge(r1,r2)\n",
    "                    no_of_edges += 1\n",
    "    return G\n",
    "\n",
    "nx.draw_circular(G, scale = 1, node_size=100, node_color='green')\n",
    "plt.draw()"
   ]
  },
  {
   "cell_type": "code",
   "execution_count": 99,
   "metadata": {},
   "outputs": [],
   "source": [
    "def BFS(G, start, finish):\n",
    "    vis = [0] * 50\n",
    "    q = [[start, 0]]\n",
    "    #path = list()\n",
    "    vis[start] = 1\n",
    "    dis = 0\n",
    "    #q.append(list([0,0]))\n",
    "    #print(q)\n",
    "    while len(q) != 0:\n",
    "        node = q.pop(0)\n",
    "        #print(\"q \" , q)\n",
    "        #node = path[-1]\n",
    "        #print(\"Path \" , path)\n",
    "        if node[0] == finish :\n",
    "            return node[1]\n",
    "        for i in G[node[0]]:\n",
    "            if vis[i] != 1:\n",
    "                #new_path = list(path)\n",
    "                #print(\"new_path1 \" , new_path)\n",
    "                #new_path.append(i)\n",
    "                q.append([i, node[1]+1])\n",
    "                vis[i] = 1"
   ]
  },
  {
   "cell_type": "code",
   "execution_count": 88,
   "metadata": {},
   "outputs": [],
   "source": [
    "def init_rand_pos():\n",
    "    prey = random.randint(0, 49)\n",
    "    pred = random.randint(0, 49)\n",
    "\n",
    "    agent = random.randint(0, 49)\n",
    "    while agent == prey or agent == pred:\n",
    "        agent = random.randint(0, 49)\n",
    "    return (prey, pred, agent) "
   ]
  },
  {
   "cell_type": "code",
   "execution_count": 136,
   "metadata": {},
   "outputs": [
    {
     "data": {
      "text/plain": [
       "AtlasView({48: {}, 0: {}})"
      ]
     },
     "execution_count": 136,
     "metadata": {},
     "output_type": "execute_result"
    }
   ],
   "source": [
    "G[49]"
   ]
  },
  {
   "cell_type": "code",
   "execution_count": 89,
   "metadata": {},
   "outputs": [],
   "source": [
    "def move_prey(prey):\n",
    "    move = random.randint(0, 2)\n",
    "    if move == 0:\n",
    "        return prey\n",
    "    else:\n",
    "        return [i for i in G.neighbors(prey)][move-1]"
   ]
  },
  {
   "cell_type": "code",
   "execution_count": 90,
   "metadata": {},
   "outputs": [],
   "source": [
    "def move_pred(pred, agent):\n",
    "    min_ad = 100\n",
    "    for i in G[agent]:\n",
    "        agent_dis = BFS(G, i, agent)\n",
    "        if agent_dis < min_ad:\n",
    "            min_ad = agent_dis\n",
    "            next = i\n",
    "    return next"
   ]
  },
  {
   "cell_type": "markdown",
   "metadata": {},
   "source": [
    "# Agent 1"
   ]
  },
  {
   "cell_type": "code",
   "execution_count": 120,
   "metadata": {},
   "outputs": [
    {
     "data": {
      "text/plain": [
       "3"
      ]
     },
     "execution_count": 120,
     "metadata": {},
     "output_type": "execute_result"
    }
   ],
   "source": [
    "move = random.randint(0, 3)\n",
    "move"
   ]
  },
  {
   "cell_type": "code",
   "execution_count": 103,
   "metadata": {
    "scrolled": true
   },
   "outputs": [
    {
     "name": "stdout",
     "output_type": "stream",
     "text": [
      "0\n",
      "1\n",
      "2\n",
      "3\n",
      "4\n",
      "5\n",
      "6\n",
      "7\n",
      "8\n",
      "9\n",
      "10\n",
      "11\n",
      "12\n",
      "13\n",
      "14\n",
      "15\n",
      "16\n",
      "17\n",
      "18\n",
      "19\n",
      "20\n",
      "21\n",
      "22\n",
      "23\n",
      "24\n",
      "25\n",
      "26\n",
      "27\n",
      "28\n",
      "29\n",
      "30\n",
      "31\n",
      "32\n",
      "33\n",
      "34\n",
      "35\n",
      "36\n",
      "37\n",
      "38\n",
      "39\n",
      "40\n",
      "41\n",
      "42\n",
      "43\n",
      "44\n",
      "45\n",
      "46\n",
      "47\n",
      "48\n",
      "49\n"
     ]
    },
    {
     "data": {
      "text/plain": [
       "(0.8028, 0.1972, 0.0)"
      ]
     },
     "execution_count": 103,
     "metadata": {},
     "output_type": "execute_result"
    }
   ],
   "source": [
    "success = 0\n",
    "fail1 = 0\n",
    "fail2 = 0\n",
    "for i in range(50):  \n",
    "    print(i)\n",
    "    G = Graphs[i]\n",
    "    for runs in range(100):\n",
    "        prey, pred, agent = init_rand_pos()\n",
    "        #print(\"RUN #\", runs)\n",
    "        #print(prey, pred, agent)\n",
    "        next_pos = -1\n",
    "        time = 0\n",
    "        while time < 1000:\n",
    "            min_yd = 100\n",
    "            max_dd = -1\n",
    "            for i in G[agent]:\n",
    "                #print(\"i\", i)\n",
    "                prey_dis = BFS(G, i, prey)\n",
    "                #print(\"prey_dis\", prey_dis)\n",
    "                pred_dis = BFS(G, i, pred)\n",
    "                #print('pred_dis', pred_dis)\n",
    "                if prey_dis < min_yd:\n",
    "                    min_yd = prey_dis\n",
    "                    max_dd = pred_dis\n",
    "                    next_pos = i\n",
    "                elif prey_dis == min_yd:\n",
    "                    if pred_dis > max_dd:\n",
    "                        max_dd = prey_dis\n",
    "                        next_pos = i\n",
    "\n",
    "            #print(\"next_pos\", next_pos)       \n",
    "            \n",
    "            agent = next_pos\n",
    "            if agent == prey:\n",
    "                break\n",
    "    \n",
    "            prey = move_prey(prey)\n",
    "            pred = move_pred(pred, agent)\n",
    "            #print(prey, pred, agent)\n",
    "            if agent == prey  or agent == pred:\n",
    "                break\n",
    "            time += 1\n",
    "            #print(\"time\",time)\n",
    "        if agent == pred:\n",
    "            fail1 += 1\n",
    "        elif agent == prey:\n",
    "            success += 1\n",
    "        elif time == 1000:\n",
    "            fail2 += 1\n",
    "        \n",
    "success/5000, fail1/5000, fail2/5000"
   ]
  },
  {
   "cell_type": "markdown",
   "metadata": {},
   "source": [
    "# Agent 2"
   ]
  },
  {
   "cell_type": "code",
   "execution_count": null,
   "metadata": {},
   "outputs": [],
   "source": []
  },
  {
   "cell_type": "markdown",
   "metadata": {},
   "source": [
    "# Agent 3"
   ]
  },
  {
   "cell_type": "code",
   "execution_count": null,
   "metadata": {},
   "outputs": [],
   "source": []
  },
  {
   "cell_type": "code",
   "execution_count": null,
   "metadata": {},
   "outputs": [],
   "source": []
  },
  {
   "cell_type": "code",
   "execution_count": null,
   "metadata": {},
   "outputs": [],
   "source": []
  },
  {
   "cell_type": "code",
   "execution_count": null,
   "metadata": {},
   "outputs": [],
   "source": []
  }
 ],
 "metadata": {
  "kernelspec": {
   "display_name": "Python 3",
   "language": "python",
   "name": "python3"
  },
  "language_info": {
   "codemirror_mode": {
    "name": "ipython",
    "version": 3
   },
   "file_extension": ".py",
   "mimetype": "text/x-python",
   "name": "python",
   "nbconvert_exporter": "python",
   "pygments_lexer": "ipython3",
   "version": "3.6.4"
  }
 },
 "nbformat": 4,
 "nbformat_minor": 2
}
