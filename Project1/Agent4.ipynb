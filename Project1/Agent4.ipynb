{
 "cells": [
  {
   "cell_type": "markdown",
   "metadata": {},
   "source": [
    "# All functions required for Agent 4 are same hence did not comment except last"
   ]
  },
  {
   "cell_type": "code",
   "execution_count": null,
   "metadata": {},
   "outputs": [],
   "source": [
    "import numpy as np\n",
    "import random\n",
    "import math \n",
    "import random\n",
    "from npy_append_array import NpyAppendArray\n",
    "from collections import deque"
   ]
  },
  {
   "cell_type": "code",
   "execution_count": 2,
   "metadata": {},
   "outputs": [],
   "source": [
    "def check_path(env, i, j, vis, path, G, x, y):\n",
    "    vis[i][j] = 1\n",
    "    if G == 0 and i == x-1 and j == y-1:\n",
    "        path = 1\n",
    "        return path\n",
    "    else:\n",
    "        if path != 1 and i!=x-1 and env[i+1][j] == 1 and vis[i+1][j] == 0:\n",
    "            path = check_path(env, i+1, j, vis, path, G, x, y)\n",
    "        if path != 1 and j != y-1 and env[i][j+1] == 1 and vis[i][j+1] == 0:\n",
    "            path = check_path(env, i, j+1, vis, path, G, x, y)\n",
    "        if path != 1 and i!=0 and env[i-1][j] == 1 and vis[i-1][j] == 0:\n",
    "            path = check_path(env, i-1, j, vis, path, G, x, y)\n",
    "        if path != 1 and j != 0 and env[i][j-1] == 1 and vis[i][j-1] == 0:\n",
    "            path = check_path(env, i, j-1, vis, path, G, x, y)\n",
    "        return path"
   ]
  },
  {
   "cell_type": "code",
   "execution_count": 40,
   "metadata": {},
   "outputs": [],
   "source": [
    "n = 0\n",
    "maze = []\n",
    "while n<50:\n",
    "    env = np.zeros((51,51), dtype = int)\n",
    "    vis = np.zeros((51,51), dtype = int)\n",
    "\n",
    "    for i in range(51):\n",
    "        for j in range(51):\n",
    "             env[i][j] = np.random.choice(2, 1, p = [0.28,0.72])\n",
    "    env[0,0], env[50,50] = 1, 1\n",
    "    path = check_path(env, 0, 0, vis, 0, 0, 51, 51)\n",
    "    if path == 1:\n",
    "        n += 1\n",
    "        maze.append(list([env]))"
   ]
  },
  {
   "cell_type": "code",
   "execution_count": 41,
   "metadata": {},
   "outputs": [],
   "source": [
    "spwL = []\n",
    "\n",
    "for i in range(50): \n",
    "    spwG = np.zeros((51,51), dtype = int) #where ghost can spawn\n",
    "    path = check_path(maze[i][0], 0, 0, spwG, 0, 1, 51, 51)\n",
    "    spwL.append(list([spwG]))"
   ]
  },
  {
   "cell_type": "code",
   "execution_count": 4,
   "metadata": {},
   "outputs": [],
   "source": [
    "def ghost_spw(spwG, n, posG, m):\n",
    "    for i in range(n):\n",
    "        randRow = 0\n",
    "        randCol = 0\n",
    "        while ((randRow == 0 and randCol == 0) or (randRow == m-1 and randCol == m-1) or spwG[randRow][randCol] == 0):\n",
    "            randRow = random.randint(0,m-1)\n",
    "            if randRow == 0:\n",
    "                randCol = random.randint(1, m-1)\n",
    "            elif randRow == m-1:\n",
    "                randCol = random.randint(0, m-2)\n",
    "            else:\n",
    "                randCol = random.randint(0, m-1)\n",
    "        posG.append((randRow, randCol))\n",
    "    return posG"
   ]
  },
  {
   "cell_type": "code",
   "execution_count": 5,
   "metadata": {},
   "outputs": [],
   "source": [
    "def move_ghosts(posG, env, size):\n",
    "    for i in range(len(posG)):\n",
    "        x = posG[i][0]\n",
    "        y = posG[i][1]\n",
    "        movedG = False\n",
    "        while not(movedG):\n",
    "            move = np.random.randint(4, size = 1)[0]\n",
    "            if move == 0 and x != 0:\n",
    "                    movedG = True\n",
    "                    if env[x-1][y] == 1:\n",
    "                        x -= 1\n",
    "                    else:\n",
    "                        mv_into_wall = np.random.choice(2, 1, p = [0.5, 0.5])\n",
    "                        if mv_into_wall == 1:\n",
    "                            x -= 1\n",
    "            elif move == 1 and y != size-1:\n",
    "                    movedG = True\n",
    "                    if env[x][y+1] == 1:\n",
    "                        y += 1\n",
    "                    else:\n",
    "                        mv_into_wall = np.random.choice(2, 1, p = [0.5, 0.5])\n",
    "                        if mv_into_wall == 1:\n",
    "                            y += 1\n",
    "            elif move == 2 and x != size-1:\n",
    "                    movedG = True\n",
    "                    if env[x+1][y] == 1:\n",
    "                        x += 1\n",
    "                    else:\n",
    "                        mv_into_wall = np.random.choice(2, 1, p = [0.5, 0.5])\n",
    "                        if mv_into_wall == 1:\n",
    "                            x += 1\n",
    "            elif move == 3 and y != 0:\n",
    "                    movedG = True\n",
    "                    if env[x][y-1] == 1:\n",
    "                        y -= 1\n",
    "                    else:\n",
    "                        mv_into_wall = np.random.choice(2, 1, p = [0.5, 0.5])\n",
    "                        if mv_into_wall == 1:\n",
    "                            y -= 1\n",
    "        posG[i] = tuple([x, y])\n",
    "    return posG   "
   ]
  },
  {
   "cell_type": "code",
   "execution_count": 6,
   "metadata": {},
   "outputs": [],
   "source": [
    "def BFS(env, vis, size, start):\n",
    "    q = [[[start[0], start[1]]]]\n",
    "    path = list()\n",
    "    vis[start[0],start[1]] = 1\n",
    "    #q.append(list([0,0]))\n",
    "    #print(q)\n",
    "    while len(q) != 0:\n",
    "        path = q.pop(0)\n",
    "        #print(\"q \" , q)\n",
    "        node = path[-1]\n",
    "        #print(\"Path \" , path)\n",
    "        i = node[0]\n",
    "        j = node[1]\n",
    "        if i == size-1 and j == size-1:\n",
    "            return path\n",
    "        if i!= size-1 and env[i+1][j] == 1 and vis[i+1][j] == 0:\n",
    "            new_path = list(path)\n",
    "            #print(\"new_path1 \" , new_path)\n",
    "            new_path.append([i+1,j])\n",
    "            #print(\"new_path2 \" , new_path)\n",
    "            #print(\"path \" , path)\n",
    "            q.append(new_path)\n",
    "            #print(\"q\" , q)\n",
    "            vis[i+1][j] = 1\n",
    "        if j != size-1 and env[i][j+1] == 1 and vis[i][j+1] == 0:\n",
    "            new_path = list(path)\n",
    "            #print(\"new_path1 \" , new_path)\n",
    "            new_path.append([i,j+1])\n",
    "            #print(\"new_path2 \" , new_path)\n",
    "            q.append(new_path)\n",
    "            vis[i][j+1] = 1\n",
    "        if i != 0 and env[i-1][j] == 1 and vis[i-1][j] == 0:\n",
    "            new_path = path\n",
    "            new_path.append([i-1,j])\n",
    "            q.append(new_path)\n",
    "            vis[i-1][j] = 1\n",
    "        if j != 0 and env[i][j-1] == 1 and vis[i][j-1] == 0:\n",
    "            new_path = path\n",
    "            new_path.append([i,j-1])\n",
    "            q.append(new_path)\n",
    "            vis[i][j-1] = 1"
   ]
  },
  {
   "cell_type": "code",
   "execution_count": 7,
   "metadata": {},
   "outputs": [],
   "source": [
    "def BFS_w_ghosts(env, posG, size, currA):\n",
    "    env_copy  = env.copy()\n",
    "    vis = np.zeros((size, size), dtype = int)\n",
    "    for i in posG:\n",
    "        env[i[0]][i[1]] = 1\n",
    "    path = BFS(env_copy, vis, 51, currA)\n",
    "    return path"
   ]
  },
  {
   "cell_type": "code",
   "execution_count": 8,
   "metadata": {},
   "outputs": [],
   "source": [
    "def move_away(envC, posG, currA):\n",
    "    min = 1000\n",
    "    for i in posG:\n",
    "        dis = math.sqrt((currA[1]-i[1])*(currA[1]-i[1])+(currA[0]-i[0])*(currA[0]-i[0]))\n",
    "        if dis < min:\n",
    "            min = dis\n",
    "            minG = i\n",
    "    if (minG[0] - currA[0]) == 0:\n",
    "        slope = 1\n",
    "    else:\n",
    "        slope = (minG[1] - currA[1])/(minG[0] - currA[0])\n",
    "    if slope == 1 and minG[1] > 0 and currA[0] < len(envC)-1:\n",
    "        return (currA[0]+1, currA[1]) \n",
    "    elif minG[1] < 0 and currA[0] > 0:\n",
    "        return (currA[0]-1, currA[1])\n",
    "    elif slope == 0 and minG[0] > 0 and currA[1] > 0:\n",
    "        return (currA[0], currA[1]-1)\n",
    "    elif minG[0] < 0 and currA[1] < 0 and currA[1] < len(envC)-1:\n",
    "        return (currA[0], currA[1]+1)\n",
    "    if slope < 1 and slope > -1 and currA[1] > 0 and env[currA[0],currA[1]-1] == 1:\n",
    "        return (currA[0], currA[1]-1)\n",
    "    if slope < 1 and slope < -1 and currA[0] > 0 and env[currA[0]-1,currA[1]] == 1:\n",
    "        return (currA[0]-1, currA[1])\n",
    "    if slope > 1 and slope < -1 and currA[1] < len(envC)-1 and env[currA[0],currA[1]+1] == 1:\n",
    "        return (currA[0], currA[1]+1)\n",
    "    if slope > 1 and slope > -1 and currA[0] < len(envC)-1 and env[currA[0]+1,currA[1]] == 1:\n",
    "        return (currA[0]+1, currA[1])\n",
    "    return currA"
   ]
  },
  {
   "cell_type": "code",
   "execution_count": null,
   "metadata": {},
   "outputs": [],
   "source": [
    "succGA2 = []\n",
    "for l in range(200):\n",
    "    success = 0\n",
    "    print(l)\n",
    "    for k in range(50):\n",
    "        currA = [0,0]\n",
    "        vis = np.zeros(shape=(51, 51), dtype = int)\n",
    "        j=0\n",
    "        while j<10:\n",
    "            posG = []\n",
    "            posG = ghost_spw(spwL[k][0], l, posG, 51)\n",
    "            path = BFS_w_ghosts(maze[k][0], posG, 51, currA)\n",
    "            currA = path[0]\n",
    "            m=True\n",
    "            i=0\n",
    "            while currA != [50, 50]:\n",
    "                #print(path, i)\n",
    "                currA = path[i+1]\n",
    "                if tuple(path[i+1]) in posG:\n",
    "                    i=-1\n",
    "                    path = BFS_w_ghosts(maze[k][0], posG, 51, currA)\n",
    "                if path == None:\n",
    "                    i=-1\n",
    "                    currA = move_away(maze[k][0], posG, currA)\n",
    "                    path = BFS_w_ghosts(maze[k][0], posG, 51, currA)\n",
    "                #old_posG = posG.copy()\n",
    "                posG = move_ghosts(posG, maze[k][0], 51)\n",
    "                if tuple(currA) in posG:\n",
    "                    m = False\n",
    "                    break\n",
    "                i+=1\n",
    "\n",
    "            if m == True:\n",
    "                success += 1\n",
    "            j+=1\n",
    "    succGA2.append(success/5)"
   ]
  },
  {
   "cell_type": "code",
   "execution_count": 9,
   "metadata": {},
   "outputs": [],
   "source": [
    "from queue import PriorityQueue"
   ]
  },
  {
   "cell_type": "code",
   "execution_count": 30,
   "metadata": {},
   "outputs": [],
   "source": [
    "def astar(env, currA, size, posG):\n",
    "    gscore = {}\n",
    "    fscore = {}\n",
    "    childC = None\n",
    "    for i in range(size):\n",
    "        for j in range(size):\n",
    "            gscore[(i,j)] = float('inf')\n",
    "            fscore[(i,j)] = float('inf')\n",
    "    #print(gscore, fscore)      \n",
    "    gscore[(currA[0], currA[1])] = 0\n",
    "    fscore[(currA[0], currA[1])] = hscore(currA, [size-1, size-1], posG)    \n",
    "    pq = PriorityQueue()\n",
    "    pq.put((hscore(currA, (size-1,size-1), posG), hscore(currA, (size-1,size-1), posG), currA))\n",
    "    pathA = {}\n",
    "    while not pq.empty():\n",
    "        currC = tuple(pq.get()[2])\n",
    "        if currC == (size-1, size-1):\n",
    "            break\n",
    "        for i in range(4):\n",
    "            if i == 0 and currC[1] < size-1 and env[currC[0],currC[1]+1] == 1:\n",
    "                childC = tuple([currC[0],currC[1]+1])\n",
    "                tempgscore = gscore[currC]+1\n",
    "                tempfscore = tempgscore + hscore(childC, (size-1, size-1), posG)\n",
    "            \n",
    "                if tempfscore < fscore[childC]:\n",
    "                    gscore[childC] = tempgscore\n",
    "                    fscore[childC] = tempfscore\n",
    "                    pq.put((tempfscore, hscore(childC,(size-1, size-1), posG), childC))\n",
    "                    pathA[childC] = currC\n",
    "            if i == 1 and  currC[0] < size-1 and env[currC[0]+1,currC[1]] == 1:\n",
    "                childC = (currC[0]+1,currC[1])\n",
    "                tempgscore = gscore[currC]+1\n",
    "                tempfscore = tempgscore + hscore(childC, (size-1, size-1), posG)\n",
    "            \n",
    "                if tempfscore < fscore[childC]:\n",
    "                    gscore[childC] = tempgscore\n",
    "                    fscore[childC] = tempfscore\n",
    "                    pq.put((tempfscore, hscore(childC,(size-1, size-1), posG), childC))\n",
    "                    pathA[childC] = currC\n",
    "            if i == 2 and currC[1] > 0 and env[currC[0],currC[1]-1] == 1:\n",
    "                childC = (currC[0],currC[1]-1)\n",
    "                tempgscore = gscore[currC]+1\n",
    "                tempfscore = tempgscore + hscore(childC, (size-1, size-1), posG)\n",
    "            \n",
    "                if tempfscore < fscore[childC]:\n",
    "                    gscore[childC] = tempgscore\n",
    "                    fscore[childC] = tempfscore\n",
    "                    pq.put((tempfscore, hscore(childC,(size-1, size-1), posG), childC))\n",
    "                    pathA[childC] = currC\n",
    "            if i == 3  and currC[0] > 0 and env[currC[0]-1,currC[1]] == 1:\n",
    "                childC = (currC[0]-1,currC[1])\n",
    "                tempgscore = gscore[currC]+1\n",
    "                tempfscore = tempgscore + hscore(childC, (size-1, size-1), posG)\n",
    "            \n",
    "                if tempfscore < fscore[childC]:\n",
    "                    gscore[childC] = tempgscore\n",
    "                    fscore[childC] = tempfscore\n",
    "                    pq.put((tempfscore, hscore(childC,(size-1, size-1), posG), childC))\n",
    "                    pathA[childC] = currC\n",
    "            \n",
    "\n",
    "    pathF = {}\n",
    "    #print(\"currA\", currA)\n",
    "    cell = (size-1, size-1)\n",
    "    #print(\"pathA\", pathA)\n",
    "    if pathA.get(cell) == None:\n",
    "        return None\n",
    "    while cell != tuple(currA):\n",
    "        pathF[pathA[cell]] = cell\n",
    "        cell = pathA[cell]\n",
    "    #print(\"pathF\", pathF)\n",
    "    return pathF\n"
   ]
  },
  {
   "cell_type": "code",
   "execution_count": 34,
   "metadata": {},
   "outputs": [],
   "source": [
    "def astar_w_ghosts(env, currA, posG):\n",
    "    env_copy  = env.copy()\n",
    "    for i in posG:\n",
    "        if currA[0] + 3 > i[0] and currA[0] - 3 < i[0] and currA[1] + 3 > i[1] and currA[1] - 3 < i[1]:\n",
    "            env_copy[i[0]][i[1]] = 0\n",
    "    path = astar(env_copy, currA, len(env), posG)\n",
    "    return path"
   ]
  },
  {
   "cell_type": "markdown",
   "metadata": {},
   "source": [
    "# Agent 4 using A star"
   ]
  },
  {
   "cell_type": "code",
   "execution_count": 95,
   "metadata": {},
   "outputs": [],
   "source": [
    "def agent4_game_on(env, posG):\n",
    "    currC = (0,0)\n",
    "    size = len(env)\n",
    "    success = 0\n",
    "    j=0\n",
    "    childC = None\n",
    "    env_copy = env.copy()\n",
    "    for i in posG:\n",
    "        env_copy[i[0]][i[1]] = 0\n",
    "    m = True\n",
    "    while j<2:\n",
    "        m = True\n",
    "        while currC != (size-1, size-1):\n",
    "            #print(currC)\n",
    "            dis = 10000\n",
    "            minD = 10000\n",
    "            maxS = 0\n",
    "            srate = 0\n",
    "            posG_copy = posG.copy()\n",
    "            for i in range(5):\n",
    "                if i == 0 and currC[1] < size-1 and env[currC[0],currC[1]+1] == 1:\n",
    "                    nextC = (currC[0],currC[1]+1)\n",
    "                    srate, dis = agent2WAstar(env, nextC, posG_copy)\n",
    "                if i == 1 and  currC[0] < size-1 and env[currC[0]+1,currC[1]] == 1:\n",
    "                    nextC = (currC[0]+1,currC[1])\n",
    "                    srate, dis = agent2WAstar(env, nextC, posG_copy)\n",
    "                if i == 2 and currC[1] > 0 and env[currC[0],currC[1]-1] == 1:\n",
    "                    nextC = (currC[0],currC[1]-1)\n",
    "                    srate, dis = agent2WAstar(env, nextC, posG_copy)\n",
    "                if i == 3  and currC[0] > 0 and env[currC[0]-1,currC[1]] == 1:\n",
    "                    nextC = (currC[0]-1,currC[1])\n",
    "                    srate, dis = agent2WAstar(env, nextC, posG_copy)\n",
    "                if i == 4:\n",
    "                    nextC = (currC)\n",
    "                    srate, dis = agent2WAstar(env, nextC, posG_copy)\n",
    "                #print(i, srate, max)\n",
    "                if srate > maxS:\n",
    "                    maxS = srate\n",
    "                    childC = nextC\n",
    "                if dis < minD and dis != 0 and srate == maxS:\n",
    "                    minD = dis\n",
    "                    childC = nextC\n",
    "            if childC != None:\n",
    "                currC = childC\n",
    "            elif srate == 0:\n",
    "                currC = move_away(env_copy, posG, currC)\n",
    "                \n",
    "            posG = move_ghosts(posG, env, 51)\n",
    "            \n",
    "            if currC in posG:\n",
    "                m = False\n",
    "                break\n",
    "        if m==True:\n",
    "            success += 1 \n",
    "        j += 1\n",
    "    return success/2"
   ]
  },
  {
   "cell_type": "code",
   "execution_count": 96,
   "metadata": {},
   "outputs": [],
   "source": [
    "def agent2WAstar(env, currA, posG):\n",
    "    path = {}\n",
    "    size = len(env)\n",
    "    if currA == (size-1, size-1):\n",
    "        return 1 ,0.01\n",
    "    path = astar_w_ghosts(env, currA, posG)\n",
    "    #if path == None:\n",
    "        #return 0 #, 0\n",
    "    #print(\"agent2WAstar\", path)\n",
    "    env_copy = env.copy()\n",
    "    success = 0\n",
    "    dis = 0\n",
    "    j=0\n",
    "    while j<5:\n",
    "        m=True\n",
    "        while currA != (size-1, size-1):\n",
    "            if path != None:\n",
    "                currA = path.get(currA)\n",
    "            else:\n",
    "                currA = move_away(env_copy, posG, currA)\n",
    "                path = astar_w_ghosts(env, currA, posG)\n",
    "                #dis = 0\n",
    "                #m = False\n",
    "                #break\n",
    "            posG = move_ghosts(posG, env, size)\n",
    "            if currA in posG:\n",
    "                dis = 0\n",
    "                m = False\n",
    "                break\n",
    "            if path != None and path.get(currA) in posG:\n",
    "                path = astar_w_ghosts(env, currA, posG)\n",
    "            if path == None:\n",
    "                currA = move_away(env_copy, posG, currA)\n",
    "                path = astar_w_ghosts(env, currA, posG)\n",
    "            #old_posG = posG.copy()\n",
    "            dis += 1\n",
    "        if m == True:\n",
    "            success += 1\n",
    "        j+=1\n",
    "    return success/5 , dis/5"
   ]
  },
  {
   "cell_type": "code",
   "execution_count": null,
   "metadata": {},
   "outputs": [],
   "source": [
    "def agent2BFS(env, currA, posG):\n",
    "    path = {}\n",
    "    size = len(env)\n",
    "    if currA == (size-1, size-1):\n",
    "        return 1\n",
    "    path = BFS_w_ghosts(env, posG, 51, currA)\n",
    "    if path == None:\n",
    "        return 0 #, 0\n",
    "    #print(\"agent2BFS1\", path)\n",
    "    env_copy = env.copy()\n",
    "    for i in posG:\n",
    "        env_copy[i[0]][i[1]] = 0\n",
    "    success = 0\n",
    "    dis = 0\n",
    "    j=0\n",
    "    while j<5:\n",
    "        posG = []\n",
    "        posG = ghost_spw(spwL[k][0], l, posG, 51)\n",
    "        path = BFS_w_ghosts(env, posG, 51, currA)\n",
    "        while path == None:\n",
    "            currA = move_away(env, posG, currA)\n",
    "            path = BFS_w_ghosts(env, posG, 51, currA)\n",
    "        currA = path[0]\n",
    "        m=True\n",
    "        i=0\n",
    "        while currA != [size-1, size-1]:\n",
    "            #print(\"agent2BFS2\", path, i)\n",
    "            currA = path[i+1]\n",
    "            if tuple(path[i+1]) in posG:\n",
    "                i=-1\n",
    "                path = BFS_w_ghosts(env, posG, 51, currA)\n",
    "            if path == None:\n",
    "                i=-1\n",
    "                currA = move_away(env, posG, currA)\n",
    "                path = BFS_w_ghosts(env, posG, 51, currA)\n",
    "            #old_posG = posG.copy()\n",
    "            posG = move_ghosts(posG, env, 51)\n",
    "            if tuple(currA) in posG:\n",
    "                m = False\n",
    "                break\n",
    "            i+=1\n",
    "        if m == True:\n",
    "            success += 1\n",
    "        j+=1\n",
    "    return success/5 "
   ]
  },
  {
   "cell_type": "markdown",
   "metadata": {},
   "source": [
    "# Agent  4 runs"
   ]
  },
  {
   "cell_type": "code",
   "execution_count": 98,
   "metadata": {
    "scrolled": true
   },
   "outputs": [
    {
     "name": "stdout",
     "output_type": "stream",
     "text": [
      "20\n",
      "21\n",
      "22\n",
      "23\n",
      "24\n",
      "25\n",
      "26\n",
      "27\n",
      "28\n",
      "29\n",
      "30\n",
      "31\n",
      "32\n",
      "33\n",
      "34\n",
      "35\n",
      "36\n",
      "37\n",
      "38\n",
      "39\n",
      "40\n",
      "41\n",
      "42\n",
      "43\n",
      "44\n",
      "45\n"
     ]
    },
    {
     "ename": "KeyboardInterrupt",
     "evalue": "",
     "output_type": "error",
     "traceback": [
      "\u001b[1;31m---------------------------------------------------------------------------\u001b[0m",
      "\u001b[1;31mKeyboardInterrupt\u001b[0m                         Traceback (most recent call last)",
      "\u001b[1;32m<ipython-input-98-7a0d945e337b>\u001b[0m in \u001b[0;36m<module>\u001b[1;34m()\u001b[0m\n\u001b[0;32m      5\u001b[0m         \u001b[0mposG\u001b[0m \u001b[1;33m=\u001b[0m \u001b[1;33m[\u001b[0m\u001b[1;33m]\u001b[0m\u001b[1;33m\u001b[0m\u001b[0m\n\u001b[0;32m      6\u001b[0m         \u001b[0mposG\u001b[0m \u001b[1;33m=\u001b[0m \u001b[0mghost_spw\u001b[0m\u001b[1;33m(\u001b[0m\u001b[0mspwL\u001b[0m\u001b[1;33m[\u001b[0m\u001b[0mk\u001b[0m\u001b[1;33m]\u001b[0m\u001b[1;33m[\u001b[0m\u001b[1;36m0\u001b[0m\u001b[1;33m]\u001b[0m\u001b[1;33m,\u001b[0m \u001b[0ml\u001b[0m\u001b[1;33m,\u001b[0m \u001b[0mposG\u001b[0m\u001b[1;33m,\u001b[0m \u001b[1;36m51\u001b[0m\u001b[1;33m)\u001b[0m\u001b[1;33m\u001b[0m\u001b[0m\n\u001b[1;32m----> 7\u001b[1;33m         \u001b[0msuccess\u001b[0m \u001b[1;33m+=\u001b[0m \u001b[0magent4_game_on\u001b[0m\u001b[1;33m(\u001b[0m\u001b[0mmaze\u001b[0m\u001b[1;33m[\u001b[0m\u001b[0mk\u001b[0m\u001b[1;33m]\u001b[0m\u001b[1;33m[\u001b[0m\u001b[1;36m0\u001b[0m\u001b[1;33m]\u001b[0m\u001b[1;33m,\u001b[0m \u001b[0mposG\u001b[0m\u001b[1;33m)\u001b[0m\u001b[1;33m\u001b[0m\u001b[0m\n\u001b[0m\u001b[0;32m      8\u001b[0m     \u001b[0msuccGA41D\u001b[0m\u001b[1;33m.\u001b[0m\u001b[0mappend\u001b[0m\u001b[1;33m(\u001b[0m\u001b[0msuccess\u001b[0m\u001b[1;33m/\u001b[0m\u001b[1;36m10\u001b[0m\u001b[1;33m)\u001b[0m\u001b[1;33m\u001b[0m\u001b[0m\n",
      "\u001b[1;32m<ipython-input-95-bd80636a4a67>\u001b[0m in \u001b[0;36magent4_game_on\u001b[1;34m(env, posG)\u001b[0m\n\u001b[0;32m     33\u001b[0m                 \u001b[1;32mif\u001b[0m \u001b[0mi\u001b[0m \u001b[1;33m==\u001b[0m \u001b[1;36m4\u001b[0m\u001b[1;33m:\u001b[0m\u001b[1;33m\u001b[0m\u001b[0m\n\u001b[0;32m     34\u001b[0m                     \u001b[0mnextC\u001b[0m \u001b[1;33m=\u001b[0m \u001b[1;33m(\u001b[0m\u001b[0mcurrC\u001b[0m\u001b[1;33m)\u001b[0m\u001b[1;33m\u001b[0m\u001b[0m\n\u001b[1;32m---> 35\u001b[1;33m                     \u001b[0msrate\u001b[0m\u001b[1;33m,\u001b[0m \u001b[0mdis\u001b[0m \u001b[1;33m=\u001b[0m \u001b[0magent2WAstar\u001b[0m\u001b[1;33m(\u001b[0m\u001b[0menv\u001b[0m\u001b[1;33m,\u001b[0m \u001b[0mnextC\u001b[0m\u001b[1;33m,\u001b[0m \u001b[0mposG_copy\u001b[0m\u001b[1;33m)\u001b[0m\u001b[1;33m\u001b[0m\u001b[0m\n\u001b[0m\u001b[0;32m     36\u001b[0m                 \u001b[1;31m#print(i, srate, max)\u001b[0m\u001b[1;33m\u001b[0m\u001b[1;33m\u001b[0m\u001b[0m\n\u001b[0;32m     37\u001b[0m                 \u001b[1;32mif\u001b[0m \u001b[0msrate\u001b[0m \u001b[1;33m>\u001b[0m \u001b[0mmaxS\u001b[0m\u001b[1;33m:\u001b[0m\u001b[1;33m\u001b[0m\u001b[0m\n",
      "\u001b[1;32m<ipython-input-96-2fd369994147>\u001b[0m in \u001b[0;36magent2WAstar\u001b[1;34m(env, currA, posG)\u001b[0m\n\u001b[0;32m     31\u001b[0m                 \u001b[1;32mbreak\u001b[0m\u001b[1;33m\u001b[0m\u001b[0m\n\u001b[0;32m     32\u001b[0m             \u001b[1;32mif\u001b[0m \u001b[0mpath\u001b[0m \u001b[1;33m!=\u001b[0m \u001b[1;32mNone\u001b[0m \u001b[1;32mand\u001b[0m \u001b[0mpath\u001b[0m\u001b[1;33m.\u001b[0m\u001b[0mget\u001b[0m\u001b[1;33m(\u001b[0m\u001b[0mcurrA\u001b[0m\u001b[1;33m)\u001b[0m \u001b[1;32min\u001b[0m \u001b[0mposG\u001b[0m\u001b[1;33m:\u001b[0m\u001b[1;33m\u001b[0m\u001b[0m\n\u001b[1;32m---> 33\u001b[1;33m                 \u001b[0mpath\u001b[0m \u001b[1;33m=\u001b[0m \u001b[0mastar_w_ghosts\u001b[0m\u001b[1;33m(\u001b[0m\u001b[0menv\u001b[0m\u001b[1;33m,\u001b[0m \u001b[0mcurrA\u001b[0m\u001b[1;33m,\u001b[0m \u001b[0mposG\u001b[0m\u001b[1;33m)\u001b[0m\u001b[1;33m\u001b[0m\u001b[0m\n\u001b[0m\u001b[0;32m     34\u001b[0m             \u001b[1;32mif\u001b[0m \u001b[0mpath\u001b[0m \u001b[1;33m==\u001b[0m \u001b[1;32mNone\u001b[0m\u001b[1;33m:\u001b[0m\u001b[1;33m\u001b[0m\u001b[0m\n\u001b[0;32m     35\u001b[0m                 \u001b[0mcurrA\u001b[0m \u001b[1;33m=\u001b[0m \u001b[0mmove_away\u001b[0m\u001b[1;33m(\u001b[0m\u001b[0menv_copy\u001b[0m\u001b[1;33m,\u001b[0m \u001b[0mposG\u001b[0m\u001b[1;33m,\u001b[0m \u001b[0mcurrA\u001b[0m\u001b[1;33m)\u001b[0m\u001b[1;33m\u001b[0m\u001b[0m\n",
      "\u001b[1;32m<ipython-input-34-a44e7f14238e>\u001b[0m in \u001b[0;36mastar_w_ghosts\u001b[1;34m(env, currA, posG)\u001b[0m\n\u001b[0;32m      4\u001b[0m         \u001b[1;32mif\u001b[0m \u001b[0mcurrA\u001b[0m\u001b[1;33m[\u001b[0m\u001b[1;36m0\u001b[0m\u001b[1;33m]\u001b[0m \u001b[1;33m+\u001b[0m \u001b[1;36m3\u001b[0m \u001b[1;33m>\u001b[0m \u001b[0mi\u001b[0m\u001b[1;33m[\u001b[0m\u001b[1;36m0\u001b[0m\u001b[1;33m]\u001b[0m \u001b[1;32mand\u001b[0m \u001b[0mcurrA\u001b[0m\u001b[1;33m[\u001b[0m\u001b[1;36m0\u001b[0m\u001b[1;33m]\u001b[0m \u001b[1;33m-\u001b[0m \u001b[1;36m3\u001b[0m \u001b[1;33m<\u001b[0m \u001b[0mi\u001b[0m\u001b[1;33m[\u001b[0m\u001b[1;36m0\u001b[0m\u001b[1;33m]\u001b[0m \u001b[1;32mand\u001b[0m \u001b[0mcurrA\u001b[0m\u001b[1;33m[\u001b[0m\u001b[1;36m1\u001b[0m\u001b[1;33m]\u001b[0m \u001b[1;33m+\u001b[0m \u001b[1;36m3\u001b[0m \u001b[1;33m>\u001b[0m \u001b[0mi\u001b[0m\u001b[1;33m[\u001b[0m\u001b[1;36m1\u001b[0m\u001b[1;33m]\u001b[0m \u001b[1;32mand\u001b[0m \u001b[0mcurrA\u001b[0m\u001b[1;33m[\u001b[0m\u001b[1;36m1\u001b[0m\u001b[1;33m]\u001b[0m \u001b[1;33m-\u001b[0m \u001b[1;36m3\u001b[0m \u001b[1;33m<\u001b[0m \u001b[0mi\u001b[0m\u001b[1;33m[\u001b[0m\u001b[1;36m1\u001b[0m\u001b[1;33m]\u001b[0m\u001b[1;33m:\u001b[0m\u001b[1;33m\u001b[0m\u001b[0m\n\u001b[0;32m      5\u001b[0m             \u001b[0menv_copy\u001b[0m\u001b[1;33m[\u001b[0m\u001b[0mi\u001b[0m\u001b[1;33m[\u001b[0m\u001b[1;36m0\u001b[0m\u001b[1;33m]\u001b[0m\u001b[1;33m]\u001b[0m\u001b[1;33m[\u001b[0m\u001b[0mi\u001b[0m\u001b[1;33m[\u001b[0m\u001b[1;36m1\u001b[0m\u001b[1;33m]\u001b[0m\u001b[1;33m]\u001b[0m \u001b[1;33m=\u001b[0m \u001b[1;36m0\u001b[0m\u001b[1;33m\u001b[0m\u001b[0m\n\u001b[1;32m----> 6\u001b[1;33m     \u001b[0mpath\u001b[0m \u001b[1;33m=\u001b[0m \u001b[0mastar\u001b[0m\u001b[1;33m(\u001b[0m\u001b[0menv_copy\u001b[0m\u001b[1;33m,\u001b[0m \u001b[0mcurrA\u001b[0m\u001b[1;33m,\u001b[0m \u001b[0mlen\u001b[0m\u001b[1;33m(\u001b[0m\u001b[0menv\u001b[0m\u001b[1;33m)\u001b[0m\u001b[1;33m,\u001b[0m \u001b[0mposG\u001b[0m\u001b[1;33m)\u001b[0m\u001b[1;33m\u001b[0m\u001b[0m\n\u001b[0m\u001b[0;32m      7\u001b[0m     \u001b[1;32mreturn\u001b[0m \u001b[0mpath\u001b[0m\u001b[1;33m\u001b[0m\u001b[0m\n",
      "\u001b[1;32m<ipython-input-30-a7459980a0c9>\u001b[0m in \u001b[0;36mastar\u001b[1;34m(env, currA, size, posG)\u001b[0m\n\u001b[0;32m     26\u001b[0m                     \u001b[0mgscore\u001b[0m\u001b[1;33m[\u001b[0m\u001b[0mchildC\u001b[0m\u001b[1;33m]\u001b[0m \u001b[1;33m=\u001b[0m \u001b[0mtempgscore\u001b[0m\u001b[1;33m\u001b[0m\u001b[0m\n\u001b[0;32m     27\u001b[0m                     \u001b[0mfscore\u001b[0m\u001b[1;33m[\u001b[0m\u001b[0mchildC\u001b[0m\u001b[1;33m]\u001b[0m \u001b[1;33m=\u001b[0m \u001b[0mtempfscore\u001b[0m\u001b[1;33m\u001b[0m\u001b[0m\n\u001b[1;32m---> 28\u001b[1;33m                     \u001b[0mpq\u001b[0m\u001b[1;33m.\u001b[0m\u001b[0mput\u001b[0m\u001b[1;33m(\u001b[0m\u001b[1;33m(\u001b[0m\u001b[0mtempfscore\u001b[0m\u001b[1;33m,\u001b[0m \u001b[0mhscore\u001b[0m\u001b[1;33m(\u001b[0m\u001b[0mchildC\u001b[0m\u001b[1;33m,\u001b[0m\u001b[1;33m(\u001b[0m\u001b[0msize\u001b[0m\u001b[1;33m-\u001b[0m\u001b[1;36m1\u001b[0m\u001b[1;33m,\u001b[0m \u001b[0msize\u001b[0m\u001b[1;33m-\u001b[0m\u001b[1;36m1\u001b[0m\u001b[1;33m)\u001b[0m\u001b[1;33m,\u001b[0m \u001b[0mposG\u001b[0m\u001b[1;33m)\u001b[0m\u001b[1;33m,\u001b[0m \u001b[0mchildC\u001b[0m\u001b[1;33m)\u001b[0m\u001b[1;33m)\u001b[0m\u001b[1;33m\u001b[0m\u001b[0m\n\u001b[0m\u001b[0;32m     29\u001b[0m                     \u001b[0mpathA\u001b[0m\u001b[1;33m[\u001b[0m\u001b[0mchildC\u001b[0m\u001b[1;33m]\u001b[0m \u001b[1;33m=\u001b[0m \u001b[0mcurrC\u001b[0m\u001b[1;33m\u001b[0m\u001b[0m\n\u001b[0;32m     30\u001b[0m             \u001b[1;32mif\u001b[0m \u001b[0mi\u001b[0m \u001b[1;33m==\u001b[0m \u001b[1;36m1\u001b[0m \u001b[1;32mand\u001b[0m  \u001b[0mcurrC\u001b[0m\u001b[1;33m[\u001b[0m\u001b[1;36m0\u001b[0m\u001b[1;33m]\u001b[0m \u001b[1;33m<\u001b[0m \u001b[0msize\u001b[0m\u001b[1;33m-\u001b[0m\u001b[1;36m1\u001b[0m \u001b[1;32mand\u001b[0m \u001b[0menv\u001b[0m\u001b[1;33m[\u001b[0m\u001b[0mcurrC\u001b[0m\u001b[1;33m[\u001b[0m\u001b[1;36m0\u001b[0m\u001b[1;33m]\u001b[0m\u001b[1;33m+\u001b[0m\u001b[1;36m1\u001b[0m\u001b[1;33m,\u001b[0m\u001b[0mcurrC\u001b[0m\u001b[1;33m[\u001b[0m\u001b[1;36m1\u001b[0m\u001b[1;33m]\u001b[0m\u001b[1;33m]\u001b[0m \u001b[1;33m==\u001b[0m \u001b[1;36m1\u001b[0m\u001b[1;33m:\u001b[0m\u001b[1;33m\u001b[0m\u001b[0m\n",
      "\u001b[1;32m<ipython-input-53-d4cd3fa215db>\u001b[0m in \u001b[0;36mhscore\u001b[1;34m(cell1, cell2, posG)\u001b[0m\n\u001b[0;32m      1\u001b[0m \u001b[1;32mdef\u001b[0m \u001b[0mhscore\u001b[0m\u001b[1;33m(\u001b[0m\u001b[0mcell1\u001b[0m\u001b[1;33m,\u001b[0m \u001b[0mcell2\u001b[0m\u001b[1;33m,\u001b[0m \u001b[0mposG\u001b[0m\u001b[1;33m)\u001b[0m\u001b[1;33m:\u001b[0m\u001b[1;33m\u001b[0m\u001b[0m\n\u001b[1;32m----> 2\u001b[1;33m     \u001b[0mdis\u001b[0m \u001b[1;33m=\u001b[0m \u001b[0mdistance\u001b[0m\u001b[1;33m(\u001b[0m\u001b[0mcell1\u001b[0m\u001b[1;33m,\u001b[0m \u001b[0mposG\u001b[0m\u001b[1;33m)\u001b[0m\u001b[1;33m\u001b[0m\u001b[0m\n\u001b[0m\u001b[0;32m      3\u001b[0m     \u001b[0mmanend\u001b[0m \u001b[1;33m=\u001b[0m \u001b[0mabs\u001b[0m\u001b[1;33m(\u001b[0m\u001b[0mcell1\u001b[0m\u001b[1;33m[\u001b[0m\u001b[1;36m0\u001b[0m\u001b[1;33m]\u001b[0m\u001b[1;33m-\u001b[0m\u001b[0mcell2\u001b[0m\u001b[1;33m[\u001b[0m\u001b[1;36m0\u001b[0m\u001b[1;33m]\u001b[0m\u001b[1;33m)\u001b[0m \u001b[1;33m+\u001b[0m \u001b[0mabs\u001b[0m\u001b[1;33m(\u001b[0m\u001b[0mcell1\u001b[0m\u001b[1;33m[\u001b[0m\u001b[1;36m1\u001b[0m\u001b[1;33m]\u001b[0m\u001b[1;33m-\u001b[0m\u001b[0mcell2\u001b[0m\u001b[1;33m[\u001b[0m\u001b[1;36m1\u001b[0m\u001b[1;33m]\u001b[0m\u001b[1;33m)\u001b[0m\u001b[1;33m\u001b[0m\u001b[0m\n\u001b[0;32m      4\u001b[0m     \u001b[1;32mreturn\u001b[0m \u001b[0mmanend\u001b[0m \u001b[1;33m-\u001b[0m \u001b[0mdis\u001b[0m\u001b[1;33m\u001b[0m\u001b[0m\n",
      "\u001b[1;32m<ipython-input-16-96d34995a2f5>\u001b[0m in \u001b[0;36mdistance\u001b[1;34m(cell1, posG)\u001b[0m\n\u001b[0;32m      2\u001b[0m     \u001b[0mmin\u001b[0m \u001b[1;33m=\u001b[0m \u001b[1;36m3000\u001b[0m\u001b[1;33m\u001b[0m\u001b[0m\n\u001b[0;32m      3\u001b[0m     \u001b[1;32mfor\u001b[0m \u001b[0mi\u001b[0m \u001b[1;32min\u001b[0m \u001b[0mposG\u001b[0m\u001b[1;33m:\u001b[0m\u001b[1;33m\u001b[0m\u001b[0m\n\u001b[1;32m----> 4\u001b[1;33m         \u001b[0mdis\u001b[0m \u001b[1;33m=\u001b[0m \u001b[0mmath\u001b[0m\u001b[1;33m.\u001b[0m\u001b[0msqrt\u001b[0m\u001b[1;33m(\u001b[0m\u001b[1;33m(\u001b[0m\u001b[0mcell1\u001b[0m\u001b[1;33m[\u001b[0m\u001b[1;36m1\u001b[0m\u001b[1;33m]\u001b[0m\u001b[1;33m-\u001b[0m\u001b[0mi\u001b[0m\u001b[1;33m[\u001b[0m\u001b[1;36m1\u001b[0m\u001b[1;33m]\u001b[0m\u001b[1;33m)\u001b[0m\u001b[1;33m*\u001b[0m\u001b[1;33m(\u001b[0m\u001b[0mcell1\u001b[0m\u001b[1;33m[\u001b[0m\u001b[1;36m1\u001b[0m\u001b[1;33m]\u001b[0m\u001b[1;33m-\u001b[0m\u001b[0mi\u001b[0m\u001b[1;33m[\u001b[0m\u001b[1;36m1\u001b[0m\u001b[1;33m]\u001b[0m\u001b[1;33m)\u001b[0m\u001b[1;33m+\u001b[0m\u001b[1;33m(\u001b[0m\u001b[0mcell1\u001b[0m\u001b[1;33m[\u001b[0m\u001b[1;36m0\u001b[0m\u001b[1;33m]\u001b[0m\u001b[1;33m-\u001b[0m\u001b[0mi\u001b[0m\u001b[1;33m[\u001b[0m\u001b[1;36m0\u001b[0m\u001b[1;33m]\u001b[0m\u001b[1;33m)\u001b[0m\u001b[1;33m*\u001b[0m\u001b[1;33m(\u001b[0m\u001b[0mcell1\u001b[0m\u001b[1;33m[\u001b[0m\u001b[1;36m0\u001b[0m\u001b[1;33m]\u001b[0m\u001b[1;33m-\u001b[0m\u001b[0mi\u001b[0m\u001b[1;33m[\u001b[0m\u001b[1;36m0\u001b[0m\u001b[1;33m]\u001b[0m\u001b[1;33m)\u001b[0m\u001b[1;33m)\u001b[0m\u001b[1;33m\u001b[0m\u001b[0m\n\u001b[0m\u001b[0;32m      5\u001b[0m         \u001b[1;32mif\u001b[0m \u001b[0mdis\u001b[0m \u001b[1;33m<\u001b[0m \u001b[0mmin\u001b[0m\u001b[1;33m:\u001b[0m\u001b[1;33m\u001b[0m\u001b[0m\n\u001b[0;32m      6\u001b[0m             \u001b[0mmin\u001b[0m \u001b[1;33m=\u001b[0m \u001b[0mdis\u001b[0m\u001b[1;33m\u001b[0m\u001b[0m\n",
      "\u001b[1;31mKeyboardInterrupt\u001b[0m: "
     ]
    }
   ],
   "source": [
    "for l in range(20,50):\n",
    "    success = 0\n",
    "    print(l)\n",
    "    for k in range(10):\n",
    "        posG = []\n",
    "        posG = ghost_spw(spwL[k][0], l, posG, 51)\n",
    "        success += agent4_game_on(maze[k][0], posG)\n",
    "    succGA41D.append(success/10)"
   ]
  },
  {
   "cell_type": "code",
   "execution_count": 99,
   "metadata": {},
   "outputs": [
    {
     "data": {
      "text/plain": [
       "<function matplotlib.pyplot.show(*args, **kw)>"
      ]
     },
     "execution_count": 99,
     "metadata": {},
     "output_type": "execute_result"
    },
    {
     "data": {
      "image/png": "[encoded data removed]",
      "text/plain": [
       "<matplotlib.figure.Figure at 0x24994e536a0>"
      ]
     },
     "metadata": {},
     "output_type": "display_data"
    }
   ],
   "source": [
    "#import matplotlib.pyplot as plt\n",
    "\n",
    "x = [i for i in range(45)]\n",
    "#for i in range(20):\n",
    "    #succGA41D[i] = succGA41D[i]/10\n",
    "plt.plot(x, succGA41D)\n",
    "plt.xlabel('Number of Ghosts')\n",
    "plt.ylabel('Survival Rate')\n",
    "plt.title('Agent 4 - 1 * dis')\n",
    "plt.show"
   ]
  },
  {
   "cell_type": "raw",
   "metadata": {},
   "source": [
    "succGA4B"
   ]
  },
  {
   "cell_type": "code",
   "execution_count": 16,
   "metadata": {},
   "outputs": [],
   "source": [
    "def distance(cell1, posG):\n",
    "    min = 3000\n",
    "    for i in posG:\n",
    "        dis = math.sqrt((cell1[1]-i[1])*(cell1[1]-i[1])+(cell1[0]-i[0])*(cell1[0]-i[0]))\n",
    "        if dis < min:\n",
    "            min = dis\n",
    "    return min"
   ]
  },
  {
   "cell_type": "code",
   "execution_count": 43,
   "metadata": {},
   "outputs": [],
   "source": [
    "def hscore(cell1, cell2, posG):\n",
    "    dis = distance(cell1, posG)\n",
    "    manend = abs(cell1[0]-cell2[0]) + abs(cell1[1]-cell2[1])\n",
    "    return manend - 0.5 * dis"
   ]
  },
  {
   "cell_type": "code",
   "execution_count": 42,
   "metadata": {
    "collapsed": true
   },
   "outputs": [
    {
     "name": "stdout",
     "output_type": "stream",
     "text": [
      "0\n",
      "1\n",
      "2\n",
      "3\n",
      "4\n",
      "5\n",
      "6\n",
      "7\n",
      "8\n",
      "9\n",
      "10\n",
      "11\n",
      "12\n",
      "13\n",
      "14\n",
      "15\n",
      "16\n",
      "17\n",
      "18\n",
      "19\n"
     ]
    }
   ],
   "source": [
    "succGA4 = []\n",
    "for l in range(20):\n",
    "    success = 0\n",
    "    print(l)\n",
    "    for k in range(50):\n",
    "        posG = []\n",
    "        posG = ghost_spw(spwL[k][0], l, posG, 51)\n",
    "        success += agent4_game_on(maze[k][0], posG)\n",
    "    succGA4.append(success/5)\n"
   ]
  },
  {
   "cell_type": "code",
   "execution_count": null,
   "metadata": {},
   "outputs": [],
   "source": [
    "#import matplotlib.pyplot as plt\n",
    "\n",
    "x = [i for i in range(20)]\n",
    "for i in range(20):\n",
    "    succGA4[i] = succGA4[i]/10\n",
    "plt.plot(x, succGA4)\n",
    "plt.xlabel('Number of Ghosts')\n",
    "plt.ylabel('Survival Rate')\n",
    "plt.title('Agent 4 - dis')\n",
    "plt.show"
   ]
  },
  {
   "cell_type": "code",
   "execution_count": 51,
   "metadata": {},
   "outputs": [
    {
     "data": {
      "text/plain": [
       "<function matplotlib.pyplot.show(*args, **kw)>"
      ]
     },
     "execution_count": 51,
     "metadata": {},
     "output_type": "execute_result"
    },
    {
     "data": {
      "image/png": "[encoded data removed]",
      "text/plain": [
       "<matplotlib.figure.Figure at 0x24995142c50>"
      ]
     },
     "metadata": {},
     "output_type": "display_data"
    }
   ],
   "source": [
    "import matplotlib.pyplot as plt\n",
    "\n",
    "x = [i for i in range(20)]\n",
    "for i in range(20):\n",
    "    succGA4[i] = succGA4[i]/10\n",
    "plt.plot(x, succGA4)\n",
    "plt.xlabel('Number of Ghosts')\n",
    "plt.ylabel('Survival Rate')\n",
    "plt.title('Agent 4 - 0.25 * dis')\n",
    "plt.show"
   ]
  },
  {
   "cell_type": "code",
   "execution_count": 44,
   "metadata": {
    "scrolled": true
   },
   "outputs": [
    {
     "name": "stdout",
     "output_type": "stream",
     "text": [
      "0\n",
      "1\n",
      "2\n",
      "3\n",
      "4\n",
      "5\n",
      "6\n",
      "7\n",
      "8\n",
      "9\n",
      "10\n",
      "11\n",
      "12\n",
      "13\n",
      "14\n",
      "15\n",
      "16\n",
      "17\n",
      "18\n",
      "19\n"
     ]
    }
   ],
   "source": [
    "succGA4halfD = []\n",
    "for l in range(20):\n",
    "    success = 0\n",
    "    print(l)\n",
    "    for k in range(50):\n",
    "        posG = []\n",
    "        posG = ghost_spw(spwL[k][0], l, posG, 51)\n",
    "        success += agent4_game_on(maze[k][0], posG)\n",
    "    succGA4halfD.append(success/5)"
   ]
  },
  {
   "cell_type": "code",
   "execution_count": 52,
   "metadata": {},
   "outputs": [
    {
     "data": {
      "text/plain": [
       "<function matplotlib.pyplot.show(*args, **kw)>"
      ]
     },
     "execution_count": 52,
     "metadata": {},
     "output_type": "execute_result"
    },
    {
     "data": {
      "image/png": "[encoded data removed]",
      "text/plain": [
       "<matplotlib.figure.Figure at 0x2499735e1d0>"
      ]
     },
     "metadata": {},
     "output_type": "display_data"
    }
   ],
   "source": [
    "#import matplotlib.pyplot as plt\n",
    "\n",
    "x = [i for i in range(20)]\n",
    "for i in range(20):\n",
    "    succGA4halfD[i] = succGA4halfD[i]/10\n",
    "plt.plot(x, succGA4halfD)\n",
    "plt.xlabel('Number of Ghosts')\n",
    "plt.ylabel('Survival Rate')\n",
    "plt.title('Agent 4 - 0.5 * dis')\n",
    "plt.show"
   ]
  },
  {
   "cell_type": "markdown",
   "metadata": {},
   "source": [
    "# Different heuristic includes distance to nearest ghost"
   ]
  },
  {
   "cell_type": "code",
   "execution_count": 53,
   "metadata": {},
   "outputs": [],
   "source": [
    "def hscore(cell1, cell2, posG):\n",
    "    dis = distance(cell1, posG)\n",
    "    manend = abs(cell1[0]-cell2[0]) + abs(cell1[1]-cell2[1])\n",
    "    return manend - dis"
   ]
  },
  {
   "cell_type": "code",
   "execution_count": 59,
   "metadata": {
    "scrolled": true
   },
   "outputs": [
    {
     "name": "stdout",
     "output_type": "stream",
     "text": [
      "20\n"
     ]
    },
    {
     "ename": "AttributeError",
     "evalue": "'list' object has no attribute 'get'",
     "output_type": "error",
     "traceback": [
      "\u001b[1;31m---------------------------------------------------------------------------\u001b[0m",
      "\u001b[1;31mAttributeError\u001b[0m                            Traceback (most recent call last)",
      "\u001b[1;32m<ipython-input-59-3c9f6bb894aa>\u001b[0m in \u001b[0;36m<module>\u001b[1;34m()\u001b[0m\n\u001b[0;32m      7\u001b[0m         \u001b[0mposG\u001b[0m \u001b[1;33m=\u001b[0m \u001b[1;33m[\u001b[0m\u001b[1;33m]\u001b[0m\u001b[1;33m\u001b[0m\u001b[0m\n\u001b[0;32m      8\u001b[0m         \u001b[0mposG\u001b[0m \u001b[1;33m=\u001b[0m \u001b[0mghost_spw\u001b[0m\u001b[1;33m(\u001b[0m\u001b[0mspwL\u001b[0m\u001b[1;33m[\u001b[0m\u001b[0mk\u001b[0m\u001b[1;33m]\u001b[0m\u001b[1;33m[\u001b[0m\u001b[1;36m0\u001b[0m\u001b[1;33m]\u001b[0m\u001b[1;33m,\u001b[0m \u001b[0ml\u001b[0m\u001b[1;33m,\u001b[0m \u001b[0mposG\u001b[0m\u001b[1;33m,\u001b[0m \u001b[1;36m51\u001b[0m\u001b[1;33m)\u001b[0m\u001b[1;33m\u001b[0m\u001b[0m\n\u001b[1;32m----> 9\u001b[1;33m         \u001b[0msuccess\u001b[0m \u001b[1;33m+=\u001b[0m \u001b[0magent4_game_on\u001b[0m\u001b[1;33m(\u001b[0m\u001b[0mmaze\u001b[0m\u001b[1;33m[\u001b[0m\u001b[0mk\u001b[0m\u001b[1;33m]\u001b[0m\u001b[1;33m[\u001b[0m\u001b[1;36m0\u001b[0m\u001b[1;33m]\u001b[0m\u001b[1;33m,\u001b[0m \u001b[0mposG\u001b[0m\u001b[1;33m)\u001b[0m\u001b[1;33m\u001b[0m\u001b[0m\n\u001b[0m\u001b[0;32m     10\u001b[0m     \u001b[0msuccGA4B\u001b[0m\u001b[1;33m.\u001b[0m\u001b[0mappend\u001b[0m\u001b[1;33m(\u001b[0m\u001b[0msuccess\u001b[0m\u001b[1;33m/\u001b[0m\u001b[1;36m5\u001b[0m\u001b[1;33m)\u001b[0m\u001b[1;33m\u001b[0m\u001b[0m\n",
      "\u001b[1;32m<ipython-input-19-83fe1fa7d05e>\u001b[0m in \u001b[0;36magent4_game_on\u001b[1;34m(env, posG)\u001b[0m\n\u001b[0;32m     20\u001b[0m                 \u001b[1;32mif\u001b[0m \u001b[0mi\u001b[0m \u001b[1;33m==\u001b[0m \u001b[1;36m0\u001b[0m \u001b[1;32mand\u001b[0m \u001b[0mcurrC\u001b[0m\u001b[1;33m[\u001b[0m\u001b[1;36m1\u001b[0m\u001b[1;33m]\u001b[0m \u001b[1;33m<\u001b[0m \u001b[0msize\u001b[0m\u001b[1;33m-\u001b[0m\u001b[1;36m1\u001b[0m \u001b[1;32mand\u001b[0m \u001b[0menv\u001b[0m\u001b[1;33m[\u001b[0m\u001b[0mcurrC\u001b[0m\u001b[1;33m[\u001b[0m\u001b[1;36m0\u001b[0m\u001b[1;33m]\u001b[0m\u001b[1;33m,\u001b[0m\u001b[0mcurrC\u001b[0m\u001b[1;33m[\u001b[0m\u001b[1;36m1\u001b[0m\u001b[1;33m]\u001b[0m\u001b[1;33m+\u001b[0m\u001b[1;36m1\u001b[0m\u001b[1;33m]\u001b[0m \u001b[1;33m==\u001b[0m \u001b[1;36m1\u001b[0m\u001b[1;33m:\u001b[0m\u001b[1;33m\u001b[0m\u001b[0m\n\u001b[0;32m     21\u001b[0m                     \u001b[0mnextC\u001b[0m \u001b[1;33m=\u001b[0m \u001b[1;33m(\u001b[0m\u001b[0mcurrC\u001b[0m\u001b[1;33m[\u001b[0m\u001b[1;36m0\u001b[0m\u001b[1;33m]\u001b[0m\u001b[1;33m,\u001b[0m\u001b[0mcurrC\u001b[0m\u001b[1;33m[\u001b[0m\u001b[1;36m1\u001b[0m\u001b[1;33m]\u001b[0m\u001b[1;33m+\u001b[0m\u001b[1;36m1\u001b[0m\u001b[1;33m)\u001b[0m\u001b[1;33m\u001b[0m\u001b[0m\n\u001b[1;32m---> 22\u001b[1;33m                     \u001b[0msrate\u001b[0m\u001b[1;33m,\u001b[0m \u001b[0mdis\u001b[0m \u001b[1;33m=\u001b[0m \u001b[0magent2WAstar\u001b[0m\u001b[1;33m(\u001b[0m\u001b[0menv\u001b[0m\u001b[1;33m,\u001b[0m \u001b[0mnextC\u001b[0m\u001b[1;33m,\u001b[0m \u001b[0mposG_copy\u001b[0m\u001b[1;33m)\u001b[0m\u001b[1;33m\u001b[0m\u001b[0m\n\u001b[0m\u001b[0;32m     23\u001b[0m                 \u001b[1;32mif\u001b[0m \u001b[0mi\u001b[0m \u001b[1;33m==\u001b[0m \u001b[1;36m1\u001b[0m \u001b[1;32mand\u001b[0m  \u001b[0mcurrC\u001b[0m\u001b[1;33m[\u001b[0m\u001b[1;36m0\u001b[0m\u001b[1;33m]\u001b[0m \u001b[1;33m<\u001b[0m \u001b[0msize\u001b[0m\u001b[1;33m-\u001b[0m\u001b[1;36m1\u001b[0m \u001b[1;32mand\u001b[0m \u001b[0menv\u001b[0m\u001b[1;33m[\u001b[0m\u001b[0mcurrC\u001b[0m\u001b[1;33m[\u001b[0m\u001b[1;36m0\u001b[0m\u001b[1;33m]\u001b[0m\u001b[1;33m+\u001b[0m\u001b[1;36m1\u001b[0m\u001b[1;33m,\u001b[0m\u001b[0mcurrC\u001b[0m\u001b[1;33m[\u001b[0m\u001b[1;36m1\u001b[0m\u001b[1;33m]\u001b[0m\u001b[1;33m]\u001b[0m \u001b[1;33m==\u001b[0m \u001b[1;36m1\u001b[0m\u001b[1;33m:\u001b[0m\u001b[1;33m\u001b[0m\u001b[0m\n\u001b[0;32m     24\u001b[0m                     \u001b[0mnextC\u001b[0m \u001b[1;33m=\u001b[0m \u001b[1;33m(\u001b[0m\u001b[0mcurrC\u001b[0m\u001b[1;33m[\u001b[0m\u001b[1;36m0\u001b[0m\u001b[1;33m]\u001b[0m\u001b[1;33m+\u001b[0m\u001b[1;36m1\u001b[0m\u001b[1;33m,\u001b[0m\u001b[0mcurrC\u001b[0m\u001b[1;33m[\u001b[0m\u001b[1;36m1\u001b[0m\u001b[1;33m]\u001b[0m\u001b[1;33m)\u001b[0m\u001b[1;33m\u001b[0m\u001b[0m\n",
      "\u001b[1;32m<ipython-input-57-9c36a24d6fb5>\u001b[0m in \u001b[0;36magent2WAstar\u001b[1;34m(env, currA, posG)\u001b[0m\n\u001b[0;32m     18\u001b[0m         \u001b[1;32mwhile\u001b[0m \u001b[0mcurrA\u001b[0m \u001b[1;33m!=\u001b[0m \u001b[1;33m(\u001b[0m\u001b[0msize\u001b[0m\u001b[1;33m-\u001b[0m\u001b[1;36m1\u001b[0m\u001b[1;33m,\u001b[0m \u001b[0msize\u001b[0m\u001b[1;33m-\u001b[0m\u001b[1;36m1\u001b[0m\u001b[1;33m)\u001b[0m\u001b[1;33m:\u001b[0m\u001b[1;33m\u001b[0m\u001b[0m\n\u001b[0;32m     19\u001b[0m             \u001b[1;32mif\u001b[0m \u001b[0mpath\u001b[0m \u001b[1;33m!=\u001b[0m \u001b[1;32mNone\u001b[0m\u001b[1;33m:\u001b[0m\u001b[1;33m\u001b[0m\u001b[0m\n\u001b[1;32m---> 20\u001b[1;33m                 \u001b[0mcurrA\u001b[0m \u001b[1;33m=\u001b[0m \u001b[0mpath\u001b[0m\u001b[1;33m.\u001b[0m\u001b[0mget\u001b[0m\u001b[1;33m(\u001b[0m\u001b[0mcurrA\u001b[0m\u001b[1;33m)\u001b[0m\u001b[1;33m\u001b[0m\u001b[0m\n\u001b[0m\u001b[0;32m     21\u001b[0m             \u001b[1;32melse\u001b[0m\u001b[1;33m:\u001b[0m\u001b[1;33m\u001b[0m\u001b[0m\n\u001b[0;32m     22\u001b[0m                 \u001b[0mcurrA\u001b[0m \u001b[1;33m=\u001b[0m \u001b[0mmove_away\u001b[0m\u001b[1;33m(\u001b[0m\u001b[0menv_copy\u001b[0m\u001b[1;33m,\u001b[0m \u001b[0mposG\u001b[0m\u001b[1;33m,\u001b[0m \u001b[0mcurrA\u001b[0m\u001b[1;33m)\u001b[0m\u001b[1;33m\u001b[0m\u001b[0m\n",
      "\u001b[1;31mAttributeError\u001b[0m: 'list' object has no attribute 'get'"
     ]
    }
   ],
   "source": [
    "succGA4B = []\n",
    "for l in range(1):\n",
    "    success = 0\n",
    "    l = 20\n",
    "    print(l)\n",
    "    for k in range(1):\n",
    "        posG = []\n",
    "        posG = ghost_spw(spwL[k][0], l, posG, 51)\n",
    "        success += agent4_game_on(maze[k][0], posG)\n",
    "    succGA4B.append(success/5)"
   ]
  },
  {
   "cell_type": "code",
   "execution_count": 56,
   "metadata": {},
   "outputs": [
    {
     "data": {
      "text/plain": [
       "([10.0, 10.0, 9.8, 9.6, 9.4],\n",
       " [1.0,\n",
       "  1.0,\n",
       "  1.0,\n",
       "  0.9,\n",
       "  0.97,\n",
       "  0.97,\n",
       "  0.8400000000000001,\n",
       "  0.8,\n",
       "  0.8699999999999999,\n",
       "  0.8699999999999999,\n",
       "  0.8,\n",
       "  0.76,\n",
       "  0.8,\n",
       "  0.7,\n",
       "  0.75,\n",
       "  0.76,\n",
       "  0.73,\n",
       "  0.72,\n",
       "  0.6,\n",
       "  0.55])"
      ]
     },
     "execution_count": 56,
     "metadata": {},
     "output_type": "execute_result"
    }
   ],
   "source": [
    "succGA4HQD, succGA4halfD"
   ]
  },
  {
   "cell_type": "code",
   "execution_count": null,
   "metadata": {},
   "outputs": [],
   "source": []
  }
 ],
 "metadata": {
  "kernelspec": {
   "display_name": "Python 3",
   "language": "python",
   "name": "python3"
  },
  "language_info": {
   "codemirror_mode": {
    "name": "ipython",
    "version": 3
   },
   "file_extension": ".py",
   "mimetype": "text/x-python",
   "name": "python",
   "nbconvert_exporter": "python",
   "pygments_lexer": "ipython3",
   "version": "3.6.4"
  }
 },
 "nbformat": 4,
 "nbformat_minor": 2
}
