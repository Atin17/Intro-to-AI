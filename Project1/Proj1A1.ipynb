{
 "cells": [
  {
   "cell_type": "markdown",
   "metadata": {},
   "source": [
    "# Maze Environment"
   ]
  },
  {
   "cell_type": "code",
   "execution_count": 1,
   "metadata": {},
   "outputs": [],
   "source": [
    "import numpy as np"
   ]
  },
  {
   "cell_type": "code",
   "execution_count": 989,
   "metadata": {},
   "outputs": [],
   "source": [
    "import math \n",
    "import random"
   ]
  },
  {
   "cell_type": "code",
   "execution_count": 2,
   "metadata": {},
   "outputs": [],
   "source": [
    "from npy_append_array import NpyAppendArray\n",
    "from collections import deque"
   ]
  },
  {
   "cell_type": "code",
   "execution_count": 35,
   "metadata": {},
   "outputs": [],
   "source": [
    "env = np.ndarray(shape=(10,10), buffer = np.zeros((10,10)), dtype = int)"
   ]
  },
  {
   "cell_type": "code",
   "execution_count": 204,
   "metadata": {},
   "outputs": [],
   "source": [
    "def check_path(env, i, j, vis, path, G, x, y):\n",
    "    vis[i][j] = 1\n",
    "    if G == 0 and i == x-1 and j == y-1:\n",
    "        path = 1\n",
    "        return path\n",
    "    else:\n",
    "        if path != 1 and i!=x-1 and env[i+1][j] == 1 and vis[i+1][j] == 0:\n",
    "            path = check_path(env, i+1, j, vis, path, G, x, y)\n",
    "        if path != 1 and j != y-1 and env[i][j+1] == 1 and vis[i][j+1] == 0:\n",
    "            path = check_path(env, i, j+1, vis, path, G, x, y)\n",
    "        if path != 1 and i!=0 and env[i-1][j] == 1 and vis[i-1][j] == 0:\n",
    "            path = check_path(env, i-1, j, vis, path, G, x, y)\n",
    "        if path != 1 and j != 0 and env[i][j-1] == 1 and vis[i][j-1] == 0:\n",
    "            path = check_path(env, i, j-1, vis, path, G, x, y)\n",
    "        return path"
   ]
  },
  {
   "cell_type": "code",
   "execution_count": 263,
   "metadata": {},
   "outputs": [],
   "source": [
    "def create_env(x, y, m):\n",
    "    n=0\n",
    "    while (n<m):\n",
    "        env = np.zeros((x,y), dtype = int)\n",
    "        vis = np.zeros((x,y), dtype = int)\n",
    "\n",
    "        for i in range(x):\n",
    "            for j in range(y):\n",
    "               env[i][j] = np.random.choice(2, 1, p = [0.28,0.72])\n",
    "        env[0,0], env[x-1,y-1] = 1, 1\n",
    "\n",
    "        k = 0\n",
    "        for i in range(x):\n",
    "            for j in range(y):\n",
    "                if env[i][j] == 0:\n",
    "                    k += 1\n",
    "\n",
    "        path = check_path(env, 0, 0, vis, 0, 0, x, y)\n",
    "\n",
    "        if (k/100 < 0.5) and  path == 1:\n",
    "            n += 1\n",
    "            with open(\"test.txt\", \"ab\") as f:\n",
    "                f.write(b\"\\n\")\n",
    "                np.savetxt(f, env, fmt = '%1d')\n",
    "    return env"
   ]
  },
  {
   "cell_type": "markdown",
   "metadata": {},
   "source": [
    "# Ghost Spawn"
   ]
  },
  {
   "cell_type": "code",
   "execution_count": 456,
   "metadata": {
    "collapsed": true
   },
   "outputs": [
    {
     "data": {
      "text/plain": [
       "array([[1, 1, 1, 1, 1, 1, 1, 1, 1, 1, 1, 1, 1, 0, 0, 1, 0],\n",
       "       [1, 0, 1, 1, 1, 1, 1, 1, 1, 1, 1, 0, 1, 1, 1, 1, 1],\n",
       "       [1, 1, 0, 1, 1, 1, 0, 1, 1, 1, 1, 0, 1, 1, 0, 1, 0],\n",
       "       [1, 1, 1, 1, 1, 1, 1, 1, 0, 1, 1, 1, 1, 1, 1, 1, 1],\n",
       "       [1, 1, 1, 1, 1, 1, 1, 1, 1, 1, 1, 0, 1, 1, 1, 1, 1],\n",
       "       [1, 1, 1, 1, 1, 1, 1, 0, 1, 0, 1, 1, 1, 0, 1, 0, 1],\n",
       "       [1, 1, 1, 1, 1, 0, 1, 1, 1, 1, 1, 0, 1, 1, 1, 0, 1],\n",
       "       [1, 1, 0, 1, 1, 1, 1, 0, 1, 1, 1, 1, 0, 1, 1, 0, 0],\n",
       "       [1, 1, 1, 1, 1, 1, 1, 1, 1, 1, 1, 1, 1, 0, 1, 1, 0],\n",
       "       [1, 1, 1, 1, 1, 1, 1, 0, 1, 1, 0, 1, 1, 0, 0, 1, 1],\n",
       "       [0, 1, 1, 1, 1, 1, 1, 1, 1, 1, 0, 1, 1, 1, 1, 0, 1],\n",
       "       [0, 1, 1, 0, 0, 0, 1, 1, 1, 1, 1, 1, 1, 1, 1, 1, 1],\n",
       "       [0, 1, 0, 1, 1, 1, 0, 1, 0, 0, 1, 1, 1, 1, 0, 1, 1],\n",
       "       [1, 1, 1, 1, 1, 1, 1, 1, 1, 1, 1, 0, 1, 1, 1, 1, 1],\n",
       "       [1, 1, 1, 1, 1, 1, 1, 1, 1, 1, 1, 1, 1, 1, 1, 1, 1],\n",
       "       [0, 0, 1, 1, 1, 1, 0, 1, 0, 1, 1, 1, 1, 1, 1, 1, 1],\n",
       "       [0, 1, 1, 1, 1, 1, 1, 1, 1, 1, 1, 1, 1, 1, 1, 1, 1]])"
      ]
     },
     "execution_count": 456,
     "metadata": {},
     "output_type": "execute_result"
    }
   ],
   "source": [
    "spwG = np.zeros((17,17), dtype = int) #where ghost can spawn\n",
    "path = check_path(env, 0, 0, spwG, 0, 1, 17, 17)\n",
    "spwG"
   ]
  },
  {
   "cell_type": "code",
   "execution_count": 985,
   "metadata": {},
   "outputs": [
    {
     "data": {
      "text/plain": [
       "(array([[1, 1, 1, 1, 1, 1, 1, 1, 1, 0, 0, 0, 1, 0, 0, 0, 0],\n",
       "        [0, 0, 1, 0, 1, 1, 1, 0, 1, 0, 1, 0, 1, 0, 1, 1, 1],\n",
       "        [1, 1, 0, 0, 0, 0, 0, 1, 1, 1, 1, 0, 1, 0, 0, 0, 0],\n",
       "        [1, 1, 0, 1, 0, 0, 1, 0, 0, 1, 1, 1, 1, 1, 1, 1, 0],\n",
       "        [0, 1, 1, 1, 1, 1, 1, 0, 1, 0, 1, 0, 1, 1, 1, 1, 1],\n",
       "        [1, 0, 1, 1, 1, 1, 1, 0, 1, 0, 0, 1, 0, 0, 1, 0, 1],\n",
       "        [1, 0, 0, 1, 1, 0, 1, 0, 1, 0, 0, 0, 0, 1, 1, 0, 0],\n",
       "        [1, 1, 0, 1, 1, 0, 1, 0, 1, 1, 1, 1, 0, 0, 1, 0, 0],\n",
       "        [1, 0, 1, 1, 1, 1, 0, 0, 1, 1, 1, 1, 1, 0, 1, 1, 0],\n",
       "        [0, 1, 1, 0, 0, 1, 1, 0, 1, 1, 0, 1, 1, 0, 0, 0, 1],\n",
       "        [0, 1, 0, 1, 0, 1, 0, 1, 1, 0, 0, 1, 0, 1, 1, 0, 1],\n",
       "        [0, 1, 1, 0, 0, 0, 1, 0, 1, 1, 0, 1, 1, 1, 0, 0, 0],\n",
       "        [0, 1, 0, 1, 1, 0, 0, 0, 0, 0, 1, 1, 1, 1, 0, 1, 1],\n",
       "        [1, 1, 0, 1, 1, 0, 1, 1, 0, 0, 0, 0, 1, 1, 1, 1, 1],\n",
       "        [1, 0, 1, 1, 0, 0, 1, 0, 0, 1, 0, 1, 1, 0, 1, 1, 1],\n",
       "        [0, 0, 1, 0, 1, 0, 0, 0, 0, 0, 1, 0, 1, 1, 1, 1, 0],\n",
       "        [0, 0, 0, 1, 1, 1, 0, 0, 0, 1, 0, 1, 1, 0, 1, 1, 1]]),\n",
       " array([[1, 1, 1, 1, 1, 1, 1, 1, 1, 1, 1, 1, 1, 0, 0, 1, 0],\n",
       "        [1, 0, 1, 1, 1, 1, 1, 1, 1, 1, 1, 0, 1, 1, 1, 1, 1],\n",
       "        [1, 1, 0, 1, 1, 1, 0, 1, 1, 1, 1, 0, 1, 1, 0, 1, 0],\n",
       "        [1, 1, 1, 1, 1, 1, 1, 1, 0, 1, 1, 1, 1, 1, 1, 1, 1],\n",
       "        [1, 1, 1, 1, 1, 1, 1, 1, 1, 1, 1, 0, 1, 1, 1, 1, 1],\n",
       "        [1, 1, 1, 1, 1, 1, 1, 0, 1, 0, 1, 1, 1, 0, 1, 0, 1],\n",
       "        [1, 1, 1, 1, 1, 0, 1, 1, 1, 1, 1, 0, 1, 1, 1, 0, 1],\n",
       "        [1, 1, 0, 1, 1, 1, 1, 0, 1, 1, 1, 1, 0, 1, 1, 0, 0],\n",
       "        [1, 1, 1, 1, 1, 1, 1, 1, 1, 1, 1, 1, 1, 0, 1, 1, 0],\n",
       "        [1, 1, 1, 1, 1, 1, 1, 0, 1, 1, 0, 1, 1, 0, 0, 1, 1],\n",
       "        [0, 1, 1, 1, 1, 1, 1, 1, 1, 1, 0, 1, 1, 1, 1, 0, 1],\n",
       "        [0, 1, 1, 0, 0, 0, 1, 1, 1, 1, 1, 1, 1, 1, 1, 1, 1],\n",
       "        [0, 1, 0, 1, 1, 1, 0, 1, 0, 0, 1, 1, 1, 1, 0, 1, 1],\n",
       "        [1, 1, 1, 1, 1, 1, 1, 1, 1, 1, 1, 0, 1, 1, 1, 1, 1],\n",
       "        [1, 1, 1, 1, 1, 1, 1, 1, 1, 1, 1, 1, 1, 1, 1, 1, 1],\n",
       "        [0, 0, 1, 1, 1, 1, 0, 1, 0, 1, 1, 1, 1, 1, 1, 1, 1],\n",
       "        [0, 1, 1, 1, 1, 1, 1, 1, 1, 1, 1, 1, 1, 1, 1, 1, 1]]))"
      ]
     },
     "execution_count": 985,
     "metadata": {},
     "output_type": "execute_result"
    }
   ],
   "source": [
    "env_copy  = env.copy()\n",
    "for i in posG:\n",
    "    env_copy[i[0]][i[1]] = 0\n",
    "env_copy, env"
   ]
  },
  {
   "cell_type": "code",
   "execution_count": 982,
   "metadata": {
    "scrolled": true
   },
   "outputs": [
    {
     "data": {
      "text/plain": [
       "array([[1, 1, 1, 1, 1, 1, 1, 1, 1, 1, 1, 1, 1, 0, 0, 1, 0],\n",
       "       [1, 0, 1, 1, 1, 1, 1, 1, 1, 1, 1, 0, 1, 1, 1, 1, 1],\n",
       "       [1, 1, 0, 1, 1, 1, 0, 1, 1, 1, 1, 0, 1, 1, 0, 1, 0],\n",
       "       [1, 1, 1, 1, 1, 1, 1, 1, 0, 1, 1, 1, 1, 1, 1, 1, 1],\n",
       "       [1, 1, 1, 1, 1, 1, 1, 1, 1, 1, 1, 0, 1, 1, 1, 1, 1],\n",
       "       [1, 1, 1, 1, 1, 1, 1, 0, 1, 0, 1, 1, 1, 0, 1, 0, 1],\n",
       "       [1, 1, 1, 1, 1, 0, 1, 1, 1, 1, 1, 0, 1, 1, 1, 0, 1],\n",
       "       [1, 1, 0, 1, 1, 1, 1, 0, 1, 1, 1, 1, 0, 1, 1, 0, 0],\n",
       "       [1, 1, 1, 1, 1, 1, 1, 1, 1, 1, 1, 1, 1, 0, 1, 1, 0],\n",
       "       [1, 1, 1, 1, 1, 1, 1, 0, 1, 1, 0, 1, 1, 0, 0, 1, 1],\n",
       "       [0, 1, 1, 1, 1, 1, 1, 1, 1, 1, 0, 1, 1, 1, 1, 0, 1],\n",
       "       [0, 1, 1, 0, 0, 0, 1, 1, 1, 1, 1, 1, 1, 1, 1, 1, 1],\n",
       "       [0, 1, 0, 1, 1, 1, 0, 1, 0, 0, 1, 1, 1, 1, 0, 1, 1],\n",
       "       [1, 1, 1, 1, 1, 1, 1, 1, 1, 1, 1, 0, 1, 1, 1, 1, 1],\n",
       "       [1, 1, 1, 1, 1, 1, 1, 1, 1, 1, 1, 1, 1, 1, 1, 1, 1],\n",
       "       [0, 0, 1, 1, 1, 1, 0, 1, 0, 1, 1, 1, 1, 1, 1, 1, 1],\n",
       "       [0, 1, 1, 1, 1, 1, 1, 1, 1, 1, 1, 1, 1, 1, 1, 1, 1]])"
      ]
     },
     "execution_count": 982,
     "metadata": {},
     "output_type": "execute_result"
    }
   ],
   "source": [
    "spwG"
   ]
  },
  {
   "cell_type": "code",
   "execution_count": 998,
   "metadata": {},
   "outputs": [],
   "source": [
    "def ghost_spw(spwG, n, posG, m):\n",
    "    for i in range(n):\n",
    "        randRow = 0\n",
    "        randCol = 0\n",
    "        while ((randRow == 0 and randCol == 0) or (randRow == m-1 and randCol == m-1) or spwG[randRow][randCol] == 0):\n",
    "            randRow = random.randint(0,m-1)\n",
    "            if randRow == 0:\n",
    "                randCol = random.randint(1, m-1)\n",
    "            elif randRow == m-1:\n",
    "                randCol = random.randint(0, m-2)\n",
    "            else:\n",
    "                randCol = random.randint(0, m-1)\n",
    "            print(randRow, randCol)\n",
    "        posG.append((randRow, randCol))\n",
    "    return posG"
   ]
  },
  {
   "cell_type": "code",
   "execution_count": 1013,
   "metadata": {
    "scrolled": true
   },
   "outputs": [
    {
     "name": "stdout",
     "output_type": "stream",
     "text": [
      "5 16\n",
      "10 14\n",
      "14 7\n",
      "1 8\n",
      "3 0\n",
      "7 2\n",
      "10 12\n",
      "2 11\n",
      "11 7\n",
      "4 6\n",
      "7 12\n",
      "0 15\n",
      "4 1\n",
      "11 13\n",
      "4 10\n",
      "5 15\n",
      "16 7\n",
      "5 8\n",
      "16 10\n",
      "7 3\n",
      "1 8\n",
      "8 12\n",
      "15 3\n",
      "14 6\n",
      "9 15\n",
      "6 16\n",
      "5 8\n",
      "12 9\n",
      "7 2\n",
      "2 14\n",
      "1 6\n",
      "11 8\n",
      "16 2\n",
      "8 16\n",
      "11 6\n",
      "15 12\n",
      "9 15\n",
      "12 12\n"
     ]
    }
   ],
   "source": [
    "posG = []\n",
    "posG = ghost_spw(spwG, 30, posG, 17)"
   ]
  },
  {
   "cell_type": "code",
   "execution_count": 976,
   "metadata": {},
   "outputs": [
    {
     "data": {
      "text/plain": [
       "array([14])"
      ]
     },
     "execution_count": 976,
     "metadata": {},
     "output_type": "execute_result"
    }
   ],
   "source": [
    "randRow = np.random.randint(16, size=1)#[0]\n",
    "randRow"
   ]
  },
  {
   "cell_type": "markdown",
   "metadata": {},
   "source": [
    "# Ghost Movement"
   ]
  },
  {
   "cell_type": "code",
   "execution_count": 761,
   "metadata": {},
   "outputs": [],
   "source": [
    "def move_ghosts(posG, env, size):\n",
    "    for i in range(len(posG)):\n",
    "        x = posG[i][0]\n",
    "        y = posG[i][1]\n",
    "        movedG = False\n",
    "        while not(movedG):\n",
    "            move = np.random.randint(4, size = 1)[0]\n",
    "            if move == 0 and x != 0:\n",
    "                    movedG = True\n",
    "                    if env[x-1][y] == 1:\n",
    "                        x -= 1\n",
    "                    else:\n",
    "                        mv_into_wall = np.random.choice(2, 1, p = [0.5, 0.5])\n",
    "                        if mv_into_wall == 1:\n",
    "                            x -= 1\n",
    "            elif move == 1 and y != size-1:\n",
    "                    movedG = True\n",
    "                    if env[x][y+1] == 1:\n",
    "                        y += 1\n",
    "                    else:\n",
    "                        mv_into_wall = np.random.choice(2, 1, p = [0.5, 0.5])\n",
    "                        if mv_into_wall == 1:\n",
    "                            y += 1\n",
    "            elif move == 2 and x != size-1:\n",
    "                    movedG = True\n",
    "                    if env[x+1][y] == 1:\n",
    "                        x += 1\n",
    "                    else:\n",
    "                        mv_into_wall = np.random.choice(2, 1, p = [0.5, 0.5])\n",
    "                        if mv_into_wall == 1:\n",
    "                            x += 1\n",
    "            elif move == 3 and y != 0:\n",
    "                    movedG = True\n",
    "                    if env[x][y-1] == 1:\n",
    "                        y -= 1\n",
    "                    else:\n",
    "                        mv_into_wall = np.random.choice(2, 1, p = [0.5, 0.5])\n",
    "                        if mv_into_wall == 1:\n",
    "                            y -= 1\n",
    "        posG[i] = tuple([x, y])\n",
    "    return posG            "
   ]
  },
  {
   "cell_type": "markdown",
   "metadata": {},
   "source": [
    "# Shortest path for Agent 1"
   ]
  },
  {
   "cell_type": "code",
   "execution_count": 534,
   "metadata": {},
   "outputs": [],
   "source": [
    "def BFS(env, vis, size, start):\n",
    "    q = [[[start[0], start[1]]]]\n",
    "    path = list()\n",
    "    vis[start[0],start[1]] = 1\n",
    "    #q.append(list([0,0]))\n",
    "    #print(q)\n",
    "    while len(q) != 0:\n",
    "        path = q.pop(0)\n",
    "        #print(\"q \" , q)\n",
    "        node = path[-1]\n",
    "        #print(\"Path \" , path)\n",
    "        i = node[0]\n",
    "        j = node[1]\n",
    "        if i == size-1 and j == size-1:\n",
    "            return path\n",
    "        if i!= size-1 and env[i+1][j] == 1 and vis[i+1][j] == 0:\n",
    "            new_path = list(path)\n",
    "            #print(\"new_path1 \" , new_path)\n",
    "            new_path.append([i+1,j])\n",
    "            #print(\"new_path2 \" , new_path)\n",
    "            #print(\"path \" , path)\n",
    "            q.append(new_path)\n",
    "            #print(\"q\" , q)\n",
    "            vis[i+1][j] = 1\n",
    "        if j != size-1 and env[i][j+1] == 1 and vis[i][j+1] == 0:\n",
    "            new_path = list(path)\n",
    "            #print(\"new_path1 \" , new_path)\n",
    "            new_path.append([i,j+1])\n",
    "            #print(\"new_path2 \" , new_path)\n",
    "            q.append(new_path)\n",
    "            vis[i][j+1] = 1\n",
    "        if i != 0 and env[i-1][j] == 1 and vis[i-1][j] == 0:\n",
    "            new_path = path\n",
    "            new_path.append([i-1,j])\n",
    "            q.append(new_path)\n",
    "            vis[i-1][j] = 1\n",
    "        if j != 0 and env[i][j-1] == 1 and vis[i][j-1] == 0:\n",
    "            new_path = path\n",
    "            new_path.append([i,j-1])\n",
    "            q.append(new_path)\n",
    "            vis[i][j-1] = 1\n",
    "    "
   ]
  },
  {
   "cell_type": "code",
   "execution_count": 541,
   "metadata": {},
   "outputs": [
    {
     "name": "stdout",
     "output_type": "stream",
     "text": [
      "[[4, 7], [5, 7], [6, 7], [7, 7], [8, 7], [8, 8], [9, 8], [10, 8], [11, 8], [12, 8], [13, 8], [14, 8], [15, 8], [16, 8], [16, 9], [16, 10], [16, 11], [16, 12], [16, 13], [16, 14], [16, 15], [16, 16]]\n"
     ]
    }
   ],
   "source": [
    "print(BFS(env, vis, 17, [4,7]))"
   ]
  },
  {
   "cell_type": "code",
   "execution_count": 698,
   "metadata": {},
   "outputs": [
    {
     "ename": "NameError",
     "evalue": "name 'pathF' is not defined",
     "output_type": "error",
     "traceback": [
      "\u001b[1;31m---------------------------------------------------------------------------\u001b[0m",
      "\u001b[1;31mNameError\u001b[0m                                 Traceback (most recent call last)",
      "\u001b[1;32m<ipython-input-698-58841797b03f>\u001b[0m in \u001b[0;36m<module>\u001b[1;34m()\u001b[0m\n\u001b[1;32m----> 1\u001b[1;33m \u001b[0mpathF\u001b[0m\u001b[1;33m\u001b[0m\u001b[0m\n\u001b[0m",
      "\u001b[1;31mNameError\u001b[0m: name 'pathF' is not defined"
     ]
    }
   ],
   "source": [
    "pathF"
   ]
  },
  {
   "cell_type": "code",
   "execution_count": 192,
   "metadata": {},
   "outputs": [
    {
     "name": "stdout",
     "output_type": "stream",
     "text": [
      "[[0, 9]]\n",
      "[[0, 9]]\n",
      "[[0, 9]]\n",
      "[[0, 9], [1, 0]]\n"
     ]
    },
    {
     "data": {
      "text/plain": [
       "[[0, 9], [1, 0]]"
      ]
     },
     "execution_count": 192,
     "metadata": {},
     "output_type": "execute_result"
    }
   ],
   "source": [
    "q = []\n",
    "path = []\n",
    "q.append([0,9])\n",
    "print(q)\n",
    "path = list([q.pop(0)])\n",
    "print(path)\n",
    "new_path = path\n",
    "print(new_path)\n",
    "new_path.append([1,0])\n",
    "print(new_path)\n",
    "q.extend(new_path)\n",
    "q"
   ]
  },
  {
   "cell_type": "code",
   "execution_count": 94,
   "metadata": {},
   "outputs": [
    {
     "data": {
      "text/plain": [
       "1"
      ]
     },
     "execution_count": 94,
     "metadata": {},
     "output_type": "execute_result"
    }
   ],
   "source": [
    "list([0,1])[1]"
   ]
  },
  {
   "cell_type": "code",
   "execution_count": 194,
   "metadata": {
    "collapsed": true
   },
   "outputs": [
    {
     "data": {
      "text/plain": [
       "(array([[1, 0, 0, 1, 1, 1, 0, 1, 0, 1],\n",
       "        [1, 1, 1, 1, 1, 0, 1, 0, 1, 1],\n",
       "        [1, 1, 1, 1, 0, 1, 1, 0, 1, 1],\n",
       "        [1, 1, 1, 1, 0, 1, 0, 0, 1, 1],\n",
       "        [1, 1, 1, 1, 1, 1, 1, 1, 1, 0],\n",
       "        [0, 1, 1, 1, 1, 0, 0, 0, 1, 0],\n",
       "        [1, 1, 1, 0, 1, 1, 1, 1, 1, 1],\n",
       "        [1, 1, 1, 0, 0, 0, 0, 1, 1, 0],\n",
       "        [1, 0, 1, 1, 0, 1, 1, 0, 1, 1],\n",
       "        [0, 0, 0, 1, 0, 1, 0, 1, 1, 1]]),\n",
       " array([[0, 0, 0, 0, 0, 0, 0, 0, 0, 0],\n",
       "        [0, 0, 0, 0, 0, 0, 0, 0, 0, 0],\n",
       "        [0, 0, 0, 0, 0, 0, 0, 0, 0, 0],\n",
       "        [0, 0, 0, 0, 0, 0, 0, 0, 0, 0],\n",
       "        [0, 0, 0, 0, 0, 0, 0, 0, 0, 0],\n",
       "        [0, 0, 0, 0, 0, 0, 0, 0, 0, 0],\n",
       "        [0, 0, 0, 0, 0, 0, 0, 0, 0, 0],\n",
       "        [0, 0, 0, 0, 0, 0, 0, 0, 0, 0],\n",
       "        [0, 0, 0, 0, 0, 0, 0, 0, 0, 0],\n",
       "        [0, 0, 0, 0, 0, 0, 0, 0, 0, 0]]))"
      ]
     },
     "execution_count": 194,
     "metadata": {},
     "output_type": "execute_result"
    }
   ],
   "source": [
    "vis = np.zeros((3,3), dtype = int)\n",
    "env, vis"
   ]
  },
  {
   "cell_type": "code",
   "execution_count": 273,
   "metadata": {},
   "outputs": [],
   "source": [
    "env = create_env(17, 17, 1)\n",
    "#env = np.array([[1,1,1],[1,1,1],[0,0,1]])"
   ]
  },
  {
   "cell_type": "markdown",
   "metadata": {},
   "source": [
    "# Agent 1 Game Starts"
   ]
  },
  {
   "cell_type": "code",
   "execution_count": 476,
   "metadata": {},
   "outputs": [],
   "source": [
    "vis = np.zeros(shape=(17,17), dtype = int)\n",
    "path = BFS(env, vis, 17, 17)\n"
   ]
  },
  {
   "cell_type": "code",
   "execution_count": 477,
   "metadata": {},
   "outputs": [
    {
     "data": {
      "text/plain": [
       "4"
      ]
     },
     "execution_count": 477,
     "metadata": {},
     "output_type": "execute_result"
    }
   ],
   "source": [
    "vis = np.zeros(shape=(17,17), dtype = int)\n",
    "path = BFS(env, vis, 17)\n",
    "currA = path[0]\n",
    "success = 0\n",
    "j=0\n",
    "while j<10:\n",
    "    m=True\n",
    "    for i in range(len(path)-1):\n",
    "        currA = path[i+1]\n",
    "        posG = move_ghosts(posG, env, 17)\n",
    "        if currA in posG:\n",
    "            m = False\n",
    "            break\n",
    "    if m == True:\n",
    "        success += 1\n",
    "    j+=1\n",
    "success"
   ]
  },
  {
   "cell_type": "code",
   "execution_count": 478,
   "metadata": {},
   "outputs": [
    {
     "data": {
      "text/plain": [
       "33"
      ]
     },
     "execution_count": 478,
     "metadata": {},
     "output_type": "execute_result"
    }
   ],
   "source": [
    "len(path)"
   ]
  },
  {
   "cell_type": "code",
   "execution_count": 374,
   "metadata": {},
   "outputs": [
    {
     "data": {
      "text/plain": [
       "[5, 12]"
      ]
     },
     "execution_count": 374,
     "metadata": {},
     "output_type": "execute_result"
    }
   ],
   "source": [
    "#currA = path[1]\n",
    "currA = [5, 12]\n",
    "currA"
   ]
  },
  {
   "cell_type": "code",
   "execution_count": 434,
   "metadata": {},
   "outputs": [
    {
     "name": "stdout",
     "output_type": "stream",
     "text": [
      "[[6, 6], [9, 2], [8, 4], [11, 10], [14, 4], [16, 15], [7, 13], [6, 4], [7, 11], [12, 3], [10, 9], [3, 2], [10, 13], [15, 5], [10, 16], [11, 9], [13, 13], [8, 15], [8, 4], [3, 12]]\n"
     ]
    }
   ],
   "source": [
    "print(posG)"
   ]
  },
  {
   "cell_type": "code",
   "execution_count": 376,
   "metadata": {},
   "outputs": [
    {
     "name": "stdout",
     "output_type": "stream",
     "text": [
      "Yay\n"
     ]
    }
   ],
   "source": [
    "if currA in posG:\n",
    "    print(\"Yay\")"
   ]
  },
  {
   "cell_type": "markdown",
   "metadata": {},
   "source": [
    "# Agent 2 Starts Here"
   ]
  },
  {
   "cell_type": "code",
   "execution_count": 542,
   "metadata": {},
   "outputs": [],
   "source": [
    "def BFS_w_ghosts(env, posG, size, currA):\n",
    "    env_copy  = env.copy()\n",
    "    vis = np.zeros((size, size), dtype = int)\n",
    "    for i in posG:\n",
    "        env[i[0]][i[1]] = 1\n",
    "    path = BFS(env_copy, vis, 17, currA)\n",
    "    return path"
   ]
  },
  {
   "cell_type": "code",
   "execution_count": 1004,
   "metadata": {},
   "outputs": [],
   "source": [
    "def move_away(envC, posG, currA):\n",
    "    min = 100\n",
    "    for i in posG:\n",
    "        dis = math.sqrt((currA[1]-i[1])*(currA[1]-i[1])+(currA[0]-i[0])*(currA[0]-i[0]))\n",
    "        if dis < min:\n",
    "            min = dis\n",
    "            minG = i\n",
    "    if (minG[0] - currA[0]) == 0:\n",
    "        slope = 1\n",
    "    else:\n",
    "        slope = (minG[1] - currA[1])/(minG[0] - currA[0])\n",
    "    if slope == 1 and minG[1] > 0 and currA[0] < len(envC)-1:\n",
    "        return (currA[0]+1, currA[1]) \n",
    "    elif minG[1] < 0 and currA[0] > 0:\n",
    "        return (currA[0]-1, currA[1])\n",
    "    elif slope == 0 and minG[0] > 0 and currA[1] > 0:\n",
    "        return (currA[0], currA[1]-1)\n",
    "    elif minG[0] < 0 and currA[1] < 0 and currA[1] < len(envC)-1:\n",
    "        return (currA[0], currA[1]+1)\n",
    "    if slope < 1 and slope > -1 and currA[1] > 0 and env[currA[0],currA[1]-1] == 1:\n",
    "        return (currA[0], currA[1]-1)\n",
    "    if slope < 1 and slope < -1 and currA[0] > 0 and env[currA[0]-1,currA[1]] == 1:\n",
    "        return (currA[0]-1, currA[1])\n",
    "    if slope > 1 and slope < -1 and currA[1] < len(envC)-1 and env[currA[0],currA[1]+1] == 1:\n",
    "        return (currA[0], currA[1]+1)\n",
    "    if slope > 1 and slope > -1 and currA[0] < len(envC)-1 and env[currA[0]+1,currA[1]] == 1:\n",
    "        return (currA[0]+1, currA[1])\n",
    "    return currA"
   ]
  },
  {
   "cell_type": "code",
   "execution_count": 567,
   "metadata": {},
   "outputs": [],
   "source": []
  },
  {
   "cell_type": "code",
   "execution_count": 948,
   "metadata": {},
   "outputs": [],
   "source": [
    "posG = []\n",
    "posG = ghost_spw(spwG, 100, posG, 17)"
   ]
  },
  {
   "cell_type": "code",
   "execution_count": 628,
   "metadata": {
    "scrolled": true
   },
   "outputs": [
    {
     "data": {
      "text/plain": [
       "3"
      ]
     },
     "execution_count": 628,
     "metadata": {},
     "output_type": "execute_result"
    }
   ],
   "source": [
    "succGA2 = []\n",
    "for l in range(200):\n",
    "    success = 0\n",
    "    print(l)\n",
    "    for k in range(50):\n",
    "        currA = [0,0]\n",
    "        vis = np.zeros(shape=(51, 51), dtype = int)\n",
    "        j=0\n",
    "        while j<10:\n",
    "            posG = []\n",
    "            posG = ghost_spw(spwL[k][0], l, posG, 51)\n",
    "            path = BFS_w_ghosts(maze[k][0], posG, 51, currA)\n",
    "            currA = path[0]\n",
    "            m=True\n",
    "            i=0\n",
    "            while currA != [50, 50]:\n",
    "                #print(path, i)\n",
    "                currA = path[i+1]\n",
    "                if tuple(path[i+1]) in posG:\n",
    "                    i=-1\n",
    "                    path = BFS_w_ghosts(maze[k][0], posG, 51, currA)\n",
    "                if path == None:\n",
    "                    i=-1\n",
    "                    currA = move_away(maze[k][0], posG, currA)\n",
    "                    path = BFS_w_ghosts(maze[k][0], posG, 51, currA)\n",
    "                #old_posG = posG.copy()\n",
    "                posG = move_ghosts(posG, maze[k][0], 51)\n",
    "                if tuple(currA) in posG:\n",
    "                    m = False\n",
    "                    break\n",
    "                i+=1\n",
    "\n",
    "            if m == True:\n",
    "                success += 1\n",
    "            j+=1\n",
    "    succGA2.append(success/5)"
   ]
  },
  {
   "cell_type": "code",
   "execution_count": 629,
   "metadata": {},
   "outputs": [
    {
     "name": "stdout",
     "output_type": "stream",
     "text": [
      "[[16, 1], [10, 4], [11, 6], [7, 5], [3, 6], [13, 10], [0, 12], [14, 3], [12, 4], [9, 15], [3, 8], [13, 10], [12, 15], [15, 1], [6, 9], [14, 7], [11, 10], [12, 14], [13, 7], [13, 8]]\n"
     ]
    }
   ],
   "source": [
    "old_posG = posG.copy()\n",
    "print(old_posG)"
   ]
  },
  {
   "cell_type": "code",
   "execution_count": 630,
   "metadata": {},
   "outputs": [
    {
     "name": "stdout",
     "output_type": "stream",
     "text": [
      "yay\n"
     ]
    }
   ],
   "source": [
    "if posG == old_posG:\n",
    "    print(\"yay\")"
   ]
  },
  {
   "cell_type": "code",
   "execution_count": 634,
   "metadata": {},
   "outputs": [
    {
     "data": {
      "text/plain": [
       "17"
      ]
     },
     "execution_count": 634,
     "metadata": {},
     "output_type": "execute_result"
    }
   ],
   "source": [
    "len(env[0])"
   ]
  },
  {
   "cell_type": "markdown",
   "metadata": {},
   "source": [
    "# Agent 3 Begins Here"
   ]
  },
  {
   "cell_type": "code",
   "execution_count": 631,
   "metadata": {},
   "outputs": [],
   "source": [
    "from queue import PriorityQueue"
   ]
  },
  {
   "cell_type": "code",
   "execution_count": 632,
   "metadata": {},
   "outputs": [],
   "source": [
    "pq = PriorityQueue"
   ]
  },
  {
   "cell_type": "code",
   "execution_count": 643,
   "metadata": {},
   "outputs": [],
   "source": [
    "def hscore(cell1, cell2):\n",
    "    return abs(cell1[0]-cell2[0]) + abs(cell1[1]-cell2[1])"
   ]
  },
  {
   "cell_type": "code",
   "execution_count": 926,
   "metadata": {},
   "outputs": [],
   "source": [
    "def astar(env, currA, size):\n",
    "    gscore = {}\n",
    "    fscore = {}\n",
    "    childC = None\n",
    "    for i in range(size):\n",
    "        for j in range(size):\n",
    "            gscore[(i,j)] = float('inf')\n",
    "            fscore[(i,j)] = float('inf')\n",
    "    #print(gscore, fscore)      \n",
    "    gscore[(currA[0], currA[1])] = 0\n",
    "    fscore[(currA[0], currA[1])] = hscore(currA, [size-1, size-1])\n",
    "    \n",
    "    pq = PriorityQueue()\n",
    "    pq.put((hscore(currA, (size-1,size-1)), hscore(currA, (size-1,size-1)), currA))\n",
    "    pathA = {}\n",
    "    while not pq.empty():\n",
    "        currC = tuple(pq.get()[2])\n",
    "        if currC == (size-1, size-1):\n",
    "            break\n",
    "        for i in range(4):\n",
    "            if i == 0 and currC[1] < size-1 and env[currC[0],currC[1]+1] == 1:\n",
    "                childC = tuple([currC[0],currC[1]+1])\n",
    "                tempgscore = gscore[currC]+1\n",
    "                tempfscore = tempgscore + hscore(childC, (size-1, size-1))\n",
    "            \n",
    "                if tempfscore < fscore[childC]:\n",
    "                    gscore[childC] = tempgscore\n",
    "                    fscore[childC] = tempfscore\n",
    "                    pq.put((tempfscore, hscore(childC,(size-1, size-1)), childC))\n",
    "                    pathA[childC] = currC\n",
    "            if i == 1 and  currC[0] < size-1 and env[currC[0]+1,currC[1]] == 1:\n",
    "                childC = (currC[0]+1,currC[1])\n",
    "                tempgscore = gscore[currC]+1\n",
    "                tempfscore = tempgscore + hscore(childC, (size-1, size-1))\n",
    "            \n",
    "                if tempfscore < fscore[childC]:\n",
    "                    gscore[childC] = tempgscore\n",
    "                    fscore[childC] = tempfscore\n",
    "                    pq.put((tempfscore, hscore(childC,(size-1, size-1)), childC))\n",
    "                    pathA[childC] = currC\n",
    "            if i == 2 and currC[1] > 0 and env[currC[0],currC[1]-1] == 1:\n",
    "                childC = (currC[0],currC[1]-1)\n",
    "                tempgscore = gscore[currC]+1\n",
    "                tempfscore = tempgscore + hscore(childC, (size-1, size-1))\n",
    "            \n",
    "                if tempfscore < fscore[childC]:\n",
    "                    gscore[childC] = tempgscore\n",
    "                    fscore[childC] = tempfscore\n",
    "                    pq.put((tempfscore, hscore(childC,(size-1, size-1)), childC))\n",
    "                    pathA[childC] = currC\n",
    "            if i == 3  and currC[0] > 0 and env[currC[0]-1,currC[1]] == 1:\n",
    "                childC = (currC[0]-1,currC[1])\n",
    "                tempgscore = gscore[currC]+1\n",
    "                tempfscore = tempgscore + hscore(childC, (size-1, size-1))\n",
    "            \n",
    "                if tempfscore < fscore[childC]:\n",
    "                    gscore[childC] = tempgscore\n",
    "                    fscore[childC] = tempfscore\n",
    "                    pq.put((tempfscore, hscore(childC,(size-1, size-1)), childC))\n",
    "                    pathA[childC] = currC\n",
    "            \n",
    "\n",
    "    pathF = {}\n",
    "    #print(\"currA\", currA)\n",
    "    cell = (size-1, size-1)\n",
    "    #print(\"pathA\", pathA)\n",
    "    if pathA.get(cell) == None:\n",
    "        return None\n",
    "    while cell != tuple(currA):\n",
    "        pathF[pathA[cell]] = cell\n",
    "        cell = pathA[cell]\n",
    "    #print(\"pathF\", pathF)\n",
    "    return pathF\n"
   ]
  },
  {
   "cell_type": "code",
   "execution_count": 781,
   "metadata": {},
   "outputs": [],
   "source": [
    "def astar_w_ghosts(env, currA, posG):\n",
    "    env_copy  = env.copy()\n",
    "    for i in posG:\n",
    "        env_copy[i[0]][i[1]] = 0\n",
    "    path = astar(env_copy, currA, len(env))\n",
    "    return path"
   ]
  },
  {
   "cell_type": "code",
   "execution_count": 1017,
   "metadata": {},
   "outputs": [],
   "source": [
    "def agent3_game_on(env, posG):\n",
    "    currC = (0,0)\n",
    "    size = len(env)\n",
    "    success = 0\n",
    "    j=0\n",
    "    childC = None\n",
    "    env_copy = env.copy()\n",
    "    for i in posG:\n",
    "        env_copy[i[0]][i[1]] = 0\n",
    "    while j<30:\n",
    "        m = True\n",
    "        while currC != (size-1, size-1):\n",
    "            #print(currC)\n",
    "            dis = 1000\n",
    "            minD = 1000\n",
    "            maxS = 0\n",
    "            srate = 0\n",
    "            posG_copy = posG.copy()\n",
    "            for i in range(5):\n",
    "                if i == 0 and currC[1] < size-1 and env[currC[0],currC[1]+1] == 1:\n",
    "                    nextC = (currC[0],currC[1]+1)\n",
    "                    srate, dis = agent2WAstar(env, nextC, posG_copy)\n",
    "                if i == 1 and  currC[0] < size-1 and env[currC[0]+1,currC[1]] == 1:\n",
    "                    nextC = (currC[0]+1,currC[1])\n",
    "                    srate, dis = agent2WAstar(env, nextC, posG_copy)\n",
    "                if i == 2 and currC[1] > 0 and env[currC[0],currC[1]-1] == 1:\n",
    "                    nextC = (currC[0],currC[1]-1)\n",
    "                    srate, dis = agent2WAstar(env, nextC, posG_copy)\n",
    "                if i == 3  and currC[0] > 0 and env[currC[0]-1,currC[1]] == 1:\n",
    "                    nextC = (currC[0]-1,currC[1])\n",
    "                    srate, dis = agent2WAstar(env, nextC, posG_copy)\n",
    "                if i == 4:\n",
    "                    nextC = (currC)\n",
    "                    srate, dis = agent2WAstar(env, nextC, posG_copy)\n",
    "                #print(i, srate, max)\n",
    "                if srate > maxS:\n",
    "                    maxS = srate\n",
    "                    childC = nextC\n",
    "                if dis < minD and dis != 0 and srate == maxS:\n",
    "                    minD = dis\n",
    "                    childC = nextC\n",
    "            if childC != None:\n",
    "                currC = childC\n",
    "            elif srate == 0:\n",
    "                currC = move_away(env_copy, posG, currC)\n",
    "                \n",
    "            posG = move_ghosts(posG, env, 17)\n",
    "            \n",
    "            if currC in posG:\n",
    "                m = False\n",
    "                break\n",
    "        if m==True:\n",
    "            success += 1 \n",
    "        print(success)\n",
    "        j += 1\n",
    "    return success"
   ]
  },
  {
   "cell_type": "code",
   "execution_count": 1020,
   "metadata": {},
   "outputs": [],
   "source": [
    "def agent2WAstar(env, currA, posG):\n",
    "    path = {}\n",
    "    size = len(env)\n",
    "    if currA == (size-1, size-1):\n",
    "        return 1,0.1\n",
    "    path = astar_w_ghosts(env, currA, posG)\n",
    "    if path == None:\n",
    "        return -1, 0\n",
    "    #print(\"agent2WAstar\", path)\n",
    "    env_copy = env.copy()\n",
    "    for i in posG:\n",
    "        env_copy[i[0]][i[1]] = 0\n",
    "    success = 0\n",
    "    dis = 0\n",
    "    j=0\n",
    "    while j<10:\n",
    "        m=True\n",
    "        while currA != (size-1, size-1):\n",
    "            if path != None:\n",
    "                currA = path.get(currA)\n",
    "            else:\n",
    "                dis = 0\n",
    "                m = False\n",
    "                break\n",
    "            posG = move_ghosts(posG, env, size)\n",
    "            if currA in posG:\n",
    "                dis = 0\n",
    "                m = False\n",
    "                break\n",
    "            if path.get(currA) in posG:\n",
    "                path = astar_w_ghosts(env, currA, posG)\n",
    "            if path == None:\n",
    "                currA = move_away(env_copy, posG, currA)\n",
    "                path = astar_w_ghosts(env, currA, posG)\n",
    "            #old_posG = posG.copy()\n",
    "            dis += 1\n",
    "        if m == True:\n",
    "            success += 1\n",
    "        j+=1\n",
    "    return success/10, dis/10"
   ]
  },
  {
   "cell_type": "code",
   "execution_count": 816,
   "metadata": {
    "collapsed": true
   },
   "outputs": [
    {
     "name": "stdout",
     "output_type": "stream",
     "text": [
      "{(15, 16): (16, 16), (14, 16): (15, 16), (13, 16): (14, 16), (12, 16): (13, 16), (11, 16): (12, 16), (11, 15): (11, 16), (11, 14): (11, 15), (10, 14): (11, 14), (10, 13): (10, 14), (10, 12): (10, 13), (9, 12): (10, 12), (8, 12): (9, 12), (8, 11): (8, 12), (7, 11): (8, 11), (7, 10): (7, 11), (6, 10): (7, 10), (6, 9): (6, 10), (6, 8): (6, 9), (6, 7): (6, 8), (6, 6): (6, 7), (5, 6): (6, 6), (5, 5): (5, 6), (5, 4): (5, 5), (5, 3): (5, 4), (4, 3): (5, 3), (4, 2): (4, 3), (4, 1): (4, 2), (4, 0): (4, 1), (3, 0): (4, 0), (2, 0): (3, 0), (1, 0): (2, 0), (0, 0): (1, 0)}\n",
      "{(15, 16): (16, 16), (14, 16): (15, 16), (13, 16): (14, 16), (12, 16): (13, 16), (11, 16): (12, 16), (11, 15): (11, 16), (11, 14): (11, 15), (10, 14): (11, 14), (10, 13): (10, 14), (10, 12): (10, 13), (9, 12): (10, 12), (8, 12): (9, 12), (8, 11): (8, 12), (7, 11): (8, 11), (7, 10): (7, 11), (6, 10): (7, 10), (6, 9): (6, 10), (6, 8): (6, 9), (6, 7): (6, 8), (6, 6): (6, 7), (5, 6): (6, 6), (5, 5): (5, 6), (5, 4): (5, 5), (5, 3): (5, 4), (4, 3): (5, 3), (4, 2): (4, 3), (4, 1): (4, 2), (4, 0): (4, 1), (3, 0): (4, 0), (2, 0): (3, 0), (1, 0): (2, 0), (0, 0): (1, 0)}\n",
      "(1, 0)\n",
      "(2, 0)\n",
      "(3, 0)\n",
      "(4, 0)\n",
      "(4, 1)\n",
      "True\n",
      "(4, 2)\n",
      "(4, 3)\n",
      "(5, 3)\n",
      "(5, 4)\n",
      "{(15, 16): (16, 16), (14, 16): (15, 16), (13, 16): (14, 16), (13, 15): (13, 16), (13, 14): (13, 15), (13, 13): (13, 14), (12, 13): (13, 13), (12, 12): (12, 13), (12, 11): (12, 12), (11, 11): (12, 11), (10, 11): (11, 11), (9, 11): (10, 11), (8, 11): (9, 11), (8, 10): (8, 11), (8, 9): (8, 10), (8, 8): (8, 9), (8, 7): (8, 8), (8, 6): (8, 7), (7, 6): (8, 6), (7, 5): (7, 6), (7, 4): (7, 5), (6, 4): (7, 4), (5, 4): (6, 4)}\n",
      "(6, 4)\n",
      "(7, 4)\n",
      "(7, 5)\n",
      "(7, 6)\n",
      "(8, 6)\n",
      "(8, 7)\n",
      "(8, 8)\n",
      "(8, 9)\n",
      "(8, 10)\n",
      "(8, 11)\n",
      "(9, 11)\n",
      "(10, 11)\n",
      "(11, 11)\n",
      "(12, 11)\n",
      "True\n",
      "(12, 12)\n",
      "True\n",
      "(12, 13)\n",
      "(13, 13)\n",
      "(13, 14)\n",
      "(13, 15)\n",
      "(13, 16)\n",
      "(14, 16)\n",
      "(15, 16)\n",
      "(16, 16)\n",
      "0.7\n"
     ]
    }
   ],
   "source": [
    "agent2WAstar(env, (0,0), posG)"
   ]
  },
  {
   "cell_type": "code",
   "execution_count": 1002,
   "metadata": {
    "scrolled": true
   },
   "outputs": [
    {
     "data": {
      "text/plain": [
       "(array([[1, 1, 1, 1, 1, 1, 1, 0, 1, 1, 0, 1, 1, 0, 0, 0, 0],\n",
       "        [0, 0, 1, 0, 0, 0, 1, 1, 1, 1, 1, 0, 1, 1, 1, 1, 1],\n",
       "        [0, 1, 0, 0, 0, 1, 0, 1, 1, 1, 1, 0, 0, 1, 0, 0, 0],\n",
       "        [1, 0, 1, 1, 0, 1, 0, 0, 0, 1, 1, 1, 1, 0, 0, 1, 1],\n",
       "        [0, 1, 1, 1, 1, 0, 1, 0, 1, 1, 0, 0, 1, 1, 1, 1, 1],\n",
       "        [0, 1, 0, 1, 1, 1, 1, 0, 1, 0, 1, 1, 0, 0, 1, 0, 0],\n",
       "        [0, 1, 0, 1, 1, 0, 0, 1, 1, 0, 0, 0, 0, 1, 0, 0, 0],\n",
       "        [1, 1, 0, 1, 1, 1, 0, 0, 1, 1, 1, 1, 0, 1, 1, 0, 0],\n",
       "        [1, 1, 0, 0, 0, 0, 0, 1, 1, 0, 1, 1, 1, 0, 1, 1, 0],\n",
       "        [1, 0, 0, 1, 0, 0, 1, 0, 0, 0, 0, 1, 1, 0, 0, 0, 1],\n",
       "        [0, 1, 1, 1, 0, 1, 0, 0, 0, 1, 0, 1, 1, 1, 1, 0, 1],\n",
       "        [0, 1, 1, 0, 0, 0, 0, 0, 1, 1, 0, 1, 1, 0, 1, 1, 1],\n",
       "        [0, 1, 0, 1, 1, 1, 0, 1, 0, 0, 1, 1, 1, 1, 0, 1, 1],\n",
       "        [1, 1, 1, 0, 0, 0, 1, 1, 1, 1, 0, 0, 0, 0, 0, 1, 1],\n",
       "        [1, 1, 1, 1, 1, 1, 1, 1, 0, 1, 1, 1, 1, 0, 1, 1, 1],\n",
       "        [0, 0, 0, 1, 1, 0, 0, 0, 0, 0, 1, 0, 1, 0, 1, 1, 1],\n",
       "        [0, 1, 1, 1, 1, 1, 0, 1, 1, 1, 1, 1, 0, 0, 0, 1, 1]]),\n",
       " array([[1, 1, 1, 1, 1, 1, 1, 1, 1, 1, 1, 1, 1, 0, 0, 1, 0],\n",
       "        [1, 0, 1, 1, 1, 1, 1, 1, 1, 1, 1, 0, 1, 1, 1, 1, 1],\n",
       "        [1, 1, 0, 1, 1, 1, 0, 1, 1, 1, 1, 0, 1, 1, 0, 1, 0],\n",
       "        [1, 1, 1, 1, 1, 1, 1, 1, 0, 1, 1, 1, 1, 1, 1, 1, 1],\n",
       "        [1, 1, 1, 1, 1, 1, 1, 1, 1, 1, 1, 0, 1, 1, 1, 1, 1],\n",
       "        [1, 1, 1, 1, 1, 1, 1, 0, 1, 0, 1, 1, 1, 0, 1, 0, 1],\n",
       "        [1, 1, 1, 1, 1, 0, 1, 1, 1, 1, 1, 0, 1, 1, 1, 0, 1],\n",
       "        [1, 1, 0, 1, 1, 1, 1, 0, 1, 1, 1, 1, 0, 1, 1, 0, 0],\n",
       "        [1, 1, 1, 1, 1, 1, 1, 1, 1, 1, 1, 1, 1, 0, 1, 1, 0],\n",
       "        [1, 1, 1, 1, 1, 1, 1, 0, 1, 1, 0, 1, 1, 0, 0, 1, 1],\n",
       "        [0, 1, 1, 1, 1, 1, 1, 1, 1, 1, 0, 1, 1, 1, 1, 0, 1],\n",
       "        [0, 1, 1, 0, 0, 0, 1, 1, 1, 1, 1, 1, 1, 1, 1, 1, 1],\n",
       "        [0, 1, 0, 1, 1, 1, 0, 1, 0, 0, 1, 1, 1, 1, 0, 1, 1],\n",
       "        [1, 1, 1, 1, 1, 1, 1, 1, 1, 1, 1, 0, 1, 1, 1, 1, 1],\n",
       "        [1, 1, 1, 1, 1, 1, 1, 1, 1, 1, 1, 1, 1, 1, 1, 1, 1],\n",
       "        [0, 0, 1, 1, 1, 1, 0, 1, 0, 1, 1, 1, 1, 1, 1, 1, 1],\n",
       "        [0, 1, 1, 1, 1, 1, 1, 1, 1, 1, 1, 1, 1, 1, 1, 1, 1]]))"
      ]
     },
     "execution_count": 1002,
     "metadata": {},
     "output_type": "execute_result"
    }
   ],
   "source": [
    "env_copy  = env.copy()\n",
    "for i in posG:\n",
    "    env_copy[i[0]][i[1]] = 0\n",
    "env_copy, env"
   ]
  },
  {
   "cell_type": "code",
   "execution_count": 1021,
   "metadata": {
    "scrolled": true
   },
   "outputs": [
    {
     "name": "stdout",
     "output_type": "stream",
     "text": [
      "0\n",
      "0\n",
      "0\n",
      "0\n",
      "0\n",
      "0\n",
      "0\n",
      "0\n",
      "0\n",
      "0\n",
      "0\n",
      "0\n",
      "0\n",
      "0\n",
      "1\n",
      "2\n",
      "3\n",
      "4\n",
      "5\n",
      "6\n",
      "7\n",
      "8\n",
      "9\n",
      "10\n",
      "11\n",
      "12\n",
      "13\n",
      "14\n",
      "15\n",
      "16\n"
     ]
    },
    {
     "data": {
      "text/plain": [
       "16"
      ]
     },
     "execution_count": 1021,
     "metadata": {},
     "output_type": "execute_result"
    }
   ],
   "source": [
    "agent3_game_on(env, posG)"
   ]
  },
  {
   "cell_type": "code",
   "execution_count": 887,
   "metadata": {
    "collapsed": true
   },
   "outputs": [
    {
     "name": "stdout",
     "output_type": "stream",
     "text": [
      "None [[1 1 1 1 1 1 1 1 1 0 1 1 1 0 0 1 0]\n",
      " [1 0 1 1 1 1 1 1 1 1 1 0 1 1 1 1 1]\n",
      " [1 1 0 1 1 1 0 1 0 1 1 0 1 1 0 1 0]\n",
      " [1 1 1 1 1 1 1 1 0 1 1 1 1 1 1 1 1]\n",
      " [1 1 1 1 1 1 1 1 1 1 1 0 1 1 1 1 1]\n",
      " [1 1 1 1 1 1 1 0 1 0 1 1 0 0 1 0 1]\n",
      " [0 1 0 1 1 0 1 1 1 1 1 0 1 1 1 0 1]\n",
      " [1 1 0 1 1 1 1 0 1 1 1 1 0 1 1 0 0]\n",
      " [1 1 1 1 1 1 1 1 1 1 1 0 1 0 1 1 0]\n",
      " [1 1 1 1 1 1 1 0 1 1 0 1 1 0 0 0 1]\n",
      " [0 1 1 1 1 1 1 1 1 1 0 1 1 1 1 0 1]\n",
      " [0 1 1 0 0 0 1 1 1 1 1 1 1 1 1 1 1]\n",
      " [0 1 0 1 0 0 0 1 0 0 1 0 1 1 0 1 1]\n",
      " [0 1 1 1 1 1 1 0 1 1 1 0 1 1 0 1 1]\n",
      " [1 1 1 1 1 1 1 1 1 1 1 1 1 1 1 1 1]\n",
      " [0 0 1 0 1 0 0 1 0 1 1 1 1 1 1 1 1]\n",
      " [0 1 1 1 1 1 1 1 1 1 1 0 1 1 1 1 1]]\n"
     ]
    }
   ],
   "source": [
    "print(path, np.asarray(env_copy, dtype = int))"
   ]
  },
  {
   "cell_type": "code",
   "execution_count": 896,
   "metadata": {},
   "outputs": [],
   "source": [
    "env1 = np.array([[1,1,1],[0,1,0],[0,1,1]])"
   ]
  },
  {
   "cell_type": "code",
   "execution_count": 928,
   "metadata": {
    "collapsed": true
   },
   "outputs": [
    {
     "data": {
      "text/plain": [
       "array([[1, 1, 1, 1, 1, 1, 1, 1, 1, 1, 1, 1, 1, 0, 0, 1, 0],\n",
       "       [1, 0, 1, 1, 1, 1, 1, 1, 1, 1, 1, 0, 1, 1, 1, 1, 1],\n",
       "       [1, 1, 0, 1, 1, 1, 0, 1, 1, 1, 1, 0, 1, 1, 0, 1, 0],\n",
       "       [1, 1, 1, 1, 1, 1, 1, 1, 0, 1, 1, 1, 1, 1, 1, 1, 1],\n",
       "       [1, 1, 1, 1, 1, 1, 1, 1, 1, 1, 1, 0, 1, 1, 1, 1, 1],\n",
       "       [1, 1, 1, 1, 1, 1, 1, 0, 1, 0, 1, 1, 1, 0, 1, 0, 1],\n",
       "       [1, 1, 1, 1, 1, 0, 1, 1, 1, 1, 1, 0, 1, 1, 1, 0, 1],\n",
       "       [1, 1, 0, 1, 1, 1, 1, 0, 1, 1, 1, 1, 0, 1, 1, 0, 0],\n",
       "       [1, 1, 1, 1, 1, 1, 1, 1, 1, 1, 1, 1, 1, 0, 1, 1, 0],\n",
       "       [1, 1, 1, 1, 1, 1, 1, 0, 1, 1, 0, 1, 1, 0, 0, 1, 1],\n",
       "       [0, 1, 1, 1, 1, 1, 1, 1, 1, 1, 0, 1, 1, 1, 1, 0, 1],\n",
       "       [0, 1, 1, 0, 0, 0, 1, 1, 1, 1, 1, 1, 1, 1, 1, 1, 1],\n",
       "       [0, 1, 0, 1, 1, 1, 0, 1, 0, 0, 1, 1, 1, 1, 0, 1, 1],\n",
       "       [1, 1, 1, 1, 1, 1, 1, 1, 1, 1, 1, 0, 1, 1, 1, 1, 1],\n",
       "       [1, 1, 1, 1, 1, 1, 1, 1, 1, 1, 1, 1, 1, 1, 1, 1, 1],\n",
       "       [0, 0, 1, 1, 1, 1, 0, 1, 0, 1, 1, 1, 1, 1, 1, 1, 1],\n",
       "       [0, 1, 1, 1, 1, 1, 1, 1, 1, 1, 1, 1, 1, 1, 1, 1, 1]])"
      ]
     },
     "execution_count": 928,
     "metadata": {},
     "output_type": "execute_result"
    }
   ],
   "source": [
    "env"
   ]
  },
  {
   "cell_type": "code",
   "execution_count": 996,
   "metadata": {
    "collapsed": true
   },
   "outputs": [
    {
     "data": {
      "text/plain": [
       "([(10, 2),\n",
       "  (5, 3),\n",
       "  (10, 14),\n",
       "  (8, 4),\n",
       "  (10, 0),\n",
       "  (1, 1),\n",
       "  (3, 4),\n",
       "  (14, 5),\n",
       "  (11, 1),\n",
       "  (0, 12),\n",
       "  (6, 4),\n",
       "  (3, 2),\n",
       "  (14, 2),\n",
       "  (3, 13),\n",
       "  (13, 12),\n",
       "  (11, 2),\n",
       "  (12, 12),\n",
       "  (9, 2),\n",
       "  (10, 12),\n",
       "  (6, 13),\n",
       "  (10, 6),\n",
       "  (15, 10),\n",
       "  (16, 13),\n",
       "  (13, 8),\n",
       "  (15, 12),\n",
       "  (15, 3),\n",
       "  (15, 5),\n",
       "  (0, 6),\n",
       "  (4, 11),\n",
       "  (1, 3),\n",
       "  (9, 15),\n",
       "  (16, 3),\n",
       "  (8, 9),\n",
       "  (13, 6),\n",
       "  (16, 11),\n",
       "  (4, 15),\n",
       "  (7, 7),\n",
       "  (1, 6),\n",
       "  (12, 9),\n",
       "  (12, 15),\n",
       "  (12, 1),\n",
       "  (7, 3),\n",
       "  (0, 8),\n",
       "  (13, 8),\n",
       "  (12, 6),\n",
       "  (13, 1),\n",
       "  (13, 6),\n",
       "  (6, 1),\n",
       "  (3, 12),\n",
       "  (14, 11),\n",
       "  (6, 14),\n",
       "  (1, 12),\n",
       "  (16, 11),\n",
       "  (5, 5),\n",
       "  (2, 7),\n",
       "  (10, 14),\n",
       "  (6, 10),\n",
       "  (2, 12),\n",
       "  (15, 5),\n",
       "  (5, 5),\n",
       "  (8, 6),\n",
       "  (9, 1),\n",
       "  (1, 9),\n",
       "  (5, 1),\n",
       "  (9, 12),\n",
       "  (3, 13),\n",
       "  (16, 10),\n",
       "  (16, 13),\n",
       "  (1, 10),\n",
       "  (7, 4),\n",
       "  (16, 1),\n",
       "  (0, 12),\n",
       "  (2, 4),\n",
       "  (16, 9),\n",
       "  (14, 4),\n",
       "  (1, 9),\n",
       "  (11, 6),\n",
       "  (6, 12),\n",
       "  (3, 0),\n",
       "  (5, 9),\n",
       "  (7, 11),\n",
       "  (4, 13),\n",
       "  (12, 14),\n",
       "  (2, 4),\n",
       "  (0, 1),\n",
       "  (2, 2),\n",
       "  (4, 1),\n",
       "  (15, 12),\n",
       "  (6, 6),\n",
       "  (5, 5),\n",
       "  (3, 1),\n",
       "  (6, 6),\n",
       "  (4, 0),\n",
       "  (12, 3),\n",
       "  (10, 3),\n",
       "  (11, 7),\n",
       "  (11, 6),\n",
       "  (9, 11),\n",
       "  (12, 5),\n",
       "  (13, 9)],\n",
       " 100)"
      ]
     },
     "execution_count": 996,
     "metadata": {},
     "output_type": "execute_result"
    }
   ],
   "source": [
    "posG, len(posG)"
   ]
  },
  {
   "cell_type": "code",
   "execution_count": 895,
   "metadata": {},
   "outputs": [
    {
     "name": "stdout",
     "output_type": "stream",
     "text": [
      "None\n"
     ]
    }
   ],
   "source": [
    "print(path)"
   ]
  },
  {
   "cell_type": "code",
   "execution_count": null,
   "metadata": {},
   "outputs": [],
   "source": []
  }
 ],
 "metadata": {
  "kernelspec": {
   "display_name": "Python 3",
   "language": "python",
   "name": "python3"
  },
  "language_info": {
   "codemirror_mode": {
    "name": "ipython",
    "version": 3
   },
   "file_extension": ".py",
   "mimetype": "text/x-python",
   "name": "python",
   "nbconvert_exporter": "python",
   "pygments_lexer": "ipython3",
   "version": "3.6.4"
  }
 },
 "nbformat": 4,
 "nbformat_minor": 2
}
