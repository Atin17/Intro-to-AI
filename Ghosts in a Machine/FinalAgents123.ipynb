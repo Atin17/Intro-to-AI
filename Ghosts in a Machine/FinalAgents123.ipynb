{
 "cells": [
  {
   "cell_type": "code",
   "execution_count": 4,
   "metadata": {},
   "outputs": [],
   "source": [
    "import numpy as np\n",
    "import random"
   ]
  },
  {
   "cell_type": "markdown",
   "metadata": {},
   "source": [
    "# DFS algorithm to check path"
   ]
  },
  {
   "cell_type": "code",
   "execution_count": 8,
   "metadata": {},
   "outputs": [],
   "source": [
    "def check_path(env, i, j, vis, path, S, x, y):\n",
    "    vis[i][j] = 1\n",
    "    if S == 0 and i == x-1 and j == y-1:\n",
    "        path = 1\n",
    "        return path\n",
    "    else:\n",
    "        if path != 1 and i!=x-1 and env[i+1][j] == 1 and vis[i+1][j] == 0:\n",
    "            path = check_path(env, i+1, j, vis, path, G, x, y)\n",
    "        if path != 1 and j != y-1 and env[i][j+1] == 1 and vis[i][j+1] == 0:\n",
    "            path = check_path(env, i, j+1, vis, path, G, x, y)\n",
    "        if path != 1 and i!=0 and env[i-1][j] == 1 and vis[i-1][j] == 0:\n",
    "            path = check_path(env, i-1, j, vis, path, G, x, y)\n",
    "        if path != 1 and j != 0 and env[i][j-1] == 1 and vis[i][j-1] == 0:\n",
    "            path = check_path(env, i, j-1, vis, path, G, x, y)\n",
    "        return path"
   ]
  },
  {
   "cell_type": "markdown",
   "metadata": {},
   "source": [
    "# Maze Environment"
   ]
  },
  {
   "cell_type": "code",
   "execution_count": 72,
   "metadata": {},
   "outputs": [],
   "source": [
    "def create_env(x, y):\n",
    "    m = True\n",
    "    while(m):\n",
    "        env = np.zeros((x,y), dtype = int)\n",
    "        vis = np.zeros((x,y), dtype = int)\n",
    "        # random values for cell\n",
    "        for i in range(x):\n",
    "            for j in range(y):\n",
    "                env[i][j] = np.random.choice(2, 1, p = [0.28,0.72])\n",
    "        env[0,0], env[x-1,y-1] = 1, 1\n",
    "        #number of blocked cells\n",
    "        k = 0\n",
    "        for i in range(x):\n",
    "            for j in range(y):\n",
    "                if env[i][j] == 0:\n",
    "                    k += 1\n",
    "\n",
    "        path = check_path(env, 0, 0, vis, 0, 0, x, y)\n",
    "        #if blocked cells is less than 50% and a path exists\n",
    "        if (k/100 < 0.5) and  path == 1:\n",
    "            m = False\n",
    "            with open(\"test.txt\", \"ab\") as f:\n",
    "                f.write(b\"\\n\")\n",
    "                np.savetxt(f, env, fmt = '%1d')\n",
    "            return env"
   ]
  },
  {
   "cell_type": "markdown",
   "metadata": {},
   "source": [
    "# Generating 100 mazes"
   ]
  },
  {
   "cell_type": "code",
   "execution_count": 13,
   "metadata": {},
   "outputs": [],
   "source": [
    "n = 0\n",
    "maze = []\n",
    "while n<100:\n",
    "    env = create_env(51, 51)\n",
    "    maze.append(list([env]))\n",
    "    n+=1"
   ]
  },
  {
   "cell_type": "code",
   "execution_count": 6,
   "metadata": {},
   "outputs": [],
   "source": [
    "import math \n",
    "import random\n",
    "from npy_append_array import NpyAppendArray\n",
    "from collections import deque"
   ]
  },
  {
   "cell_type": "markdown",
   "metadata": {},
   "source": [
    "# Ghosts"
   ]
  },
  {
   "cell_type": "markdown",
   "metadata": {},
   "source": [
    "# Ghosts Spawn"
   ]
  },
  {
   "cell_type": "code",
   "execution_count": 15,
   "metadata": {},
   "outputs": [],
   "source": [
    "spwL = []\n",
    "\n",
    "for i in range(100): \n",
    "    spwG = np.zeros((51,51), dtype = int) #where ghost can spawn, sent as the visited matrix\n",
    "    path = check_path(maze[i][0], 0, 0, spwG, 0, 1, 51, 51)# 1 as S value indicates a position out of the maze for spawning\n",
    "    spwL.append(list([spwG]))"
   ]
  },
  {
   "cell_type": "code",
   "execution_count": 9,
   "metadata": {},
   "outputs": [],
   "source": [
    "def ghost_spw(spwG, n, posG, m):# for generating random start position of the ghosts\n",
    "    for i in range(n):\n",
    "        randRow = 0\n",
    "        randCol = 0\n",
    "        while ((randRow == 0 and randCol == 0) or (randRow == m-1 and randCol == m-1) or spwG[randRow][randCol] == 0):\n",
    "            randRow = random.randint(0, m-1)\n",
    "            randCol = random.randint(0, m-1)\n",
    "        posG.append((randRow, randCol))\n",
    "    return posG # a list of tuples conatining random ghost positions"
   ]
  },
  {
   "cell_type": "code",
   "execution_count": 10,
   "metadata": {},
   "outputs": [],
   "source": [
    "def move_ghosts(posG, env, size):\n",
    "    for i in range(len(posG)):\n",
    "        x = posG[i][0]\n",
    "        y = posG[i][1]\n",
    "        movedG = False\n",
    "        while not(movedG):\n",
    "            move = np.random.randint(4, size = 1)[0] #random direction for the ghost to move\n",
    "            if move == 0 and x != 0:\n",
    "                    movedG = True\n",
    "                    if env[x-1][y] == 1:\n",
    "                        x -= 1 #moves up\n",
    "                    else:\n",
    "                        mv_into_wall = np.random.choice(2, 1, p = [0.5, 0.5])\n",
    "                        if mv_into_wall == 1:\n",
    "                            x -= 1 #into the up wall\n",
    "            elif move == 1 and y != size-1:\n",
    "                    movedG = True\n",
    "                    if env[x][y+1] == 1:\n",
    "                        y += 1  #moves right\n",
    "                    else:\n",
    "                        mv_into_wall = np.random.choice(2, 1, p = [0.5, 0.5])\n",
    "                        if mv_into_wall == 1:\n",
    "                            y += 1 #into the right wall\n",
    "            elif move == 2 and x != size-1:\n",
    "                    movedG = True\n",
    "                    if env[x+1][y] == 1:\n",
    "                        x += 1  #moves down\n",
    "                    else:\n",
    "                        mv_into_wall = np.random.choice(2, 1, p = [0.5, 0.5])\n",
    "                        if mv_into_wall == 1:\n",
    "                            x += 1\n",
    "            elif move == 3 and y != 0:\n",
    "                    movedG = True\n",
    "                    if env[x][y-1] == 1:\n",
    "                        y -= 1  #moves left\n",
    "                    else:\n",
    "                        mv_into_wall = np.random.choice(2, 1, p = [0.5, 0.5])\n",
    "                        if mv_into_wall == 1:\n",
    "                            y -= 1\n",
    "        posG[i] = tuple([x, y]) #updates the ghost position\n",
    "    return posG   "
   ]
  },
  {
   "cell_type": "markdown",
   "metadata": {},
   "source": [
    "# Agent 1 Game"
   ]
  },
  {
   "cell_type": "code",
   "execution_count": 11,
   "metadata": {},
   "outputs": [],
   "source": [
    "def BFS(env, vis, size, start):\n",
    "    q = [[[start[0], start[1]]]] # list as a queue, adding start positon\n",
    "    path = list()\n",
    "    vis[start[0],start[1]] = 1 #visited matrix\n",
    "    #q.append(list([0,0]))\n",
    "    #print(q)\n",
    "    while len(q) != 0:\n",
    "        path = q.pop(0) #popping the first item from queue\n",
    "        node = path[-1] #for generating the path\n",
    "        i = node[0]\n",
    "        j = node[1]\n",
    "        if i == size-1 and j == size-1: #return if at finish\n",
    "            return path\n",
    "        if i!= size-1 and env[i+1][j] == 1 and vis[i+1][j] == 0: #add bottom cell\n",
    "            new_path = list(path)\n",
    "            #print(\"new_path1 \" , new_path)\n",
    "            new_path.append([i+1,j])\n",
    "            #print(\"new_path2 \" , new_path)\n",
    "            #print(\"path \" , path)\n",
    "            q.append(new_path)\n",
    "            #print(\"q\" , q)\n",
    "            vis[i+1][j] = 1\n",
    "        if j != size-1 and env[i][j+1] == 1 and vis[i][j+1] == 0: #add right cell\n",
    "            new_path = list(path)\n",
    "            #print(\"new_path1 \" , new_path)\n",
    "            new_path.append([i,j+1])\n",
    "            #print(\"new_path2 \" , new_path)\n",
    "            q.append(new_path)\n",
    "            vis[i][j+1] = 1\n",
    "        if i != 0 and env[i-1][j] == 1 and vis[i-1][j] == 0: #add top cell\n",
    "            new_path = path\n",
    "            new_path.append([i-1,j])\n",
    "            q.append(new_path)\n",
    "            vis[i-1][j] = 1\n",
    "        if j != 0 and env[i][j-1] == 1 and vis[i][j-1] == 0: # add left cell\n",
    "            new_path = path\n",
    "            new_path.append([i,j-1])\n",
    "            q.append(new_path)\n",
    "            vis[i][j-1] = 1"
   ]
  },
  {
   "cell_type": "code",
   "execution_count": 183,
   "metadata": {
    "scrolled": true
   },
   "outputs": [],
   "source": [
    "\n",
    "for n in range(151): #number of ghosts\n",
    "    print(n)\n",
    "    success = 0\n",
    "    for l in range(100): # number of mazes\n",
    "        vis = np.zeros(shape=(51,51), dtype = int)\n",
    "        path = BFS(maze[l][0], vis, 51, (0,0))\n",
    "        currA = path[0]      \n",
    "        j=0\n",
    "        while j<10: # number of tries for each maze\n",
    "            posG = []\n",
    "            posG = ghost_spw(spwL[l][0], n, posG, 51)\n",
    "            m=True\n",
    "            for i in range(len(path)-1):\n",
    "                currA = path[i+1] #agent moves\n",
    "                posG = move_ghosts(posG, maze[l][0], 51)#ghosts move\n",
    "                if tuple(currA) in posG: \n",
    "                    m = False\n",
    "                    break # agent dies\n",
    "            if m == True:\n",
    "                success += 1 #if agent lives\n",
    "            j+=1\n",
    "    succG.append(success/500) #survival rate\n"
   ]
  },
  {
   "cell_type": "code",
   "execution_count": 175,
   "metadata": {
    "scrolled": true
   },
   "outputs": [
    {
     "data": {
      "text/plain": [
       "<function matplotlib.pyplot.show(*args, **kw)>"
      ]
     },
     "execution_count": 175,
     "metadata": {},
     "output_type": "execute_result"
    },
    {
     "data": {
      "image/png": "[encoded data removed]",
      "text/plain": [
       "<matplotlib.figure.Figure at 0x17a63fc3550>"
      ]
     },
     "metadata": {},
     "output_type": "display_data"
    }
   ],
   "source": [
    "# just for maze 1\n",
    "import matplotlib.pyplot as plt\n",
    "\n",
    "x = [i for i in range(151)]\n",
    "\n",
    "plt.plot(x, succG)\n",
    "plt.xlabel('Number of Ghosts')\n",
    "plt.ylabel('Survival Rate')\n",
    "plt.title('Agent 1')\n",
    "plt.show"
   ]
  },
  {
   "cell_type": "code",
   "execution_count": 185,
   "metadata": {},
   "outputs": [
    {
     "data": {
      "text/plain": [
       "<function matplotlib.pyplot.show(*args, **kw)>"
      ]
     },
     "execution_count": 185,
     "metadata": {},
     "output_type": "execute_result"
    },
    {
     "data": {
      "image/png": "[encoded data removed]",
      "text/plain": [
       "<matplotlib.figure.Figure at 0x17a64091828>"
      ]
     },
     "metadata": {},
     "output_type": "display_data"
    }
   ],
   "source": [
    "#ran again for all mazes\n",
    "x = [i for i in range(101)]\n",
    "\n",
    "plt.plot(x, succG)\n",
    "plt.xlabel('Number of Ghosts')\n",
    "plt.ylabel('Survival Rate')\n",
    "plt.title('Agent 1')\n",
    "plt.show"
   ]
  },
  {
   "cell_type": "markdown",
   "metadata": {},
   "source": [
    "# Agent 2 Game"
   ]
  },
  {
   "cell_type": "code",
   "execution_count": 61,
   "metadata": {},
   "outputs": [],
   "source": [
    "def BFS_w_ghosts(env, posG, size, currA):#changing environment to have ghosts as blocked cells\n",
    "    env_copy  = env.copy()\n",
    "    vis = np.zeros((size, size), dtype = int)\n",
    "    for i in posG:\n",
    "        env_copy[i[0]][i[1]] = 0\n",
    "    path = BFS(env_copy, vis, 51, currA) #calling BFS\n",
    "    return path"
   ]
  },
  {
   "cell_type": "code",
   "execution_count": 39,
   "metadata": {},
   "outputs": [],
   "source": [
    "def move_away(envC, posG, currA): #Moving away\n",
    "    min = 1000\n",
    "    for i in posG:\n",
    "        dis = math.sqrt((currA[1]-i[1])*(currA[1]-i[1])+(currA[0]-i[0])*(currA[0]-i[0]))#Euclidean Distance\n",
    "        if dis < min:\n",
    "            min = dis\n",
    "            minG = i\n",
    "    if (minG[0] - currA[0]) == 0:#if slope is infinity(avoiding dividing by zero)\n",
    "        slope = \"inf\"\n",
    "    else:\n",
    "        slope = (minG[1] - currA[1])/(minG[0] - currA[0])\n",
    "        \n",
    "    if slope == \"inf\" and minG[1] > 0 and currA[0] < len(envC)-1: #ghost is in North\n",
    "        return (currA[0]+1, currA[1]) \n",
    "    elif slope = \"inf\" and minG[1] < 0 and currA[0] > 0: #ghost is South\n",
    "        return (currA[0]-1, currA[1])\n",
    "    elif slope == 0 and minG[0] > 0 and currA[1] > 0: #ghost is East\n",
    "        return (currA[0], currA[1]-1)\n",
    "    elif minG[0] < 0 and currA[1] < 0 and currA[1] < len(envC)-1: #ghost is west\n",
    "        return (currA[0], currA[1]+1)\n",
    "    if slope < 1 and slope > -1 and currA[1] > 0 and env[currA[0],currA[1]-1] == 1: #ghost is towards right\n",
    "        return (currA[0], currA[1]-1)\n",
    "    if slope < 1 and slope < -1 and currA[0] > 0 and env[currA[0]-1,currA[1]] == 1: #ghost is towards downwards\n",
    "        return (currA[0]-1, currA[1])\n",
    "    if slope > 1 and slope < -1 and currA[1] < len(envC)-1 and env[currA[0],currA[1]+1] == 1: #ghost is upwards\n",
    "        return (currA[0], currA[1]+1)\n",
    "    if slope > 1 and slope > -1 and currA[0] < len(envC)-1 and env[currA[0]+1,currA[1]] == 1: #ghost is towards left\n",
    "        return (currA[0]+1, currA[1])\n",
    "    return currA"
   ]
  },
  {
   "cell_type": "markdown",
   "metadata": {},
   "source": [
    "# Agents 4 using Agent 2 BFS"
   ]
  },
  {
   "cell_type": "markdown",
   "metadata": {},
   "source": [
    "# Agent 4 uses same Agent 2 with a square of size 3 being the ghost visibililty\n",
    "\n",
    "# This was the Agent 2 actual code that was later changed for running Agent 4"
   ]
  },
  {
   "cell_type": "code",
   "execution_count": 63,
   "metadata": {
    "collapsed": true
   },
   "outputs": [
    {
     "name": "stdout",
     "output_type": "stream",
     "text": [
      "0\n"
     ]
    },
    {
     "ename": "KeyboardInterrupt",
     "evalue": "",
     "output_type": "error",
     "traceback": [
      "\u001b[1;31m---------------------------------------------------------------------------\u001b[0m",
      "\u001b[1;31mKeyboardInterrupt\u001b[0m                         Traceback (most recent call last)",
      "\u001b[1;32m<ipython-input-63-a52b22c72d11>\u001b[0m in \u001b[0;36m<module>\u001b[1;34m()\u001b[0m\n\u001b[0;32m     26\u001b[0m                 \u001b[1;31m#old_posG = posG.copy()\u001b[0m\u001b[1;33m\u001b[0m\u001b[1;33m\u001b[0m\u001b[0m\n\u001b[0;32m     27\u001b[0m                 \u001b[0mposG\u001b[0m \u001b[1;33m=\u001b[0m \u001b[0mmove_ghosts\u001b[0m\u001b[1;33m(\u001b[0m\u001b[0mposG\u001b[0m\u001b[1;33m,\u001b[0m \u001b[0mmaze\u001b[0m\u001b[1;33m[\u001b[0m\u001b[0mk\u001b[0m\u001b[1;33m]\u001b[0m\u001b[1;33m[\u001b[0m\u001b[1;36m0\u001b[0m\u001b[1;33m]\u001b[0m\u001b[1;33m,\u001b[0m \u001b[1;36m51\u001b[0m\u001b[1;33m)\u001b[0m\u001b[1;33m\u001b[0m\u001b[0m\n\u001b[1;32m---> 28\u001b[1;33m                 \u001b[1;32mif\u001b[0m \u001b[0mtuple\u001b[0m\u001b[1;33m(\u001b[0m\u001b[0mcurrA\u001b[0m\u001b[1;33m)\u001b[0m \u001b[1;32min\u001b[0m \u001b[0mposG\u001b[0m\u001b[1;33m:\u001b[0m\u001b[1;33m\u001b[0m\u001b[0m\n\u001b[0m\u001b[0;32m     29\u001b[0m                     \u001b[0mm\u001b[0m \u001b[1;33m=\u001b[0m \u001b[1;32mFalse\u001b[0m\u001b[1;33m\u001b[0m\u001b[0m\n\u001b[0;32m     30\u001b[0m                     \u001b[1;32mbreak\u001b[0m\u001b[1;33m\u001b[0m\u001b[0m\n",
      "\u001b[1;31mKeyboardInterrupt\u001b[0m: "
     ]
    }
   ],
   "source": [
    "agent4BFS = []\n",
    "for l in range(100): #for 100 ghosts\n",
    "    success = 0\n",
    "    print(l)\n",
    "    for k in range(100): #100 mazes\n",
    "        currA = [0,0]\n",
    "        vis = np.zeros(shape=(51, 51), dtype = int)\n",
    "        j=0\n",
    "        while j<10: #trial runs\n",
    "            posG = []\n",
    "            posG = ghost_spw(spwL[k][0], l, posG, 51)\n",
    "            path = BFS_w_ghosts(maze[k][0], posG, 51, currA) #initializing path\n",
    "            currA = path[0] #agent starting\n",
    "            m=True#variable to check if agent is alive\n",
    "            i=0\n",
    "            while currA != [50, 50]:\n",
    "                #print(path, i)\n",
    "                currA = path[i+1] #agent moves\n",
    "                if tuple(path[i+1]) in posG: #if the next path cell has a ghost, recalculate the path\n",
    "                    i=-1\n",
    "                    path = BFS_w_ghosts(maze[k][0], posG, 51, currA)\n",
    "                if path == None: #if no path, move away and recalculate the path from there\n",
    "                    i=-1\n",
    "                    currA = move_away(maze[k][0], posG, currA)\n",
    "                    path = BFS_w_ghosts(maze[k][0], posG, 51, currA)\n",
    "                #old_posG = posG.copy()\n",
    "                posG = move_ghosts(posG, maze[k][0], 51) #ghosts moving one step\n",
    "                if tuple(currA) in posG: #if the agent and ghost are in the same cell, agent dies\n",
    "                    m = False\n",
    "                    break\n",
    "            i+=1\n",
    "\n",
    "        if m == True: if #if agent is alive , increase survival\n",
    "            success += 1\n",
    "        j+=1\n",
    "    agent4BFS.append(success/500)"
   ]
  },
  {
   "cell_type": "markdown",
   "metadata": {},
   "source": [
    "# Agent 2 "
   ]
  },
  {
   "cell_type": "code",
   "execution_count": null,
   "metadata": {},
   "outputs": [],
   "source": [
    "succGA2 = []\n",
    "for l in range(100): #for 100 ghosts\n",
    "    success = 0\n",
    "    print(l)\n",
    "    for k in range(100): #100 mazes\n",
    "        currA = [0,0]\n",
    "        vis = np.zeros(shape=(51, 51), dtype = int)\n",
    "        j=0\n",
    "        while j<10: #trial runs\n",
    "            posG = []\n",
    "            posG = ghost_spw(spwL[k][0], l, posG, 51)\n",
    "            path = BFS_w_ghosts(maze[k][0], posG, 51, currA) #initializing path\n",
    "            currA = path[0] #agent starting\n",
    "            m=True#variable to check if agent is alive\n",
    "            i=0\n",
    "            while currA != [50, 50]:\n",
    "                #print(path, i)\n",
    "                currA = path[i+1] #agent moves\n",
    "                if tuple(path[i+1]) in posG: #if the next path cell has a ghost, recalculate the path\n",
    "                    i=-1\n",
    "                    path = BFS_w_ghosts(maze[k][0], posG, 51, currA)\n",
    "                if path == None: #if no path, move away and recalculate the path from there\n",
    "                    i=-1\n",
    "                    currA = move_away(maze[k][0], posG, currA)\n",
    "                    path = BFS_w_ghosts(maze[k][0], posG, 51, currA)\n",
    "                #old_posG = posG.copy()\n",
    "                posG = move_ghosts(posG, maze[k][0], 51) #ghosts moving one step\n",
    "                if tuple(currA) in posG: #if the agent and ghost are in the same cell, agent dies\n",
    "                    m = False\n",
    "                    break\n",
    "            i+=1\n",
    "\n",
    "        if m == True: if #if agent is alive , increase survival\n",
    "            success += 1\n",
    "        j+=1\n",
    "    succGA2.append(success/500)"
   ]
  },
  {
   "cell_type": "code",
   "execution_count": 71,
   "metadata": {},
   "outputs": [
    {
     "data": {
      "text/plain": [
       "<function matplotlib.pyplot.show(*args, **kw)>"
      ]
     },
     "execution_count": 71,
     "metadata": {},
     "output_type": "execute_result"
    },
    {
     "data": {
      "image/png": "[encoded data removed]",
      "text/plain": [
       "<matplotlib.figure.Figure at 0x20cf3659160>"
      ]
     },
     "metadata": {},
     "output_type": "display_data"
    }
   ],
   "source": [
    "import matplotlib.pyplot as plt\n",
    "x = [i for i in range(1,201)]\n",
    "\n",
    "plt.plot(x, succGA2) #Plotting for agent 2\n",
    "plt.xlabel('Number of Ghosts')\n",
    "plt.ylabel('Survival Rate')\n",
    "plt.title('Agent 2')\n",
    "plt.show"
   ]
  },
  {
   "cell_type": "markdown",
   "metadata": {},
   "source": [
    "# Agent 3 Begins Here"
   ]
  },
  {
   "cell_type": "code",
   "execution_count": 28,
   "metadata": {},
   "outputs": [],
   "source": [
    "from queue import PriorityQueue"
   ]
  },
  {
   "cell_type": "code",
   "execution_count": 29,
   "metadata": {},
   "outputs": [],
   "source": [
    "def hscore(cell1, cell2): \n",
    "    return abs(cell1[0]-cell2[0]) + abs(cell1[1]-cell2[1]) #manhattan distance"
   ]
  },
  {
   "cell_type": "markdown",
   "metadata": {},
   "source": [
    "# A* Algorithm"
   ]
  },
  {
   "cell_type": "code",
   "execution_count": 30,
   "metadata": {},
   "outputs": [],
   "source": [
    "def astar(env, currA, size):\n",
    "    gscore = {}\n",
    "    fscore = {}\n",
    "    childC = None\n",
    "    #initializing gscore and fscore for each cells as infinity\n",
    "    for i in range(size):\n",
    "        for j in range(size):\n",
    "            gscore[(i,j)] = float('inf')\n",
    "            fscore[(i,j)] = float('inf')\n",
    "    #print(gscore, fscore)      \n",
    "    #initializin for the start cell\n",
    "    gscore[(currA[0], currA[1])] = 0 \n",
    "    fscore[(currA[0], currA[1])] = hscore(currA, [size-1, size-1])\n",
    "    \n",
    "    pq = PriorityQueue()\n",
    "    pq.put((hscore(currA, (size-1,size-1)), hscore(currA, (size-1,size-1)), currA)) #putting first item in queue\n",
    "    pathA = {} #path is a dictionary of all the cell moves agents takes (eg. {cell1[0], cell1[1]:cell2[0], cell2[1]})\n",
    "    while not pq.empty():\n",
    "        currC = tuple(pq.get()[2]) #getting the current cell\n",
    "        if currC == (size-1, size-1): #if at finish, end\n",
    "            break\n",
    "        for i in range(4): #for all 4 directions\n",
    "            if i == 0 and currC[1] < size-1 and env[currC[0],currC[1]+1] == 1:\n",
    "                childC = tuple([currC[0],currC[1]+1])\n",
    "                tempgscore = gscore[currC]+1\n",
    "                tempfscore = tempgscore + hscore(childC, (size-1, size-1))\n",
    "                #updating gscore and fscore if they are lesser than previous ones\n",
    "                if tempfscore < fscore[childC]:\n",
    "                    gscore[childC] = tempgscore\n",
    "                    fscore[childC] = tempfscore\n",
    "                    pq.put((tempfscore, hscore(childC,(size-1, size-1)), childC)) #and adding them to queue\n",
    "                    pathA[childC] = currC #add cell move to dict\n",
    "            if i == 1 and  currC[0] < size-1 and env[currC[0]+1,currC[1]] == 1: #moving down\n",
    "                childC = (currC[0]+1,currC[1])\n",
    "                tempgscore = gscore[currC]+1\n",
    "                tempfscore = tempgscore + hscore(childC, (size-1, size-1))\n",
    "            \n",
    "                if tempfscore < fscore[childC]:\n",
    "                    gscore[childC] = tempgscore\n",
    "                    fscore[childC] = tempfscore\n",
    "                    pq.put((tempfscore, hscore(childC,(size-1, size-1)), childC))\n",
    "                    pathA[childC] = currC\n",
    "            if i == 2 and currC[1] > 0 and env[currC[0],currC[1]-1] == 1: #moving left\n",
    "                childC = (currC[0],currC[1]-1)\n",
    "                tempgscore = gscore[currC]+1\n",
    "                tempfscore = tempgscore + hscore(childC, (size-1, size-1))\n",
    "            \n",
    "                if tempfscore < fscore[childC]:\n",
    "                    gscore[childC] = tempgscore\n",
    "                    fscore[childC] = tempfscore\n",
    "                    pq.put((tempfscore, hscore(childC,(size-1, size-1)), childC))\n",
    "                    pathA[childC] = currC\n",
    "            if i == 3  and currC[0] > 0 and env[currC[0]-1,currC[1]] == 1: #moving right\n",
    "                childC = (currC[0]-1,currC[1])\n",
    "                tempgscore = gscore[currC]+1\n",
    "                tempfscore = tempgscore + hscore(childC, (size-1, size-1))\n",
    "            \n",
    "                if tempfscore < fscore[childC]:\n",
    "                    gscore[childC] = tempgscore\n",
    "                    fscore[childC] = tempfscore\n",
    "                    pq.put((tempfscore, hscore(childC,(size-1, size-1)), childC))\n",
    "                    pathA[childC] = currC\n",
    "            \n",
    "\n",
    "    pathF = {} \n",
    "    #print(\"currA\", currA)\n",
    "    cell = (size-1, size-1)\n",
    "    #print(\"pathA\", pathA)\n",
    "    if pathA.get(cell) == None:\n",
    "        return None\n",
    "    #traversing the path dictionary in reverse from the finish to find actual path\n",
    "    while cell != tuple(currA):\n",
    "        pathF[pathA[cell]] = cell\n",
    "        cell = pathA[cell]\n",
    "    #print(\"pathF\", pathF)\n",
    "    return pathF\n"
   ]
  },
  {
   "cell_type": "code",
   "execution_count": 31,
   "metadata": {},
   "outputs": [],
   "source": [
    "def astar_w_ghosts(env, currA, posG): #putting zeros where there is a ghost to find a path avoiding them\n",
    "    env_copy  = env.copy()\n",
    "    \n",
    "    for i in range(51):\n",
    "        for j in range(51):\n",
    "            if env[i][j] == 0\n",
    "                \n",
    "        env_copy[i[0]][i[1]] = 0\n",
    "    path = astar(env_copy, currA, len(env))\n",
    "    return path"
   ]
  },
  {
   "cell_type": "code",
   "execution_count": 51,
   "metadata": {},
   "outputs": [],
   "source": [
    "def agent3_game_on(env, posG):\n",
    "    currC = (0,0)\n",
    "    size = len(env)\n",
    "    success = 0\n",
    "    j=0\n",
    "    childC = None\n",
    "    env_copy = env.copy()\n",
    "    for i in posG:\n",
    "        env_copy[i[0]][i[1]] = 0\n",
    "    while j<10:\n",
    "        m = True\n",
    "        while currC != (size-1, size-1):\n",
    "            #print(currC)\n",
    "            dis = 10000\n",
    "            minD = 10000\n",
    "            maxS = 0\n",
    "            srate = 0\n",
    "            posG_copy = posG.copy()\n",
    "            for i in range(5): # for loop for all 4 directions and staying in place\n",
    "                if i == 0 and currC[1] < size-1 and env[currC[0],currC[1]+1] == 1:\n",
    "                    nextC = (currC[0],currC[1]+1) #moving right\n",
    "                    srate, dis = agent2WAstar(env, nextC, posG_copy) #sends back survival rate and distance to finish\n",
    "                if i == 1 and  currC[0] < size-1 and env[currC[0]+1,currC[1]] == 1:\n",
    "                    nextC = (currC[0]+1,currC[1])#moving down\n",
    "                    srate, dis = agent2WAstar(env, nextC, posG_copy)\n",
    "                if i == 2 and currC[1] > 0 and env[currC[0],currC[1]-1] == 1:\n",
    "                    nextC = (currC[0],currC[1]-1) #moving left\n",
    "                    srate, dis = agent2WAstar(env, nextC, posG_copy)\n",
    "                if i == 3  and currC[0] > 0 and env[currC[0]-1,currC[1]] == 1:\n",
    "                    nextC = (currC[0]-1,currC[1]) #moving up\n",
    "                    srate, dis = agent2WAstar(env, nextC, posG_copy)\n",
    "                if i == 4:\n",
    "                    nextC = (currC) #staying in place\n",
    "                    srate, dis = agent2WAstar(env, nextC, posG_copy)\n",
    "                #print(i, srate, max)\n",
    "                if srate > maxS: #max survival rate\n",
    "                    maxS = srate\n",
    "                    childC = nextC\n",
    "                if dis < minD and dis != 0 and srate == maxS: #min distance only when there is a tie\n",
    "                    minD = dis\n",
    "                    childC = nextC\n",
    "            if childC != None:\n",
    "                currC = childC\n",
    "            elif srate == 0:\n",
    "                currC = move_away(env_copy, posG, currC) #if no moves, then move away\n",
    "                \n",
    "            posG = move_ghosts(posG, env, 51)\n",
    "            \n",
    "            if currC in posG: \n",
    "                m = False #agent dying\n",
    "                break\n",
    "        if m==True:\n",
    "            success += 1 \n",
    "        j += 1\n",
    "    return success/10 #average of 10 tries"
   ]
  },
  {
   "cell_type": "markdown",
   "metadata": {},
   "source": [
    "# Agent 2 using A*"
   ]
  },
  {
   "cell_type": "code",
   "execution_count": 52,
   "metadata": {},
   "outputs": [],
   "source": [
    "def agent2WAstar(env, currA, posG):\n",
    "    path = {}\n",
    "    size = len(env)\n",
    "    if currA == (size-1, size-1):\n",
    "        return 1 ,0.01\n",
    "    path = astar_w_ghosts(env, currA, posG) #initialise path\n",
    "    #if path == None:\n",
    "        #return 0 #, 0\n",
    "    #print(\"agent2WAstar\", path)\n",
    "    env_copy = env.copy()\n",
    "    for i in posG:\n",
    "        env_copy[i[0]][i[1]] = 0\n",
    "    success = 0\n",
    "    dis = 0\n",
    "    j=0\n",
    "    while j<10:\n",
    "        m=True\n",
    "        while currA != (size-1, size-1):\n",
    "            if path != None: \n",
    "                currA = path.get(currA) #Agent smoves\n",
    "            else: #if no path, move away and recalculate the path \n",
    "                currA = move_away(env_copy, posG, currA) \n",
    "                path = astar_w_ghosts(env, currA, posG)\n",
    "                #dis = 0\n",
    "                #m = False\n",
    "                #break\n",
    "            posG = move_ghosts(posG, env, size) #ghosts take one step\n",
    "            if currA in posG: #agent dying\n",
    "                dis = 0\n",
    "                m = False\n",
    "                break\n",
    "            if path != None and path.get(currA) in posG: #checking if next path cell has a ghost and if it does replan\n",
    "                path = astar_w_ghosts(env, currA, posG)\n",
    "            if path == None: #if again no path, move away and replan\n",
    "                currA = move_away(env_copy, posG, currA)\n",
    "                path = astar_w_ghosts(env, currA, posG)\n",
    "            #old_posG = posG.copy()\n",
    "            dis += 1 #for calculating distance\n",
    "        if m == True:\n",
    "            success += 1\n",
    "        j+=1\n",
    "    return success/10 , dis/10 #average"
   ]
  },
  {
   "cell_type": "markdown",
   "metadata": {},
   "source": [
    "# Agent 2 runs"
   ]
  },
  {
   "cell_type": "code",
   "execution_count": 44,
   "metadata": {
    "scrolled": true
   },
   "outputs": [
    {
     "name": "stdout",
     "output_type": "stream",
     "text": [
      "0\n",
      "1\n",
      "2\n",
      "3\n",
      "4\n",
      "5\n",
      "6\n",
      "7\n",
      "8\n",
      "9\n",
      "10\n",
      "11\n",
      "12\n",
      "13\n",
      "14\n",
      "15\n",
      "16\n",
      "17\n",
      "18\n",
      "19\n",
      "20\n",
      "21\n",
      "22\n",
      "23\n",
      "24\n",
      "25\n",
      "26\n",
      "27\n",
      "28\n",
      "29\n",
      "30\n",
      "31\n",
      "32\n",
      "33\n",
      "34\n",
      "35\n",
      "36\n",
      "37\n",
      "38\n",
      "39\n",
      "40\n",
      "41\n",
      "42\n",
      "43\n",
      "44\n",
      "45\n",
      "46\n",
      "47\n",
      "48\n",
      "49\n",
      "50\n",
      "51\n",
      "52\n",
      "53\n",
      "54\n",
      "55\n",
      "56\n",
      "57\n",
      "58\n",
      "59\n",
      "60\n",
      "61\n",
      "62\n",
      "63\n",
      "64\n",
      "65\n",
      "66\n",
      "67\n",
      "68\n",
      "69\n",
      "70\n",
      "71\n",
      "72\n",
      "73\n",
      "74\n",
      "75\n",
      "76\n",
      "77\n",
      "78\n",
      "79\n",
      "80\n",
      "81\n",
      "82\n",
      "83\n",
      "84\n",
      "85\n",
      "86\n",
      "87\n",
      "88\n",
      "89\n",
      "90\n",
      "91\n",
      "92\n",
      "93\n",
      "94\n",
      "95\n",
      "96\n",
      "97\n",
      "98\n",
      "99\n",
      "100\n",
      "101\n",
      "102\n",
      "103\n",
      "104\n",
      "105\n",
      "106\n",
      "107\n",
      "108\n",
      "109\n",
      "110\n",
      "111\n",
      "112\n",
      "113\n",
      "114\n",
      "115\n",
      "116\n",
      "117\n",
      "118\n",
      "119\n",
      "120\n",
      "121\n",
      "122\n",
      "123\n",
      "124\n",
      "125\n",
      "126\n",
      "127\n",
      "128\n",
      "129\n",
      "130\n",
      "131\n",
      "132\n",
      "133\n",
      "134\n",
      "135\n",
      "136\n",
      "137\n",
      "138\n",
      "139\n",
      "140\n",
      "141\n",
      "142\n",
      "143\n",
      "144\n",
      "145\n",
      "146\n",
      "147\n",
      "148\n",
      "149\n",
      "150\n",
      "151\n",
      "152\n",
      "153\n",
      "154\n",
      "155\n",
      "156\n",
      "157\n",
      "158\n",
      "159\n",
      "160\n",
      "161\n",
      "162\n",
      "163\n",
      "164\n",
      "165\n",
      "166\n",
      "167\n",
      "168\n",
      "169\n",
      "170\n",
      "171\n",
      "172\n",
      "173\n",
      "174\n",
      "175\n",
      "176\n",
      "177\n",
      "178\n",
      "179\n",
      "180\n",
      "181\n",
      "182\n",
      "183\n",
      "184\n",
      "185\n",
      "186\n",
      "187\n",
      "188\n",
      "189\n",
      "190\n",
      "191\n",
      "192\n",
      "193\n",
      "194\n",
      "195\n",
      "196\n",
      "197\n",
      "198\n",
      "199\n"
     ]
    }
   ],
   "source": [
    "succGA2A = [] #agent2 A*\n",
    "for l in range(200):\n",
    "    success = 0\n",
    "    print(l)\n",
    "    for k in range(50):\n",
    "        posG = []\n",
    "        posG = ghost_spw(spwL[k][0], l, posG, 51)\n",
    "        success += agent2WAstar(maze[k][0], (0,0), posG)\n",
    "    succGA2A.append(success/50)\n",
    "    "
   ]
  },
  {
   "cell_type": "markdown",
   "metadata": {},
   "source": [
    "# below are two seperate runs for Agent 2"
   ]
  },
  {
   "cell_type": "code",
   "execution_count": 40,
   "metadata": {},
   "outputs": [
    {
     "data": {
      "text/plain": [
       "<function matplotlib.pyplot.show(*args, **kw)>"
      ]
     },
     "execution_count": 40,
     "metadata": {},
     "output_type": "execute_result"
    },
    {
     "data": {
      "image/png": "[encoded data removed]",
      "text/plain": [
       "<matplotlib.figure.Figure at 0x20cf341acf8>"
      ]
     },
     "metadata": {},
     "output_type": "display_data"
    }
   ],
   "source": [
    "x = [i for i in range(1,201)]\n",
    "\n",
    "plt.plot(x, succGA2A)\n",
    "plt.xlabel('Number of Ghosts')\n",
    "plt.ylabel('Survival Rate')\n",
    "plt.title('Agent 2 - A*')\n",
    "plt.show"
   ]
  },
  {
   "cell_type": "code",
   "execution_count": 45,
   "metadata": {},
   "outputs": [
    {
     "data": {
      "text/plain": [
       "<function matplotlib.pyplot.show(*args, **kw)>"
      ]
     },
     "execution_count": 45,
     "metadata": {},
     "output_type": "execute_result"
    },
    {
     "data": {
      "image/png": "[encoded data removed]",
      "text/plain": [
       "<matplotlib.figure.Figure at 0x20cf329a390>"
      ]
     },
     "metadata": {},
     "output_type": "display_data"
    }
   ],
   "source": [
    "x = [i for i in range(1,201)]\n",
    "\n",
    "plt.plot(x, succGA2A)\n",
    "plt.xlabel('Number of Ghosts')\n",
    "plt.ylabel('Survival Rate')\n",
    "plt.title('Agent 2 - A*')\n",
    "plt.show"
   ]
  },
  {
   "cell_type": "markdown",
   "metadata": {},
   "source": [
    "# Agent 3 runs (stopped at 70 ghosts as going to zero)"
   ]
  },
  {
   "cell_type": "code",
   "execution_count": 53,
   "metadata": {
    "scrolled": true
   },
   "outputs": [
    {
     "name": "stdout",
     "output_type": "stream",
     "text": [
      "17\n",
      "18\n",
      "19\n",
      "20\n",
      "21\n",
      "22\n",
      "23\n",
      "24\n",
      "25\n",
      "26\n",
      "27\n",
      "28\n",
      "29\n",
      "30\n",
      "31\n",
      "32\n",
      "33\n",
      "34\n",
      "35\n",
      "36\n",
      "37\n",
      "38\n",
      "39\n",
      "40\n",
      "41\n",
      "42\n",
      "43\n",
      "44\n",
      "45\n",
      "46\n",
      "47\n",
      "48\n",
      "49\n",
      "50\n",
      "51\n",
      "52\n",
      "53\n",
      "54\n",
      "55\n",
      "56\n",
      "57\n",
      "58\n",
      "59\n",
      "60\n",
      "61\n",
      "62\n",
      "63\n",
      "64\n",
      "65\n",
      "66\n",
      "67\n",
      "68\n",
      "69\n",
      "70\n",
      "71\n"
     ]
    },
    {
     "ename": "KeyboardInterrupt",
     "evalue": "",
     "output_type": "error",
     "traceback": [
      "\u001b[1;31m---------------------------------------------------------------------------\u001b[0m",
      "\u001b[1;31mKeyboardInterrupt\u001b[0m                         Traceback (most recent call last)",
      "\u001b[1;32m<ipython-input-53-d6685cbaa9ec>\u001b[0m in \u001b[0;36m<module>\u001b[1;34m()\u001b[0m\n\u001b[0;32m      5\u001b[0m         \u001b[0mposG\u001b[0m \u001b[1;33m=\u001b[0m \u001b[1;33m[\u001b[0m\u001b[1;33m]\u001b[0m\u001b[1;33m\u001b[0m\u001b[0m\n\u001b[0;32m      6\u001b[0m         \u001b[0mposG\u001b[0m \u001b[1;33m=\u001b[0m \u001b[0mghost_spw\u001b[0m\u001b[1;33m(\u001b[0m\u001b[0mspwL\u001b[0m\u001b[1;33m[\u001b[0m\u001b[0mk\u001b[0m\u001b[1;33m]\u001b[0m\u001b[1;33m[\u001b[0m\u001b[1;36m0\u001b[0m\u001b[1;33m]\u001b[0m\u001b[1;33m,\u001b[0m \u001b[0ml\u001b[0m\u001b[1;33m,\u001b[0m \u001b[0mposG\u001b[0m\u001b[1;33m,\u001b[0m \u001b[1;36m51\u001b[0m\u001b[1;33m)\u001b[0m\u001b[1;33m\u001b[0m\u001b[0m\n\u001b[1;32m----> 7\u001b[1;33m         \u001b[0msuccess\u001b[0m \u001b[1;33m+=\u001b[0m \u001b[0magent3_game_on\u001b[0m\u001b[1;33m(\u001b[0m\u001b[0mmaze\u001b[0m\u001b[1;33m[\u001b[0m\u001b[0mk\u001b[0m\u001b[1;33m]\u001b[0m\u001b[1;33m[\u001b[0m\u001b[1;36m0\u001b[0m\u001b[1;33m]\u001b[0m\u001b[1;33m,\u001b[0m \u001b[0mposG\u001b[0m\u001b[1;33m)\u001b[0m\u001b[1;33m\u001b[0m\u001b[0m\n\u001b[0m\u001b[0;32m      8\u001b[0m     \u001b[0msuccGA3\u001b[0m\u001b[1;33m.\u001b[0m\u001b[0mappend\u001b[0m\u001b[1;33m(\u001b[0m\u001b[0msuccess\u001b[0m\u001b[1;33m/\u001b[0m\u001b[1;36m50\u001b[0m\u001b[1;33m)\u001b[0m\u001b[1;33m\u001b[0m\u001b[0m\n",
      "\u001b[1;32m<ipython-input-51-ea5714a8deb7>\u001b[0m in \u001b[0;36magent3_game_on\u001b[1;34m(env, posG)\u001b[0m\n\u001b[0;32m     32\u001b[0m                 \u001b[1;32mif\u001b[0m \u001b[0mi\u001b[0m \u001b[1;33m==\u001b[0m \u001b[1;36m4\u001b[0m\u001b[1;33m:\u001b[0m\u001b[1;33m\u001b[0m\u001b[0m\n\u001b[0;32m     33\u001b[0m                     \u001b[0mnextC\u001b[0m \u001b[1;33m=\u001b[0m \u001b[1;33m(\u001b[0m\u001b[0mcurrC\u001b[0m\u001b[1;33m)\u001b[0m\u001b[1;33m\u001b[0m\u001b[0m\n\u001b[1;32m---> 34\u001b[1;33m                     \u001b[0msrate\u001b[0m\u001b[1;33m,\u001b[0m \u001b[0mdis\u001b[0m \u001b[1;33m=\u001b[0m \u001b[0magent2WAstar\u001b[0m\u001b[1;33m(\u001b[0m\u001b[0menv\u001b[0m\u001b[1;33m,\u001b[0m \u001b[0mnextC\u001b[0m\u001b[1;33m,\u001b[0m \u001b[0mposG_copy\u001b[0m\u001b[1;33m)\u001b[0m\u001b[1;33m\u001b[0m\u001b[0m\n\u001b[0m\u001b[0;32m     35\u001b[0m                 \u001b[1;31m#print(i, srate, max)\u001b[0m\u001b[1;33m\u001b[0m\u001b[1;33m\u001b[0m\u001b[0m\n\u001b[0;32m     36\u001b[0m                 \u001b[1;32mif\u001b[0m \u001b[0msrate\u001b[0m \u001b[1;33m>\u001b[0m \u001b[0mmaxS\u001b[0m\u001b[1;33m:\u001b[0m\u001b[1;33m\u001b[0m\u001b[0m\n",
      "\u001b[1;32m<ipython-input-52-e768f094e319>\u001b[0m in \u001b[0;36magent2WAstar\u001b[1;34m(env, currA, posG)\u001b[0m\n\u001b[0;32m     25\u001b[0m                 \u001b[1;31m#m = False\u001b[0m\u001b[1;33m\u001b[0m\u001b[1;33m\u001b[0m\u001b[0m\n\u001b[0;32m     26\u001b[0m                 \u001b[1;31m#break\u001b[0m\u001b[1;33m\u001b[0m\u001b[1;33m\u001b[0m\u001b[0m\n\u001b[1;32m---> 27\u001b[1;33m             \u001b[0mposG\u001b[0m \u001b[1;33m=\u001b[0m \u001b[0mmove_ghosts\u001b[0m\u001b[1;33m(\u001b[0m\u001b[0mposG\u001b[0m\u001b[1;33m,\u001b[0m \u001b[0menv\u001b[0m\u001b[1;33m,\u001b[0m \u001b[0msize\u001b[0m\u001b[1;33m)\u001b[0m\u001b[1;33m\u001b[0m\u001b[0m\n\u001b[0m\u001b[0;32m     28\u001b[0m             \u001b[1;32mif\u001b[0m \u001b[0mcurrA\u001b[0m \u001b[1;32min\u001b[0m \u001b[0mposG\u001b[0m\u001b[1;33m:\u001b[0m\u001b[1;33m\u001b[0m\u001b[0m\n\u001b[0;32m     29\u001b[0m                 \u001b[0mdis\u001b[0m \u001b[1;33m=\u001b[0m \u001b[1;36m0\u001b[0m\u001b[1;33m\u001b[0m\u001b[0m\n",
      "\u001b[1;32m<ipython-input-10-844eecf2f155>\u001b[0m in \u001b[0;36mmove_ghosts\u001b[1;34m(posG, env, size)\u001b[0m\n\u001b[0;32m      5\u001b[0m         \u001b[0mmovedG\u001b[0m \u001b[1;33m=\u001b[0m \u001b[1;32mFalse\u001b[0m\u001b[1;33m\u001b[0m\u001b[0m\n\u001b[0;32m      6\u001b[0m         \u001b[1;32mwhile\u001b[0m \u001b[1;32mnot\u001b[0m\u001b[1;33m(\u001b[0m\u001b[0mmovedG\u001b[0m\u001b[1;33m)\u001b[0m\u001b[1;33m:\u001b[0m\u001b[1;33m\u001b[0m\u001b[0m\n\u001b[1;32m----> 7\u001b[1;33m             \u001b[0mmove\u001b[0m \u001b[1;33m=\u001b[0m \u001b[0mnp\u001b[0m\u001b[1;33m.\u001b[0m\u001b[0mrandom\u001b[0m\u001b[1;33m.\u001b[0m\u001b[0mrandint\u001b[0m\u001b[1;33m(\u001b[0m\u001b[1;36m4\u001b[0m\u001b[1;33m,\u001b[0m \u001b[0msize\u001b[0m \u001b[1;33m=\u001b[0m \u001b[1;36m1\u001b[0m\u001b[1;33m)\u001b[0m\u001b[1;33m[\u001b[0m\u001b[1;36m0\u001b[0m\u001b[1;33m]\u001b[0m\u001b[1;33m\u001b[0m\u001b[0m\n\u001b[0m\u001b[0;32m      8\u001b[0m             \u001b[1;32mif\u001b[0m \u001b[0mmove\u001b[0m \u001b[1;33m==\u001b[0m \u001b[1;36m0\u001b[0m \u001b[1;32mand\u001b[0m \u001b[0mx\u001b[0m \u001b[1;33m!=\u001b[0m \u001b[1;36m0\u001b[0m\u001b[1;33m:\u001b[0m\u001b[1;33m\u001b[0m\u001b[0m\n\u001b[0;32m      9\u001b[0m                     \u001b[0mmovedG\u001b[0m \u001b[1;33m=\u001b[0m \u001b[1;32mTrue\u001b[0m\u001b[1;33m\u001b[0m\u001b[0m\n",
      "\u001b[1;31mKeyboardInterrupt\u001b[0m: "
     ]
    }
   ],
   "source": [
    "for l in range(17, 200):\n",
    "    success = 0\n",
    "    print(l)\n",
    "    for k in range(50):\n",
    "        posG = []\n",
    "        posG = ghost_spw(spwL[k][0], l, posG, 51)\n",
    "        success += agent3_game_on(maze[k][0], posG)\n",
    "    succGA3.append(success/50)"
   ]
  },
  {
   "cell_type": "code",
   "execution_count": 55,
   "metadata": {},
   "outputs": [
    {
     "data": {
      "text/plain": [
       "<function matplotlib.pyplot.show(*args, **kw)>"
      ]
     },
     "execution_count": 55,
     "metadata": {},
     "output_type": "execute_result"
    },
    {
     "data": {
      "image/png": "[encoded data removed]",
      "text/plain": [
       "<matplotlib.figure.Figure at 0x20cf32bbb70>"
      ]
     },
     "metadata": {},
     "output_type": "display_data"
    }
   ],
   "source": [
    "x = [i for i in range(0,71)]\n",
    "succGA3.append(0.01)\n",
    "plt.plot(x, succGA3)\n",
    "plt.xlabel('Number of Ghosts')\n",
    "plt.ylabel('Survival Rate')\n",
    "plt.title('Agent 3 - A*')\n",
    "plt.show"
   ]
  },
  {
   "cell_type": "code",
   "execution_count": null,
   "metadata": {},
   "outputs": [],
   "source": []
  },
  {
   "cell_type": "code",
   "execution_count": null,
   "metadata": {},
   "outputs": [],
   "source": []
  },
  {
   "cell_type": "code",
   "execution_count": null,
   "metadata": {},
   "outputs": [],
   "source": []
  }
 ],
 "metadata": {
  "kernelspec": {
   "display_name": "Python 3",
   "language": "python",
   "name": "python3"
  },
  "language_info": {
   "codemirror_mode": {
    "name": "ipython",
    "version": 3
   },
   "file_extension": ".py",
   "mimetype": "text/x-python",
   "name": "python",
   "nbconvert_exporter": "python",
   "pygments_lexer": "ipython3",
   "version": "3.6.4"
  }
 },
 "nbformat": 4,
 "nbformat_minor": 2
}
